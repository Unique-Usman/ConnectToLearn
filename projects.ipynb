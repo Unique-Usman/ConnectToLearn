{
 "cells": [
  {
   "cell_type": "code",
   "execution_count": 9,
   "metadata": {},
   "outputs": [],
   "source": [
    "from langchain.document_loaders import PyPDFLoader\n",
    "from langchain.indexes import VectorstoreIndexCreator\n",
    "from langchain.chains import RetrievalQA\n",
    "from langchain.llms import OpenAI\n",
    "import os\n",
    "import openpyxl\n",
    "from openai_api_key import OPENAI_API_KEY"
   ]
  },
  {
   "cell_type": "code",
   "execution_count": 10,
   "metadata": {},
   "outputs": [],
   "source": [
    "os.environ[\"OPENAI_API_KEY\"] = OPENAI_API_KEY\n"
   ]
  },
  {
   "cell_type": "code",
   "execution_count": 11,
   "metadata": {},
   "outputs": [],
   "source": [
    "workbook = openpyxl.load_workbook(\"excel/responses.xlsx\")\n",
    "worksheet = workbook.active"
   ]
  },
  {
   "cell_type": "code",
   "execution_count": 12,
   "metadata": {},
   "outputs": [],
   "source": [
    "loader = PyPDFLoader(\"courses/FM121_CoursePlan.pdf\")\n",
    "pages = loader.load_and_split()"
   ]
  },
  {
   "cell_type": "code",
   "execution_count": 13,
   "metadata": {},
   "outputs": [],
   "source": [
    "# Create an index using the loaded documents\n",
    "index_creator = VectorstoreIndexCreator()\n",
    "docsearch = index_creator.from_loaders([loader])"
   ]
  },
  {
   "cell_type": "code",
   "execution_count": 14,
   "metadata": {},
   "outputs": [],
   "source": [
    "# Create a question-answering chain using the index\n",
    "chain = RetrievalQA.from_chain_type(\n",
    "    llm=OpenAI(temperature=0),\n",
    "    chain_type=\"stuff\",\n",
    "    retriever=docsearch.vectorstore.as_retriever(),\n",
    "    input_key=\"question\",\n",
    ")"
   ]
  },
  {
   "cell_type": "code",
   "execution_count": 28,
   "metadata": {},
   "outputs": [],
   "source": [
    "def answer_question():\n",
    "    query = f\"\"\"\n",
    "    As part of my university studies, I'm enrolled in a course called FM121: Programming and Data Structures. I have given you the course description for the same. I would like you to gain an understanding of the course content and suggest some projects that can enhance my learning experience in this subject. Try to make the projects as relevant to the course as possible. The projects should be practical, preferably have real-world applications and should be able to be completed in a span of 1-2 months. They should be challenging enough for a first-year university student with a computer science major. Be specific in your description of the projects, do not make them vague. The output should be in the form of a list of 5 projects. An example is given below in double backticks.\n",
    "    ``\n",
    "    1. Snakes Game (Arrays/Linked Lists)\n",
    "        - The snake game is one of the most popular games on Nokia phones, released in 1998\n",
    "        - Today there are over 300 snake-like games just for ios.\n",
    "        - We can also build a snake game using the Linked List concept of Data Structures.\n",
    "        - A linked list is a linear data structure in which elements are not stored in contiguous memory locations.\n",
    "        - This game is very similar to singly-linked lists, assuming that the snake head is the linked list tail and the snake tail is the linked list head.\n",
    "        - Whenever the snake eats the pay, an extra node is added to its tail, i.e., an extra node is added to the linked list head. The same process continues until the snake hits the boundary or itself.\n",
    "    2.  Cash Flow Minimiser (Graphs/Multisets/Heaps)\n",
    "        - Cash flow is the net balance of cash moving into or out of business at a specific time.\n",
    "        - An application cash flow minimizer can be built using Graphs concepts to minimize this cash flow.\n",
    "        - For example, Assume three friends: friend one, friend two, and friend three. Friend one has to give 4k to friend three and 2k to friend one.\n",
    "        - And friend two has to give 3k to friend three. Now minimize the flow between friend one and friend two by direct payment to friend three by friend one.\n",
    "        - An application can be created with the same mechanism for translation\n",
    "    3. Sudoku Solver (Backtracking)\n",
    "        - Sudoku is a popular and interesting puzzle solver game often found in the newspaper.\n",
    "        - This game has a board where you have to fill in integral values. \n",
    "        - With the help of a backtracking algorithm, we can build a sudoku solver.\n",
    "        - A backtracking algorithm is a technique for solving the problem s recursively by trying to build a solution incrementally, i.e., one Piece at a time, \n",
    "        - The backtracking algorithm will have a start point, an Intermediate checkpoint, a Point not getting the feasible solution, and an End with the feasible solution.\n",
    "        - Every Piece of the board will start from the starting point and reach the intermediate checkpoint.\n",
    "        - If the solution is not feasible, it will backtrack to the starting point. This process will continue until we get a feasible solution.\n",
    "    4. File Zipper(Greedy Huffman Encoder)\n",
    "        - There was a game like vice city where we used to compress and write into CDs and DVDs\n",
    "        - At that time, there were no pen drives, so these applications were more useful.\n",
    "        - We can also build the file zipper software using the greedy Huffman encoder.\n",
    "        - Huffman coding is a lossless data compression algorithm that uses the greedy technique for its implementation.\n",
    "        - This algorithm is based on the frequency of the character appearing in a file.\n",
    "        - The Huffman algorithm will accept the InputFile, encode it to a Huffman-coded file, and store it. The user can decode it into an original file if they need to\n",
    "\n",
    "    `` \n",
    "    \"\"\"\n",
    "    response = chain({\"question\": query})\n",
    "    return response['result']"
   ]
  },
  {
   "cell_type": "code",
   "execution_count": 29,
   "metadata": {},
   "outputs": [
    {
     "name": "stdout",
     "output_type": "stream",
     "text": [
      "\n",
      "1. Image Compression (Greedy Huffman Encoder)\n",
      "    - Image compression is a process of reducing the size of an image without compromising its quality.\n",
      "    - We can build an image compression application using the greedy Huffman encoder.\n",
      "    - Huffman coding is a lossless data compression algorithm that uses the greedy technique for its implementation.\n",
      "    - This algorithm is based on the frequency of the character appearing in a file.\n",
      "    - The Huffman algorithm will accept the InputFile, encode it to a Huffman-coded file, and store it. The user can decode it into an original file if they need to.\n",
      "2. Text Summarization (Recursion)\n",
      "    - Text summarization is the process of reducing a text document with a computer program in order to create a summary that retains the most important points of the original document.\n",
      "    - We can build a text summarization application using the recursion concept.\n",
      "    - Recursion is a technique for solving problems that involves breaking a problem down into smaller and smaller subproblems until you get to a small enough problem that it can be solved trivially.\n",
      "    - The application will accept the input text, break it down into smaller subproblems,\n"
     ]
    }
   ],
   "source": [
    "print(answer_question())"
   ]
  }
 ],
 "metadata": {
  "kernelspec": {
   "display_name": "Python 3",
   "language": "python",
   "name": "python3"
  },
  "language_info": {
   "codemirror_mode": {
    "name": "ipython",
    "version": 3
   },
   "file_extension": ".py",
   "mimetype": "text/x-python",
   "name": "python",
   "nbconvert_exporter": "python",
   "pygments_lexer": "ipython3",
   "version": "3.10.6"
  },
  "orig_nbformat": 4
 },
 "nbformat": 4,
 "nbformat_minor": 2
}
