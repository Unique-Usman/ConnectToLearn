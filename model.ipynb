{
 "cells": [
  {
   "cell_type": "code",
   "execution_count": 1,
   "metadata": {},
   "outputs": [],
   "source": [
    "from langchain.document_loaders import UnstructuredExcelLoader\n",
    "from langchain.indexes import VectorstoreIndexCreator\n",
    "from langchain.chains import RetrievalQA\n",
    "from langchain.llms import OpenAI\n",
    "import os\n",
    "import openpyxl\n",
    "import json\n",
    "from openai_api_key import OPENAI_API_KEY"
   ]
  },
  {
   "cell_type": "code",
   "execution_count": 2,
   "metadata": {},
   "outputs": [],
   "source": [
    "os.environ[\"OPENAI_API_KEY\"] = OPENAI_API_KEY\n"
   ]
  },
  {
   "cell_type": "code",
   "execution_count": 3,
   "metadata": {},
   "outputs": [],
   "source": [
    "workbook = openpyxl.load_workbook(\"responses.xlsx\")\n",
    "worksheet = workbook.active"
   ]
  },
  {
   "cell_type": "code",
   "execution_count": 4,
   "metadata": {},
   "outputs": [],
   "source": [
    "loader = UnstructuredExcelLoader(\n",
    "    \"faculty.xlsx\",\n",
    "    mode=\"elements\",\n",
    ")\n",
    "docs = loader.load()"
   ]
  },
  {
   "cell_type": "code",
   "execution_count": 5,
   "metadata": {},
   "outputs": [],
   "source": [
    "# Create an index using the loaded documents\n",
    "index_creator = VectorstoreIndexCreator()\n",
    "docsearch = index_creator.from_loaders([loader])"
   ]
  },
  {
   "cell_type": "code",
   "execution_count": 6,
   "metadata": {},
   "outputs": [],
   "source": [
    "# Create a question-answering chain using the index\n",
    "chain = RetrievalQA.from_chain_type(llm=OpenAI(temperature=0), chain_type=\"stuff\", retriever=docsearch.vectorstore.as_retriever(), input_key=\"question\")"
   ]
  },
  {
   "cell_type": "code",
   "execution_count": 7,
   "metadata": {},
   "outputs": [],
   "source": [
    "def answer_question(field_of_interest):\n",
    "    query = f\"\"\"\n",
    "    I have given you a list of my professors and their backgrounds. I want you to take your time to understand and remember this information. I will give you an area of interest and you need to tell me which professors have the most relevant experience in that area, so that I can go and speak to them regarding the same. Give me the names of the professors, along with your reasoning as to why they are the ideal people to speak to. Your output should be in a JSON format, with the keys 'name' and 'reasoning'. An example is given below in double backticks: \n",
    "    ``\n",
    "    [\n",
    "    {{\n",
    "        \"name\": \"Prof. A\",\n",
    "        \"reasoning\": \"\"\n",
    "    }},\n",
    "    {{\n",
    "        \"name\": \"Prof. B\",\n",
    "        \"reasoning\": \"\"\n",
    "    }}\n",
    "    ]\n",
    "    ``\n",
    "    Output only the JSON response, without the backticks.\n",
    "\n",
    "    My first prompt is the following, enclosed within triple backticks:\n",
    "    ```\n",
    "    I am interested in {field_of_interest}.\n",
    "    ```\n",
    "    \"\"\"\n",
    "    response = chain({\"question\": query})\n",
    "    print(response['result'])\n",
    "    response = json.loads(response['result'])\n",
    "    for i in response:\n",
    "        worksheet.append([field_of_interest, i['name'], i['reasoning']])"
   ]
  },
  {
   "cell_type": "code",
   "execution_count": 8,
   "metadata": {},
   "outputs": [
    {
     "name": "stdout",
     "output_type": "stream",
     "text": [
      "\n",
      "[\n",
      "    {\n",
      "        \"name\": \"Amit Sheth\",\n",
      "        \"reasoning\": \"Specializes in Design Thinking\"\n",
      "    }\n",
      "]\n"
     ]
    }
   ],
   "source": [
    "answer_question(\"design thinking and innovation\")"
   ]
  },
  {
   "cell_type": "code",
   "execution_count": 9,
   "metadata": {},
   "outputs": [
    {
     "name": "stdout",
     "output_type": "stream",
     "text": [
      "\n",
      "[\n",
      "    {\n",
      "        \"name\": \"Aditya Malik\",\n",
      "        \"reasoning\": \"He is trained in Philosophy, Archaeology, Religious Studies, History, and Social Anthropology and has a doctorate and Habilitation (professorial degree) in South Asian Religions and Modern Indian Studies from the University of Heidelberg.\"\n",
      "    },\n",
      "    {\n",
      "        \"name\": \"Brainerd Prince\",\n",
      "        \"reasoning\": \"He is trained in Philosophy, Archaeology, Religious Studies, History, and Social Anthropology and has a doctorate and Habilitation (professorial degree) in South Asian Religions and Modern Indian Studies from the University of Heidelberg.\"\n",
      "    }\n",
      "]\n"
     ]
    }
   ],
   "source": [
    "answer_question(\"philosophy\")"
   ]
  },
  {
   "cell_type": "code",
   "execution_count": 10,
   "metadata": {},
   "outputs": [
    {
     "name": "stdout",
     "output_type": "stream",
     "text": [
      "\n",
      "[\n",
      "    {\n",
      "        \"name\": \"Amrik Sen\",\n",
      "        \"reasoning\": \"He is a Lecturer of Applied Math and Postdoctoral Fellow at Harvard University, USA\"\n",
      "    },\n",
      "    {\n",
      "        \"name\": \"Aditya Malik\",\n",
      "        \"reasoning\": \"He is a Faculty at FLAME University, Pune, India\"\n",
      "    }\n",
      "]\n"
     ]
    }
   ],
   "source": [
    "answer_question(\"applied mathematics\")"
   ]
  },
  {
   "cell_type": "code",
   "execution_count": 11,
   "metadata": {},
   "outputs": [
    {
     "name": "stdout",
     "output_type": "stream",
     "text": [
      "\n",
      "[\n",
      "    {\n",
      "        \"name\": \"Amruta R Behra\",\n",
      "        \"reasoning\": \"Prof. Amruta R Behra specializes in IOT systems.\"\n",
      "    }\n",
      "]\n"
     ]
    }
   ],
   "source": [
    "answer_question(\"IOT systems\")"
   ]
  },
  {
   "cell_type": "code",
   "execution_count": 12,
   "metadata": {},
   "outputs": [
    {
     "name": "stdout",
     "output_type": "stream",
     "text": [
      "\n",
      "[\n",
      "    {\n",
      "        \"name\": \"Anupam Sobti\",\n",
      "        \"reasoning\": \"My research interest lies at the intersection of computer vision, machine learning and embedded systems. Smart sensors, assistive devices, wearable health monitoring systems, etc. require robust and latency-sensitive sensing and actuation. Therefore, these applications require innovation across sensing techniques, perception algorithms and energy optimization techniques in software and hardware.\"\n",
      "    }\n",
      "]\n"
     ]
    }
   ],
   "source": [
    "answer_question(\"Embedded systems and machine learning\")"
   ]
  },
  {
   "cell_type": "code",
   "execution_count": 13,
   "metadata": {},
   "outputs": [
    {
     "name": "stdout",
     "output_type": "stream",
     "text": [
      "\n",
      "[\n",
      "    {\n",
      "        \"name\": \"Dr. Shashikant Pawar\",\n",
      "        \"reasoning\": \"Specializes in Fluid Mechanics and Heat Transfer, with research interests in the areas of Environmental Flows, Microclimate Studies, Bio-inspired Energy-efficient and Sustainable Systems, Light Propagation through Turbulent Media, and Engineering Education.\"\n",
      "    },\n",
      "    {\n",
      "        \"name\": \"Dhiraj Sinha\",\n",
      "        \"reasoning\": \"Specializes in Thermodynamics and electromechanical systems.\"\n",
      "    }\n",
      "]\n"
     ]
    }
   ],
   "source": [
    "answer_question(\"Thermodynamics\")"
   ]
  },
  {
   "cell_type": "code",
   "execution_count": 14,
   "metadata": {},
   "outputs": [
    {
     "name": "stdout",
     "output_type": "stream",
     "text": [
      "\n",
      "[\n",
      "    {\n",
      "        \"name\": \"Gopi\",\n",
      "        \"reasoning\": \"Gopi has experience in operating systems and cybersecurity\"\n",
      "    }\n",
      "]\n"
     ]
    }
   ],
   "source": [
    "answer_question(\"cyber security\")"
   ]
  },
  {
   "cell_type": "code",
   "execution_count": 15,
   "metadata": {},
   "outputs": [
    {
     "name": "stdout",
     "output_type": "stream",
     "text": [
      "\n",
      "[\n",
      "    {\n",
      "        \"name\": \"Dr. Shashikant Pawar\",\n",
      "        \"reasoning\": \"Dr. Shashikant Pawar has expertise in working with major Indian labor-force and employment surveys, industrial surveys, and judicial data - including PLFS, NSS Employment and Unemployment Surveys, ASI, and NJDG datasets. He has also developed a dynamic heterogeneous-agents model for developing countries which links financial development to per capita income.\"\n",
      "    },\n",
      "    {\n",
      "        \"name\": \"Assistant Professor of Economics, Plaksha University\",\n",
      "        \"reasoning\": \"Assistant Professor of Economics, Plaksha University has a Ph.D. in Economics from Erasmus University Rotterdam and a M.A. in Economics from Delhi School of Economics. They specialize in Macrofinance, Financial Disclosure and Reporting, Labor Economics, Education, Development Economics, Quantitative Marketing, and Strategic Management.\"\n",
      "    }\n",
      "]\n"
     ]
    }
   ],
   "source": [
    "answer_question(\"micro and macro economics\")"
   ]
  },
  {
   "cell_type": "code",
   "execution_count": 16,
   "metadata": {},
   "outputs": [
    {
     "name": "stdout",
     "output_type": "stream",
     "text": [
      "\n",
      "[\n",
      "    {\n",
      "        \"name\": \"Dr. Shashikant Pawar\",\n",
      "        \"reasoning\": \"Dr. Shashikant Pawar is a Mechanical Engineer by training and profession, but his research interests lie in the areas of Environmental Flows, Microclimate Studies, Bio-inspired Energy-efficient and Sustainable Systems, Light Propagation through Turbulent Media, and Engineering Education, which are all related to biology.\"\n",
      "    },\n",
      "    {\n",
      "        \"name\": \"Manoj Kannan\",\n",
      "        \"reasoning\": \"Manoj Kannan is a professor specializing in Genetics, making him the ideal person to speak to regarding biology, particularly genetics.\"\n",
      "    }\n",
      "]\n"
     ]
    }
   ],
   "source": [
    "answer_question(\"biology, preferably genetics\")"
   ]
  },
  {
   "cell_type": "code",
   "execution_count": 17,
   "metadata": {},
   "outputs": [],
   "source": [
    "workbook.save(\"responses.xlsx\")"
   ]
  }
 ],
 "metadata": {
  "kernelspec": {
   "display_name": "Python 3",
   "language": "python",
   "name": "python3"
  },
  "language_info": {
   "codemirror_mode": {
    "name": "ipython",
    "version": 3
   },
   "file_extension": ".py",
   "mimetype": "text/x-python",
   "name": "python",
   "nbconvert_exporter": "python",
   "pygments_lexer": "ipython3",
   "version": "3.10.6"
  },
  "orig_nbformat": 4
 },
 "nbformat": 4,
 "nbformat_minor": 2
}
