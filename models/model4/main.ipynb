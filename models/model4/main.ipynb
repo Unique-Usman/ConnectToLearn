{
 "cells": [
  {
   "cell_type": "code",
   "execution_count": 1,
   "metadata": {},
   "outputs": [],
   "source": [
    "from langchain.document_loaders import PyPDFLoader\n",
    "import os\n",
    "from langchain.document_loaders import UnstructuredExcelLoader\n",
    "from config import OPENAI_API_KEY\n",
    "\n",
    "\n",
    "# loader = PyPDFLoader(\"../prof.pdf\")\n",
    "loader = UnstructuredExcelLoader(\n",
    "    \"../excel/faculty.xlsx\"\n",
    ")\n",
    "# loader = PyPDFLoader(\"../prof.pdf\")\n",
    "data = loader.load()"
   ]
  },
  {
   "cell_type": "code",
   "execution_count": 2,
   "metadata": {},
   "outputs": [],
   "source": [
    "from langchain.text_splitter import RecursiveCharacterTextSplitter\n",
    "text_splitter = RecursiveCharacterTextSplitter(chunk_size = 1000, chunk_overlap = 200)\n",
    "all_splits = text_splitter.split_documents(data)"
   ]
  },
  {
   "cell_type": "code",
   "execution_count": 4,
   "metadata": {},
   "outputs": [],
   "source": [
    "# Store \n",
    "from langchain.vectorstores import Chroma\n",
    "from langchain.embeddings import OpenAIEmbeddings\n",
    "plaksha_faculty = Chroma.from_documents(documents=all_splits,embedding=OpenAIEmbeddings())\n"
   ]
  },
  {
   "cell_type": "code",
   "execution_count": 5,
   "metadata": {},
   "outputs": [],
   "source": [
    "from langchain.memory import ConversationBufferMemory\n",
    "from langchain.chat_models import ChatOpenAI\n",
    "memory = ConversationBufferMemory(memory_key=\"chat_history\", return_messages=True)"
   ]
  },
  {
   "cell_type": "code",
   "execution_count": 6,
   "metadata": {},
   "outputs": [],
   "source": [
    "from langchain.chains import ConversationalRetrievalChain\n",
    "\n",
    "chat = ConversationalRetrievalChain.from_llm(llm=ChatOpenAI(temperature=0, model=\"gpt-4\"),chain_type=\"stuff\",retriever=plaksha_faculty.as_retriever(),memory=memory)"
   ]
  },
  {
   "cell_type": "code",
   "execution_count": 7,
   "metadata": {},
   "outputs": [
    {
     "name": "stdout",
     "output_type": "stream",
     "text": [
      "{'question': 'Tell me about someone in medical AI', 'chat_history': [HumanMessage(content='Tell me about someone in medical AI', additional_kwargs={}, example=False), AIMessage(content='Professor Chauhan has extensive experience in the field of medical AI. Her current research interests include Medical/Surgical Robotics, which involves state of the art surgical assist technologies such as Computer Assisted and Integrated Surgery (CAS/CIS) systems. This includes safety driven design, development, and intelligent control of novel medical/surgical robotic systems for minimally invasive and non-invasive surgery. She also works on surgical training and automated assessment using AI based deep-learning methodologies.', additional_kwargs={}, example=False)], 'answer': 'Professor Chauhan has extensive experience in the field of medical AI. Her current research interests include Medical/Surgical Robotics, which involves state of the art surgical assist technologies such as Computer Assisted and Integrated Surgery (CAS/CIS) systems. This includes safety driven design, development, and intelligent control of novel medical/surgical robotic systems for minimally invasive and non-invasive surgery. She also works on surgical training and automated assessment using AI based deep-learning methodologies.'}\n"
     ]
    }
   ],
   "source": [
    "query = \"Tell me about someone in medical AI\"\n",
    "result = chat({\"question\": query})\n",
    "print(result)"
   ]
  },
  {
   "cell_type": "code",
   "execution_count": 8,
   "metadata": {},
   "outputs": [
    {
     "name": "stdout",
     "output_type": "stream",
     "text": [
      "{'question': 'Give me another person apart from Sunita', 'chat_history': [HumanMessage(content='Tell me about someone in medical AI', additional_kwargs={}, example=False), AIMessage(content='Professor Chauhan has extensive experience in the field of medical AI. Her current research interests include Medical/Surgical Robotics, which involves state of the art surgical assist technologies such as Computer Assisted and Integrated Surgery (CAS/CIS) systems. This includes safety driven design, development, and intelligent control of novel medical/surgical robotic systems for minimally invasive and non-invasive surgery. She also works on surgical training and automated assessment using AI based deep-learning methodologies.', additional_kwargs={}, example=False), HumanMessage(content='Give me another person apart from Sunita', additional_kwargs={}, example=False), AIMessage(content=\"I'm sorry, but the information provided does not include details about another person in the field of medical AI other than Professor Chauhan.\", additional_kwargs={}, example=False)], 'answer': \"I'm sorry, but the information provided does not include details about another person in the field of medical AI other than Professor Chauhan.\"}\n"
     ]
    }
   ],
   "source": [
    "query = \"Give me another person apart from Sunita\"\n",
    "result = chat({\"question\": query})\n",
    "print(result)"
   ]
  },
  {
   "cell_type": "code",
   "execution_count": 9,
   "metadata": {},
   "outputs": [
    {
     "name": "stdout",
     "output_type": "stream",
     "text": [
      "{'question': 'recommend a professor for learning robotics from', 'chat_history': [HumanMessage(content='Tell me about someone in medical AI', additional_kwargs={}, example=False), AIMessage(content='Professor Chauhan has extensive experience in the field of medical AI. Her current research interests include Medical/Surgical Robotics, which involves state of the art surgical assist technologies such as Computer Assisted and Integrated Surgery (CAS/CIS) systems. This includes safety driven design, development, and intelligent control of novel medical/surgical robotic systems for minimally invasive and non-invasive surgery. She also works on surgical training and automated assessment using AI based deep-learning methodologies.', additional_kwargs={}, example=False), HumanMessage(content='Give me another person apart from Sunita', additional_kwargs={}, example=False), AIMessage(content=\"I'm sorry, but the information provided does not include details about another person in the field of medical AI other than Professor Chauhan.\", additional_kwargs={}, example=False), HumanMessage(content='recommend a professor for learning robotics from', additional_kwargs={}, example=False), AIMessage(content='Based on the information provided, Professor Sunita Chauhan would be a suitable choice for learning robotics. She has extensive experience in the field, having served as the Director of Robotics and Mechatronics Engineering at Monash University, Australia, and currently being a Professor and Founding Director of the Center for Digital Healthcare at Plaksha University. Her research interests include Robotics and Applied Machine Learning, and Robotics for Marine and Agriculture.', additional_kwargs={}, example=False)], 'answer': 'Based on the information provided, Professor Sunita Chauhan would be a suitable choice for learning robotics. She has extensive experience in the field, having served as the Director of Robotics and Mechatronics Engineering at Monash University, Australia, and currently being a Professor and Founding Director of the Center for Digital Healthcare at Plaksha University. Her research interests include Robotics and Applied Machine Learning, and Robotics for Marine and Agriculture.'}\n"
     ]
    }
   ],
   "source": [
    "query = \"recommend a professor for learning robotics from\"\n",
    "result = chat({\"question\": \"recommend a professor for learning robotics from\"})\n",
    "print(result)\n"
   ]
  },
  {
   "cell_type": "code",
   "execution_count": 10,
   "metadata": {},
   "outputs": [],
   "source": [
    "result = chat({\"question\": \"who is anupam sobti\"})"
   ]
  },
  {
   "cell_type": "code",
   "execution_count": 11,
   "metadata": {},
   "outputs": [
    {
     "name": "stdout",
     "output_type": "stream",
     "text": [
      "{'question': 'who is anupam sobti', 'chat_history': [HumanMessage(content='Tell me about someone in medical AI', additional_kwargs={}, example=False), AIMessage(content='Professor Chauhan has extensive experience in the field of medical AI. Her current research interests include Medical/Surgical Robotics, which involves state of the art surgical assist technologies such as Computer Assisted and Integrated Surgery (CAS/CIS) systems. This includes safety driven design, development, and intelligent control of novel medical/surgical robotic systems for minimally invasive and non-invasive surgery. She also works on surgical training and automated assessment using AI based deep-learning methodologies.', additional_kwargs={}, example=False), HumanMessage(content='Give me another person apart from Sunita', additional_kwargs={}, example=False), AIMessage(content=\"I'm sorry, but the information provided does not include details about another person in the field of medical AI other than Professor Chauhan.\", additional_kwargs={}, example=False), HumanMessage(content='recommend a professor for learning robotics from', additional_kwargs={}, example=False), AIMessage(content='Based on the information provided, Professor Sunita Chauhan would be a suitable choice for learning robotics. She has extensive experience in the field, having served as the Director of Robotics and Mechatronics Engineering at Monash University, Australia, and currently being a Professor and Founding Director of the Center for Digital Healthcare at Plaksha University. Her research interests include Robotics and Applied Machine Learning, and Robotics for Marine and Agriculture.', additional_kwargs={}, example=False), HumanMessage(content='who is anupam sobti', additional_kwargs={}, example=False), AIMessage(content=\"I'm sorry, but I don't have any information about Anupam Sobti.\", additional_kwargs={}, example=False)], 'answer': \"I'm sorry, but I don't have any information about Anupam Sobti.\"}\n"
     ]
    }
   ],
   "source": [
    "print(result)"
   ]
  },
  {
   "cell_type": "code",
   "execution_count": null,
   "metadata": {},
   "outputs": [],
   "source": [
    "result = chat({\"question\": \"recommend a professor who have experience in social service\"})"
   ]
  },
  {
   "cell_type": "code",
   "execution_count": null,
   "metadata": {},
   "outputs": [],
   "source": [
    "print(result)"
   ]
  },
  {
   "cell_type": "code",
   "execution_count": 12,
   "metadata": {},
   "outputs": [],
   "source": [
    "result = chat({\"question\": \"Recommend a professor who has experience in embedding system\"})"
   ]
  },
  {
   "cell_type": "code",
   "execution_count": 13,
   "metadata": {},
   "outputs": [
    {
     "name": "stdout",
     "output_type": "stream",
     "text": [
      "{'question': 'Recommend a professor who has experience in embedding system', 'chat_history': [HumanMessage(content='Tell me about someone in medical AI', additional_kwargs={}, example=False), AIMessage(content='Professor Chauhan has extensive experience in the field of medical AI. Her current research interests include Medical/Surgical Robotics, which involves state of the art surgical assist technologies such as Computer Assisted and Integrated Surgery (CAS/CIS) systems. This includes safety driven design, development, and intelligent control of novel medical/surgical robotic systems for minimally invasive and non-invasive surgery. She also works on surgical training and automated assessment using AI based deep-learning methodologies.', additional_kwargs={}, example=False), HumanMessage(content='Give me another person apart from Sunita', additional_kwargs={}, example=False), AIMessage(content=\"I'm sorry, but the information provided does not include details about another person in the field of medical AI other than Professor Chauhan.\", additional_kwargs={}, example=False), HumanMessage(content='recommend a professor for learning robotics from', additional_kwargs={}, example=False), AIMessage(content='Based on the information provided, Professor Sunita Chauhan would be a suitable choice for learning robotics. She has extensive experience in the field, having served as the Director of Robotics and Mechatronics Engineering at Monash University, Australia, and currently being a Professor and Founding Director of the Center for Digital Healthcare at Plaksha University. Her research interests include Robotics and Applied Machine Learning, and Robotics for Marine and Agriculture.', additional_kwargs={}, example=False), HumanMessage(content='who is anupam sobti', additional_kwargs={}, example=False), AIMessage(content=\"I'm sorry, but I don't have any information about Anupam Sobti.\", additional_kwargs={}, example=False), HumanMessage(content='Recommend a professor who has experience in embedding system', additional_kwargs={}, example=False), AIMessage(content='Yes, Dr. Anupam Sobti has experience in the field of embedded systems. He has worked on software development for Electronic Control Units for various automotive applications and his research interest lies at the intersection of computer vision, machine learning, and embedded systems. He is currently an Assistant Professor at Plaksha University.', additional_kwargs={}, example=False)], 'answer': 'Yes, Dr. Anupam Sobti has experience in the field of embedded systems. He has worked on software development for Electronic Control Units for various automotive applications and his research interest lies at the intersection of computer vision, machine learning, and embedded systems. He is currently an Assistant Professor at Plaksha University.'}\n"
     ]
    }
   ],
   "source": [
    "print(result)"
   ]
  },
  {
   "cell_type": "code",
   "execution_count": 14,
   "metadata": {},
   "outputs": [],
   "source": [
    "result = chat({\"question\": \"Tell me about Anupam Sobti\"})"
   ]
  },
  {
   "cell_type": "code",
   "execution_count": 15,
   "metadata": {},
   "outputs": [
    {
     "name": "stdout",
     "output_type": "stream",
     "text": [
      "{'question': 'Tell me about Anupam Sobti', 'chat_history': [HumanMessage(content='Tell me about someone in medical AI', additional_kwargs={}, example=False), AIMessage(content='Professor Chauhan has extensive experience in the field of medical AI. Her current research interests include Medical/Surgical Robotics, which involves state of the art surgical assist technologies such as Computer Assisted and Integrated Surgery (CAS/CIS) systems. This includes safety driven design, development, and intelligent control of novel medical/surgical robotic systems for minimally invasive and non-invasive surgery. She also works on surgical training and automated assessment using AI based deep-learning methodologies.', additional_kwargs={}, example=False), HumanMessage(content='Give me another person apart from Sunita', additional_kwargs={}, example=False), AIMessage(content=\"I'm sorry, but the information provided does not include details about another person in the field of medical AI other than Professor Chauhan.\", additional_kwargs={}, example=False), HumanMessage(content='recommend a professor for learning robotics from', additional_kwargs={}, example=False), AIMessage(content='Based on the information provided, Professor Sunita Chauhan would be a suitable choice for learning robotics. She has extensive experience in the field, having served as the Director of Robotics and Mechatronics Engineering at Monash University, Australia, and currently being a Professor and Founding Director of the Center for Digital Healthcare at Plaksha University. Her research interests include Robotics and Applied Machine Learning, and Robotics for Marine and Agriculture.', additional_kwargs={}, example=False), HumanMessage(content='who is anupam sobti', additional_kwargs={}, example=False), AIMessage(content=\"I'm sorry, but I don't have any information about Anupam Sobti.\", additional_kwargs={}, example=False), HumanMessage(content='Recommend a professor who has experience in embedding system', additional_kwargs={}, example=False), AIMessage(content='Yes, Dr. Anupam Sobti has experience in the field of embedded systems. He has worked on software development for Electronic Control Units for various automotive applications and his research interest lies at the intersection of computer vision, machine learning, and embedded systems. He is currently an Assistant Professor at Plaksha University.', additional_kwargs={}, example=False), HumanMessage(content='Tell me about Anupam Sobti', additional_kwargs={}, example=False), AIMessage(content=\"I'm sorry, but I don't have any information about Anupam Sobti.\", additional_kwargs={}, example=False)], 'answer': \"I'm sorry, but I don't have any information about Anupam Sobti.\"}\n"
     ]
    }
   ],
   "source": [
    "print(result)"
   ]
  },
  {
   "cell_type": "code",
   "execution_count": null,
   "metadata": {},
   "outputs": [],
   "source": []
  }
 ],
 "metadata": {
  "kernelspec": {
   "display_name": "Python 3",
   "language": "python",
   "name": "python3"
  },
  "language_info": {
   "codemirror_mode": {
    "name": "ipython",
    "version": 3
   },
   "file_extension": ".py",
   "mimetype": "text/x-python",
   "name": "python",
   "nbconvert_exporter": "python",
   "pygments_lexer": "ipython3",
   "version": "3.10.6"
  },
  "orig_nbformat": 4
 },
 "nbformat": 4,
 "nbformat_minor": 2
}
