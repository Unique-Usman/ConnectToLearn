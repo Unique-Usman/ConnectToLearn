{
 "cells": [
  {
   "cell_type": "code",
   "execution_count": 1,
   "metadata": {},
   "outputs": [],
   "source": [
    "from langchain.document_loaders import PyPDFLoader\n",
    "import os\n",
    "\n",
    "from langchain.document_loaders import UnstructuredExcelLoader\n",
    "from config import OPENAI_API_KEY\n",
    "\n",
    "\n",
    "# loader = PyPDFLoader(\"../prof.pdf\")\n",
    "loader = UnstructuredExcelLoader(\n",
    "    \"../excel/faculty.xlsx\"\n",
    ")\n",
    "# loader = PyPDFLoader(\"../prof.pdf\")\n",
    "data = loader.load()"
   ]
  },
  {
   "cell_type": "code",
   "execution_count": 2,
   "metadata": {},
   "outputs": [],
   "source": [
    "from langchain.text_splitter import RecursiveCharacterTextSplitter\n",
    "text_splitter = RecursiveCharacterTextSplitter(chunk_size = 1000, chunk_overlap = 200)\n",
    "all_splits = text_splitter.split_documents(data)"
   ]
  },
  {
   "cell_type": "code",
   "execution_count": 3,
   "metadata": {},
   "outputs": [],
   "source": [
    "# Store \n",
    "from langchain.vectorstores import Chroma\n",
    "from langchain.embeddings import OpenAIEmbeddings\n",
    "plaksha_faculty = Chroma.from_documents(documents=all_splits,embedding=OpenAIEmbeddings())\n"
   ]
  },
  {
   "cell_type": "code",
   "execution_count": 4,
   "metadata": {},
   "outputs": [],
   "source": [
    "from langchain.memory import ConversationBufferMemory\n",
    "from langchain.chat_models import ChatOpenAI\n",
    "memory = ConversationBufferMemory(memory_key=\"chat_history\", return_messages=True)"
   ]
  },
  {
   "cell_type": "code",
   "execution_count": 5,
   "metadata": {},
   "outputs": [],
   "source": [
    "from langchain.chains import ConversationalRetrievalChain\n",
    "from langchain.retrievers.multi_query import MultiQueryRetriever\n",
    "\n",
    "MultiQueryRetriever.from_llm(\n",
    "    retriever=plaksha_faculty.as_retriever(),llm=ChatOpenAI(temperature=0, model=\"gpt-4\")\n",
    ")\n",
    "chat = ConversationalRetrievalChain.from_llm(llm=ChatOpenAI(temperature=0, model=\"gpt-4\"),chain_type=\"stuff\",retriever=plaksha_faculty.as_retriever(),memory=memory)"
   ]
  },
  {
   "cell_type": "code",
   "execution_count": 6,
   "metadata": {},
   "outputs": [
    {
     "name": "stdout",
     "output_type": "stream",
     "text": [
      "{'question': 'Who is Mannoj Kannan', 'chat_history': [HumanMessage(content='Who is Mannoj Kannan', additional_kwargs={}, example=False), AIMessage(content=\"Dr. Manoj Kannan is a professor who joined Plaksha University after teaching various courses in biological sciences and introductory courses in computer programming at both the Dubai and Pilani campuses of BITS Pilani for nearly 15 years. He has also provided academic counseling, mentoring, and student support. He completed his PhD at the National Institutes of Health, Maryland, focusing on the epigenetic control of mammalian transposons. His current research is in biology education research, particularly Integrated Course Design using Fink's Taxonomy of Significant Learning. He has also worked on creating and implementing new assessment strategies to promote effective learning. He continues to be a resource person for faculty development programs at universities and schools through the Collaboratory for Innovation in Education at Plaksha.\", additional_kwargs={}, example=False)], 'answer': \"Dr. Manoj Kannan is a professor who joined Plaksha University after teaching various courses in biological sciences and introductory courses in computer programming at both the Dubai and Pilani campuses of BITS Pilani for nearly 15 years. He has also provided academic counseling, mentoring, and student support. He completed his PhD at the National Institutes of Health, Maryland, focusing on the epigenetic control of mammalian transposons. His current research is in biology education research, particularly Integrated Course Design using Fink's Taxonomy of Significant Learning. He has also worked on creating and implementing new assessment strategies to promote effective learning. He continues to be a resource person for faculty development programs at universities and schools through the Collaboratory for Innovation in Education at Plaksha.\"}\n"
     ]
    }
   ],
   "source": [
    "query = \"Who is Mannoj Kannan\"\n",
    "result = chat({\"question\": query})\n",
    "print(result)"
   ]
  },
  {
   "cell_type": "code",
   "execution_count": null,
   "metadata": {},
   "outputs": [],
   "source": [
    "query = \"Give me another person apart from Sunita\"\n",
    "result = chat({\"question\": query})\n",
    "print(result)"
   ]
  },
  {
   "cell_type": "code",
   "execution_count": null,
   "metadata": {},
   "outputs": [],
   "source": [
    "query = \"recommend a professor for learning robotics from\"\n",
    "result = chat({\"question\": \"recommend a professor for learning robotics from\"})\n",
    "print(result)\n"
   ]
  },
  {
   "cell_type": "code",
   "execution_count": null,
   "metadata": {},
   "outputs": [],
   "source": [
    "result = chat({\"question\": \"who is anupam sobti\"})"
   ]
  },
  {
   "cell_type": "code",
   "execution_count": null,
   "metadata": {},
   "outputs": [],
   "source": [
    "print(result)"
   ]
  },
  {
   "cell_type": "code",
   "execution_count": null,
   "metadata": {},
   "outputs": [],
   "source": [
    "result = chat({\"question\": \"recommend a professor who have experience in social service\"})"
   ]
  },
  {
   "cell_type": "code",
   "execution_count": null,
   "metadata": {},
   "outputs": [],
   "source": [
    "print(result)"
   ]
  },
  {
   "cell_type": "code",
   "execution_count": null,
   "metadata": {},
   "outputs": [],
   "source": [
    "result = chat({\"question\": \"Recommend a professor who has experience in embedding system\"})"
   ]
  },
  {
   "cell_type": "code",
   "execution_count": null,
   "metadata": {},
   "outputs": [],
   "source": [
    "print(result)"
   ]
  },
  {
   "cell_type": "code",
   "execution_count": null,
   "metadata": {},
   "outputs": [],
   "source": [
    "result = chat({\"question\": \"Tell me about Anupam Sobti\"})"
   ]
  },
  {
   "cell_type": "code",
   "execution_count": null,
   "metadata": {},
   "outputs": [],
   "source": [
    "print(result)"
   ]
  },
  {
   "cell_type": "code",
   "execution_count": null,
   "metadata": {},
   "outputs": [],
   "source": []
  }
 ],
 "metadata": {
  "kernelspec": {
   "display_name": "Python 3",
   "language": "python",
   "name": "python3"
  },
  "language_info": {
   "codemirror_mode": {
    "name": "ipython",
    "version": 3
   },
   "file_extension": ".py",
   "mimetype": "text/x-python",
   "name": "python",
   "nbconvert_exporter": "python",
   "pygments_lexer": "ipython3",
   "version": "3.10.12"
  },
  "orig_nbformat": 4
 },
 "nbformat": 4,
 "nbformat_minor": 2
}
