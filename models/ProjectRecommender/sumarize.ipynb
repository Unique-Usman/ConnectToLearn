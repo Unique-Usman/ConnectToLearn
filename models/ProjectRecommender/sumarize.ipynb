{
 "cells": [
  {
   "cell_type": "code",
   "execution_count": 89,
   "metadata": {},
   "outputs": [
    {
     "name": "stdout",
     "output_type": "stream",
     "text": [
      "Human Hello \n",
      "AI Hello How can I assist you today Do you already have a specific project idea or research topic in mind If yes please provide a brief description\n",
      "Human I heard about turing machine and I want to do a project about it\n",
      "AI That sounds like a fascinating project The Turing Machine is a foundational concept in computer science Heres a stepbystep guide to help you get started on your project\n",
      "\n",
      "1 Understand the Basics Before diving into the project ensure you have a clear understanding of the concept of a Turing Machine You should be familiar with its theoretical structure including the tape the head and the state register Learn about the rules governing its operation and how it reads and writes symbols on the tape\n",
      "\n",
      "2 Research Gather information on different types of Turing Machines  like Universal Turing Machines Multitape Turing Machines and Nondeterministic Turing Machines Understand their workings and differences\n",
      "\n",
      "3 Project Planning Decide on the scope of your project You could either create a simple model of a Turing Machine or simulate a Universal Turing Machine that can compute any algorithm\n",
      "\n",
      "4 Software Selection Identify the software you would need to simulate a Turing Machine You could consider using Python or Java as both have libraries that could be useful for this project\n",
      "\n",
      "5 Implementation Start building your Turing Machine This includes coding the machines ability to read and write on the tape move the head and follow the state transition rules Document your progress and any issues you encounter\n",
      "\n",
      "6 Testing Once your Turing Machine is complete test it thoroughly Try using different inputs and ensure the outputs are correct\n",
      "\n",
      "7 Documentation Document your project Write a detailed report explaining your Turing Machine the challenges you faced how you overcame them and the results of your tests \n",
      "\n",
      "8 Presentation Prepare a presentation to showcase your project This can include a demonstration of the Turing Machine an explanation of your code and a discussion of what you learned\n",
      "\n",
      "Remember the key to a successful project is staying organized and breaking down your tasks into manageable parts If you run into any difficulties dont hesitate to reach out for guidance Good luck with your project\n",
      "Human Talk more about things I need to understand about turing machine \n",
      "AI Absolutely Lets delve deeper into understanding the Turing Machine\n",
      "\n",
      "1 Turing Machine Concept A Turing Machine is a hypothetical machine thought of by the mathematician Alan Turing in 1936 Despite its simplicity the machine can simulate the logic of any computer algorithm\n",
      "\n",
      "2 Components The Turing Machine is composed of\n",
      "    Tape This is divided into cells each capable of holding a symbol The tape is theoretically infinite in length\n",
      "    Head This reads the symbol on the tape and can move in either direction\n",
      "    State Register Stores the state of the Turing Machine It can change depending on the current input\n",
      "\n",
      "3 State Transition Function This is the ruleset or the function that defines the next state based on the current state and the symbol read It also defines the symbol to write on the tape and the direction in which the head should move\n",
      "\n",
      "4 Deterministic and Nondeterministic Turing Machines In a Deterministic Turing Machine DTM for each state and symbol there is one and only one move defined In a Nondeterministic Turing Machine NTM there could be more than one move defined\n",
      "\n",
      "5 Universal Turing Machine This is a Turing Machine that can simulate other Turing Machines Its a DTM that takes an input w and an encoding of a Turing Machine M and simulates the operation of M on w\n",
      "\n",
      "6 ChurchTuring Thesis This hypothesis suggests that any computation that can be performed by a Turing Machine is exactly the set of problems that can be solved by an algorithm or a computer\n",
      "\n",
      "7 Halting Problem This is a problem that asks whether a given program on a Turing Machine halts on a particular input Alan Turing proved that a general algorithm to solve the halting problem for all possible inputs does not exist\n",
      "\n",
      "Understanding these concepts will give you a strong foundation to build your project on the Turing Machine If you need further clarification on any point dont hesitate to ask\n"
     ]
    }
   ],
   "source": [
    "from langchain.prompts import PromptTemplate\n",
    "from langchain.chains import LLMChain\n",
    "from langchain import OpenAI\n",
    "from langchain.memory import ConversationBufferMemory\n",
    "from config import OPENAI_API_KEY\n",
    "from langchain.chat_models import ChatOpenAI\n",
    "from langchain.chains.combine_documents.stuff import StuffDocumentsChain\n",
    "\n",
    "\n",
    "\n",
    "text = \"\"\"Human: Hello \n",
    "AI: Hello! How can I assist you today? Do you already have a specific project idea or research topic in mind? If yes, please provide a brief description.\n",
    "Human: I heard about turing machine and I want to do a project about it\n",
    "AI: That sounds like a fascinating project! The Turing Machine is a foundational concept in computer science. Here's a step-by-step guide to help you get started on your project:\n",
    "\n",
    "1. **Understand the Basics**: Before diving into the project, ensure you have a clear understanding of the concept of a Turing Machine. You should be familiar with its theoretical structure, including the tape, the head, and the state register. Learn about the rules governing its operation, and how it reads and writes symbols on the tape.\n",
    "\n",
    "2. **Research**: Gather information on different types of Turing Machines - like Universal Turing Machines, Multi-tape Turing Machines, and Non-deterministic Turing Machines. Understand their workings and differences.\n",
    "\n",
    "3. **Project Planning**: Decide on the scope of your project. You could either create a simple model of a Turing Machine or simulate a Universal Turing Machine that can compute any algorithm.\n",
    "\n",
    "4. **Software Selection**: Identify the software you would need to simulate a Turing Machine. You could consider using Python or Java, as both have libraries that could be useful for this project.\n",
    "\n",
    "5. **Implementation**: Start building your Turing Machine. This includes coding the machine's ability to read and write on the tape, move the head, and follow the state transition rules. Document your progress and any issues you encounter.\n",
    "\n",
    "6. **Testing**: Once your Turing Machine is complete, test it thoroughly. Try using different inputs and ensure the outputs are correct.\n",
    "\n",
    "7. **Documentation**: Document your project. Write a detailed report explaining your Turing Machine, the challenges you faced, how you overcame them, and the results of your tests. \n",
    "\n",
    "8. **Presentation**: Prepare a presentation to showcase your project. This can include a demonstration of the Turing Machine, an explanation of your code, and a discussion of what you learned.\n",
    "\n",
    "Remember, the key to a successful project is staying organized and breaking down your tasks into manageable parts. If you run into any difficulties, don’t hesitate to reach out for guidance. Good luck with your project!\n",
    "Human: Talk more about things I need to understand about turing machine \n",
    "AI: Absolutely! Let's delve deeper into understanding the Turing Machine:\n",
    "\n",
    "1. **Turing Machine Concept**: A Turing Machine is a hypothetical machine thought of by the mathematician Alan Turing in 1936. Despite its simplicity, the machine can simulate the logic of any computer algorithm.\n",
    "\n",
    "2. **Components**: The Turing Machine is composed of:\n",
    "   - **Tape**: This is divided into cells, each capable of holding a symbol. The tape is theoretically infinite in length.\n",
    "   - **Head**: This reads the symbol on the tape and can move in either direction.\n",
    "   - **State Register**: Stores the state of the Turing Machine. It can change depending on the current input.\n",
    "\n",
    "3. **State Transition Function**: This is the rule-set or the function that defines the next state based on the current state and the symbol read. It also defines the symbol to write on the tape and the direction in which the head should move.\n",
    "\n",
    "4. **Deterministic and Non-deterministic Turing Machines**: In a Deterministic Turing Machine (DTM), for each state and symbol, there is one and only one move defined. In a Non-deterministic Turing Machine (NTM), there could be more than one move defined.\n",
    "\n",
    "5. **Universal Turing Machine**: This is a Turing Machine that can simulate other Turing Machines. It's a DTM that takes an input 'w' and an encoding of a Turing Machine 'M', and simulates the operation of 'M' on 'w'.\n",
    "\n",
    "6. **Church-Turing Thesis**: This hypothesis suggests that any computation that can be performed by a Turing Machine is exactly the set of problems that can be solved by an algorithm or a computer.\n",
    "\n",
    "7. **Halting Problem**: This is a problem that asks whether a given program on a Turing Machine halts on a particular input. Alan Turing proved that a general algorithm to solve the halting problem for all possible inputs does not exist.\n",
    "\n",
    "Understanding these concepts will give you a strong foundation to build your project on the Turing Machine. If you need further clarification on any point, don't hesitate to ask!\"\"\"\n",
    "import re\n",
    "\n",
    "def remove_special_characters(text):\n",
    "    # Regular expression to match all characters except A-Z, a-z, 0-9, spaces, and newlines\n",
    "    pattern = r'[^A-Za-z0-9 \\n]'\n",
    "    \n",
    "    # Use re.sub() to remove all non-alphanumeric characters\n",
    "    cleaned_text = re.sub(pattern, '', text)\n",
    "    \n",
    "    return cleaned_text\n",
    "\n",
    "text = remove_special_characters(text)\n",
    "print(text)"
   ]
  },
  {
   "cell_type": "code",
   "execution_count": 90,
   "metadata": {},
   "outputs": [],
   "source": [
    "template = \"\"\"As an expert in grasping the main points of discussions, your task is to analyze the conversation between AI and a person. The conversation will involve a project or research suggested by the AI to the student. After understanding the discussion, provide a concise 5 to 10-word summary that recommends a suitable professor for the topic. The example below shows the format, and the only thing that will change in the example is what they are recommending.\n",
    "\n",
    "For example, if the discussion is about web development, your summary should be: \"Recommend a professor for web development.\"\n",
    "\n",
    "Human: {human_input}\n",
    "\"\"\"\n"
   ]
  },
  {
   "cell_type": "code",
   "execution_count": 91,
   "metadata": {},
   "outputs": [],
   "source": [
    "prompt = PromptTemplate(\n",
    "    input_variables=[\"human_input\"], template=template\n",
    ")"
   ]
  },
  {
   "cell_type": "code",
   "execution_count": 92,
   "metadata": {},
   "outputs": [],
   "source": [
    "llm_chain = LLMChain(\n",
    "    llm=OpenAI(),\n",
    "    prompt=prompt,\n",
    "    verbose=True,\n",
    ")"
   ]
  },
  {
   "cell_type": "code",
   "execution_count": 93,
   "metadata": {},
   "outputs": [
    {
     "name": "stdout",
     "output_type": "stream",
     "text": [
      "\n",
      "\n",
      "\u001b[1m> Entering new LLMChain chain...\u001b[0m\n",
      "Prompt after formatting:\n",
      "\u001b[32;1m\u001b[1;3mAs an expert in grasping the main points of discussions, your task is to analyze the conversation between AI and a person. The conversation will involve a project or research suggested by the AI to the student. After understanding the discussion, provide a concise 5 to 10-word summary that recommends a suitable professor for the topic. The example below shows the format, and the only thing that will change in the example is what they are recommending.\n",
      "\n",
      "For example, if the discussion is about web development, your summary should be: \"Recommend a professor for web development.\"\n",
      "\n",
      "Human: Human Hello \n",
      "AI Hello How can I assist you today Do you already have a specific project idea or research topic in mind If yes please provide a brief description\n",
      "Human I heard about turing machine and I want to do a project about it\n",
      "AI That sounds like a fascinating project The Turing Machine is a foundational concept in computer science Heres a stepbystep guide to help you get started on your project\n",
      "\n",
      "1 Understand the Basics Before diving into the project ensure you have a clear understanding of the concept of a Turing Machine You should be familiar with its theoretical structure including the tape the head and the state register Learn about the rules governing its operation and how it reads and writes symbols on the tape\n",
      "\n",
      "2 Research Gather information on different types of Turing Machines  like Universal Turing Machines Multitape Turing Machines and Nondeterministic Turing Machines Understand their workings and differences\n",
      "\n",
      "3 Project Planning Decide on the scope of your project You could either create a simple model of a Turing Machine or simulate a Universal Turing Machine that can compute any algorithm\n",
      "\n",
      "4 Software Selection Identify the software you would need to simulate a Turing Machine You could consider using Python or Java as both have libraries that could be useful for this project\n",
      "\n",
      "5 Implementation Start building your Turing Machine This includes coding the machines ability to read and write on the tape move the head and follow the state transition rules Document your progress and any issues you encounter\n",
      "\n",
      "6 Testing Once your Turing Machine is complete test it thoroughly Try using different inputs and ensure the outputs are correct\n",
      "\n",
      "7 Documentation Document your project Write a detailed report explaining your Turing Machine the challenges you faced how you overcame them and the results of your tests \n",
      "\n",
      "8 Presentation Prepare a presentation to showcase your project This can include a demonstration of the Turing Machine an explanation of your code and a discussion of what you learned\n",
      "\n",
      "Remember the key to a successful project is staying organized and breaking down your tasks into manageable parts If you run into any difficulties dont hesitate to reach out for guidance Good luck with your project\n",
      "Human Talk more about things I need to understand about turing machine \n",
      "AI Absolutely Lets delve deeper into understanding the Turing Machine\n",
      "\n",
      "1 Turing Machine Concept A Turing Machine is a hypothetical machine thought of by the mathematician Alan Turing in 1936 Despite its simplicity the machine can simulate the logic of any computer algorithm\n",
      "\n",
      "2 Components The Turing Machine is composed of\n",
      "    Tape This is divided into cells each capable of holding a symbol The tape is theoretically infinite in length\n",
      "    Head This reads the symbol on the tape and can move in either direction\n",
      "    State Register Stores the state of the Turing Machine It can change depending on the current input\n",
      "\n",
      "3 State Transition Function This is the ruleset or the function that defines the next state based on the current state and the symbol read It also defines the symbol to write on the tape and the direction in which the head should move\n",
      "\n",
      "4 Deterministic and Nondeterministic Turing Machines In a Deterministic Turing Machine DTM for each state and symbol there is one and only one move defined In a Nondeterministic Turing Machine NTM there could be more than one move defined\n",
      "\n",
      "5 Universal Turing Machine This is a Turing Machine that can simulate other Turing Machines Its a DTM that takes an input w and an encoding of a Turing Machine M and simulates the operation of M on w\n",
      "\n",
      "6 ChurchTuring Thesis This hypothesis suggests that any computation that can be performed by a Turing Machine is exactly the set of problems that can be solved by an algorithm or a computer\n",
      "\n",
      "7 Halting Problem This is a problem that asks whether a given program on a Turing Machine halts on a particular input Alan Turing proved that a general algorithm to solve the halting problem for all possible inputs does not exist\n",
      "\n",
      "Understanding these concepts will give you a strong foundation to build your project on the Turing Machine If you need further clarification on any point dont hesitate to ask\n",
      "\u001b[0m\n",
      "\n",
      "\u001b[1m> Finished chain.\u001b[0m\n"
     ]
    },
    {
     "data": {
      "text/plain": [
       "'\\nRecommend professor for Turing Machine.'"
      ]
     },
     "execution_count": 93,
     "metadata": {},
     "output_type": "execute_result"
    }
   ],
   "source": [
    "llm_chain.predict(human_input=text)"
   ]
  },
  {
   "cell_type": "code",
   "execution_count": 94,
   "metadata": {},
   "outputs": [
    {
     "ename": "NameError",
     "evalue": "name 'stuff_chain' is not defined",
     "output_type": "error",
     "traceback": [
      "\u001b[0;31m---------------------------------------------------------------------------\u001b[0m",
      "\u001b[0;31mNameError\u001b[0m                                 Traceback (most recent call last)",
      "Cell \u001b[0;32mIn[94], line 1\u001b[0m\n\u001b[0;32m----> 1\u001b[0m \u001b[39mprint\u001b[39m(stuff_chain\u001b[39m.\u001b[39mrun(docs))\n",
      "\u001b[0;31mNameError\u001b[0m: name 'stuff_chain' is not defined"
     ]
    }
   ],
   "source": [
    "print(stuff_chain.run(docs))"
   ]
  }
 ],
 "metadata": {
  "kernelspec": {
   "display_name": "Python 3",
   "language": "python",
   "name": "python3"
  },
  "language_info": {
   "codemirror_mode": {
    "name": "ipython",
    "version": 3
   },
   "file_extension": ".py",
   "mimetype": "text/x-python",
   "name": "python",
   "nbconvert_exporter": "python",
   "pygments_lexer": "ipython3",
   "version": "3.10.12"
  },
  "orig_nbformat": 4
 },
 "nbformat": 4,
 "nbformat_minor": 2
}
