{
 "cells": [
  {
   "cell_type": "code",
   "execution_count": 2,
   "metadata": {},
   "outputs": [
    {
     "name": "stdout",
     "output_type": "stream",
     "text": [
      "messagesHumanMessagecontentHello additionalkwargs exampleFalse AIMessagecontentHello Welcome to ConnectToLearn Were here to help you discover projects aligned with your interests and skills To get started do you already have a specific project idea or research topic in mind If yes please provide a brief description additionalkwargs exampleFalse HumanMessagecontentGive me roadmap for learn quantum computing additionalkwargs exampleFalse AIMessagecontentThats great Quantum computing is a fascinating field Heres a detailed roadmap to guide you through the process\n",
      "\n",
      "Step 1 Understand the Basics of Quantum Physics\n",
      "    Quantum Mechanics The Theoretical Minimum\n",
      "    Quantum Physics for Beginners Quantum Mechanics and Quantum Theory Explained\n",
      "\n",
      "Step 2 Learn Linear Algebra and Complex Numbers\n",
      "    Khan Academys Linear Algebra Course\n",
      "    Introduction to Complex Numbers Coursera\n",
      "\n",
      "Step 3 Get Familiar with the Basics of Computer Science\n",
      "    CS50s Introduction to Computer Science Harvard University\n",
      "\n",
      "Step 4 Understand Quantum Computing Concepts\n",
      "    Quantum Computing for the Determined YouTube\n",
      "    Quantum Computing for Computer Scientists\n",
      "\n",
      "Step 5 Learn Quantum Programming Languages\n",
      "    Qiskit by IBM Quantum\n",
      "    Introduction to Quantum Computing and Quantum Hardware FutureLearn\n",
      "\n",
      "Step 6 Start Building Quantum Algorithms\n",
      "    Quantum Algorithms for Quantum Computing A Mathematical Introduction\n",
      "    Quantum Machine Learning edX\n",
      "\n",
      "Step 7 Keep Up with Quantum Computing Research\n",
      "    Quantum Computing Report\n",
      "    Quantum Computing Research Papers Google Scholar\n",
      "\n",
      "Step 8 Start Working on Quantum Computing Projects\n",
      "    Quantum Computing Projects GitHub\n",
      "    Quantum Computing Challenges Qiskit\n",
      "\n",
      "Step 9 Collaborate and Learn from the Quantum Computing Community\n",
      "    Quantum Computing Stack Exchange\n",
      "    Quantum Computing Meetups Meetupcom\n",
      "\n",
      "Step 10 Continuous Learning \n",
      "    Stay updated with the latest advancements in the field\n",
      "    Attend webinars workshops and conferences on Quantum Computing\n",
      "\n",
      "Remember the field of Quantum Computing is continuously evolving The key to becoming proficient is to stay curious and keep learning Good luck with your journey additionalkwargs exampleFalse HumanMessagecontentget memory additionalkwargs exampleFalse AIMessagecontentIm sorry but I didnt understand what you meant by get memory Could you please provide more context or clarify your request additionalkwargs exampleFalse\n"
     ]
    }
   ],
   "source": [
    "from langchain.prompts import PromptTemplate\n",
    "from langchain.chains import LLMChain\n",
    "from langchain import OpenAI\n",
    "from langchain.memory import ConversationBufferMemory\n",
    "from config import OPENAI_API_KEY\n",
    "from langchain.chat_models import ChatOpenAI\n",
    "from langchain.chains.combine_documents.stuff import StuffDocumentsChain\n",
    "import re\n",
    "\n",
    "\n",
    "text = \"\"\"messages=[HumanMessage(content='Hello', additional_kwargs={}, example=False), AIMessage(content=\"Hello! Welcome to ConnectToLearn. We're here to help you discover projects aligned with your interests and skills. To get started, do you already have a specific project idea or research topic in mind? If yes, please provide a brief description.\", additional_kwargs={}, example=False), HumanMessage(content='Give me roadmap for learn quantum computing', additional_kwargs={}, example=False), AIMessage(content=\"That's great! Quantum computing is a fascinating field. Here's a detailed roadmap to guide you through the process:\\n\\nStep 1: Understand the Basics of Quantum Physics\\n   - Quantum Mechanics: The Theoretical Minimum\\n   - Quantum Physics for Beginners: Quantum Mechanics and Quantum Theory Explained\\n\\nStep 2: Learn Linear Algebra and Complex Numbers\\n   - Khan Academy's Linear Algebra Course\\n   - Introduction to Complex Numbers (Coursera)\\n\\nStep 3: Get Familiar with the Basics of Computer Science\\n   - CS50's Introduction to Computer Science (Harvard University)\\n\\nStep 4: Understand Quantum Computing Concepts\\n   - Quantum Computing for the Determined (YouTube)\\n   - Quantum Computing for Computer Scientists\\n\\nStep 5: Learn Quantum Programming Languages\\n   - Qiskit by IBM Quantum\\n   - Introduction to Quantum Computing and Quantum Hardware (FutureLearn)\\n\\nStep 6: Start Building Quantum Algorithms\\n   - Quantum Algorithms for Quantum Computing: A Mathematical Introduction\\n   - Quantum Machine Learning (edX)\\n\\nStep 7: Keep Up with Quantum Computing Research\\n   - Quantum Computing Report\\n   - Quantum Computing Research Papers (Google Scholar)\\n\\nStep 8: Start Working on Quantum Computing Projects\\n   - Quantum Computing Projects (GitHub)\\n   - Quantum Computing Challenges (Qiskit)\\n\\nStep 9: Collaborate and Learn from the Quantum Computing Community\\n   - Quantum Computing Stack Exchange\\n   - Quantum Computing Meetups (Meetup.com)\\n\\nStep 10: Continuous Learning \\n   - Stay updated with the latest advancements in the field\\n   - Attend webinars, workshops, and conferences on Quantum Computing\\n\\nRemember, the field of Quantum Computing is continuously evolving. The key to becoming proficient is to stay curious and keep learning. Good luck with your journey!\", additional_kwargs={}, example=False), HumanMessage(content='get memory', additional_kwargs={}, example=False), AIMessage(content='I\\'m sorry, but I didn\\'t understand what you meant by \"get memory\". Could you please provide more context or clarify your request?', additional_kwargs={}, example=False)]\"\"\"\n",
    "\n",
    "def remove_special_characters(text):\n",
    "    # Regular expression to match all characters except A-Z, a-z, 0-9, spaces, and newlines\n",
    "    pattern = r'[^A-Za-z0-9 \\n]'\n",
    "    \n",
    "    # Use re.sub() to remove all non-alphanumeric characters\n",
    "    cleaned_text = re.sub(pattern, '', text)\n",
    "    \n",
    "    return cleaned_text\n",
    "\n",
    "text = remove_special_characters(text)\n",
    "print(text)"
   ]
  },
  {
   "cell_type": "code",
   "execution_count": 3,
   "metadata": {},
   "outputs": [],
   "source": [
    "template = \"\"\"As an expert in grasping the main points of discussions, your task is to analyze the conversation between AI and a person. The conversation will involve a project or research suggested by the AI to the student. After understanding the discussion, provide a concise 5 to 10-word summary that recommends a suitable professor for the topic. The example below shows the format, and the only thing that will change in the example is what they are recommending.\n",
    "\n",
    "For example, if the discussion is about web development, your summary should be: \"Recommend a professor for web development.\"\n",
    "\n",
    "Human: {human_input}\n",
    "\"\"\"\n"
   ]
  },
  {
   "cell_type": "code",
   "execution_count": 4,
   "metadata": {},
   "outputs": [],
   "source": [
    "prompt = PromptTemplate(\n",
    "    input_variables=[\"human_input\"], template=template\n",
    ")"
   ]
  },
  {
   "cell_type": "code",
   "execution_count": 5,
   "metadata": {},
   "outputs": [],
   "source": [
    "llm_chain = LLMChain(\n",
    "    llm=OpenAI(),\n",
    "    prompt=prompt,\n",
    "    verbose=True,\n",
    ")"
   ]
  },
  {
   "cell_type": "code",
   "execution_count": 6,
   "metadata": {},
   "outputs": [
    {
     "name": "stdout",
     "output_type": "stream",
     "text": [
      "\n",
      "\n",
      "\u001b[1m> Entering new LLMChain chain...\u001b[0m\n",
      "Prompt after formatting:\n",
      "\u001b[32;1m\u001b[1;3mAs an expert in grasping the main points of discussions, your task is to analyze the conversation between AI and a person. The conversation will involve a project or research suggested by the AI to the student. After understanding the discussion, provide a concise 5 to 10-word summary that recommends a suitable professor for the topic. The example below shows the format, and the only thing that will change in the example is what they are recommending.\n",
      "\n",
      "For example, if the discussion is about web development, your summary should be: \"Recommend a professor for web development.\"\n",
      "\n",
      "Human: messagesHumanMessagecontentHello additionalkwargs exampleFalse AIMessagecontentHello Welcome to ConnectToLearn Were here to help you discover projects aligned with your interests and skills To get started do you already have a specific project idea or research topic in mind If yes please provide a brief description additionalkwargs exampleFalse HumanMessagecontentGive me roadmap for learn quantum computing additionalkwargs exampleFalse AIMessagecontentThats great Quantum computing is a fascinating field Heres a detailed roadmap to guide you through the process\n",
      "\n",
      "Step 1 Understand the Basics of Quantum Physics\n",
      "    Quantum Mechanics The Theoretical Minimum\n",
      "    Quantum Physics for Beginners Quantum Mechanics and Quantum Theory Explained\n",
      "\n",
      "Step 2 Learn Linear Algebra and Complex Numbers\n",
      "    Khan Academys Linear Algebra Course\n",
      "    Introduction to Complex Numbers Coursera\n",
      "\n",
      "Step 3 Get Familiar with the Basics of Computer Science\n",
      "    CS50s Introduction to Computer Science Harvard University\n",
      "\n",
      "Step 4 Understand Quantum Computing Concepts\n",
      "    Quantum Computing for the Determined YouTube\n",
      "    Quantum Computing for Computer Scientists\n",
      "\n",
      "Step 5 Learn Quantum Programming Languages\n",
      "    Qiskit by IBM Quantum\n",
      "    Introduction to Quantum Computing and Quantum Hardware FutureLearn\n",
      "\n",
      "Step 6 Start Building Quantum Algorithms\n",
      "    Quantum Algorithms for Quantum Computing A Mathematical Introduction\n",
      "    Quantum Machine Learning edX\n",
      "\n",
      "Step 7 Keep Up with Quantum Computing Research\n",
      "    Quantum Computing Report\n",
      "    Quantum Computing Research Papers Google Scholar\n",
      "\n",
      "Step 8 Start Working on Quantum Computing Projects\n",
      "    Quantum Computing Projects GitHub\n",
      "    Quantum Computing Challenges Qiskit\n",
      "\n",
      "Step 9 Collaborate and Learn from the Quantum Computing Community\n",
      "    Quantum Computing Stack Exchange\n",
      "    Quantum Computing Meetups Meetupcom\n",
      "\n",
      "Step 10 Continuous Learning \n",
      "    Stay updated with the latest advancements in the field\n",
      "    Attend webinars workshops and conferences on Quantum Computing\n",
      "\n",
      "Remember the field of Quantum Computing is continuously evolving The key to becoming proficient is to stay curious and keep learning Good luck with your journey additionalkwargs exampleFalse HumanMessagecontentget memory additionalkwargs exampleFalse AIMessagecontentIm sorry but I didnt understand what you meant by get memory Could you please provide more context or clarify your request additionalkwargs exampleFalse\n",
      "\u001b[0m\n",
      "\n",
      "\u001b[1m> Finished chain.\u001b[0m\n"
     ]
    },
    {
     "data": {
      "text/plain": [
       "'\\nRecommend professor for quantum computing.'"
      ]
     },
     "execution_count": 6,
     "metadata": {},
     "output_type": "execute_result"
    }
   ],
   "source": [
    "llm_chain.predict(human_input=text)"
   ]
  },
  {
   "cell_type": "code",
   "execution_count": 94,
   "metadata": {},
   "outputs": [
    {
     "ename": "NameError",
     "evalue": "name 'stuff_chain' is not defined",
     "output_type": "error",
     "traceback": [
      "\u001b[0;31m---------------------------------------------------------------------------\u001b[0m",
      "\u001b[0;31mNameError\u001b[0m                                 Traceback (most recent call last)",
      "Cell \u001b[0;32mIn[94], line 1\u001b[0m\n\u001b[0;32m----> 1\u001b[0m \u001b[39mprint\u001b[39m(stuff_chain\u001b[39m.\u001b[39mrun(docs))\n",
      "\u001b[0;31mNameError\u001b[0m: name 'stuff_chain' is not defined"
     ]
    }
   ],
   "source": [
    "print(stuff_chain.run(docs))"
   ]
  }
 ],
 "metadata": {
  "kernelspec": {
   "display_name": "Python 3",
   "language": "python",
   "name": "python3"
  },
  "language_info": {
   "codemirror_mode": {
    "name": "ipython",
    "version": 3
   },
   "file_extension": ".py",
   "mimetype": "text/x-python",
   "name": "python",
   "nbconvert_exporter": "python",
   "pygments_lexer": "ipython3",
   "version": "3.10.12"
  },
  "orig_nbformat": 4
 },
 "nbformat": 4,
 "nbformat_minor": 2
}
