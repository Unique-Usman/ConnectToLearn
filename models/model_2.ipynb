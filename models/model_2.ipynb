{
 "cells": [
  {
   "cell_type": "code",
   "execution_count": 57,
   "metadata": {},
   "outputs": [],
   "source": [
    "#importing langchain modules\n",
    "\n",
    "from langchain.document_loaders import UnstructuredExcelLoader\n",
    "from langchain.vectorstores import Chroma\n",
    "from langchain.prompts import PromptTemplate\n",
    "from langchain.embeddings.openai import OpenAIEmbeddings\n",
    "from langchain.indexes import VectorstoreIndexCreator\n",
    "from langchain.chains import RetrievalQA\n",
    "from langchain import OpenAI, VectorDBQA\n",
    "from langchain.llms import OpenAI\n",
    "from langchain.text_splitter import RecursiveCharacterTextSplitter\n",
    "from langchain.text_splitter import CharacterTextSplitter\n",
    "from langchain.text_splitter import TokenTextSplitter\n",
    "from langchain.vectorstores import FAISS\n",
    "from langchain.embeddings.sentence_transformer import SentenceTransformerEmbeddings\n",
    "from langchain.document_loaders import TextLoader\n",
    "from langchain.llms import OpenAI\n",
    "from langchain.chat_models import ChatOpenAI\n",
    "from langchain.memory import ConversationBufferMemory\n",
    "from langchain.chains import ConversationalRetrievalChain\n",
    "import tiktoken\n",
    "from langchain.chains.question_answering import load_qa_chain\n",
    "from langchain.callbacks     import get_openai_callback\n",
    "#importing the os\n",
    "from PyPDF2 import PdfFileReader\n",
    "from config import OPENAI_API_KEY\n",
    "from langchain.document_loaders import PyPDFLoader"
   ]
  },
  {
   "cell_type": "code",
   "execution_count": 58,
   "metadata": {},
   "outputs": [],
   "source": [
    "with open('web-scraping/profs.txt') as f:\n",
    "    state_of_the_union = f.read()"
   ]
  },
  {
   "cell_type": "code",
   "execution_count": 59,
   "metadata": {},
   "outputs": [],
   "source": [
    "text_splitter = RecursiveCharacterTextSplitter(\n",
    "    # Set a really small chunk size, just to show.\n",
    "    chunk_size = 1000,\n",
    "    chunk_overlap  = 200,\n",
    "    length_function = len,\n",
    "    add_start_index = True,\n",
    ")"
   ]
  },
  {
   "cell_type": "code",
   "execution_count": 121,
   "metadata": {},
   "outputs": [],
   "source": [
    "\n",
    "loader = PyPDFLoader(\n",
    "    \"prof.pdf\"\n",
    ")\n",
    "\n",
    "docs = loader.load()\n"
   ]
  },
  {
   "cell_type": "code",
   "execution_count": 122,
   "metadata": {},
   "outputs": [],
   "source": [
    "all_splits = text_splitter.split_documents(docs)"
   ]
  },
  {
   "cell_type": "code",
   "execution_count": null,
   "metadata": {},
   "outputs": [],
   "source": []
  },
  {
   "cell_type": "code",
   "execution_count": 75,
   "metadata": {},
   "outputs": [],
   "source": [
    "# vectorestore = Chroma.from_documents(documents=all_splits,embedding=OpenAIEmbeddings())"
   ]
  },
  {
   "cell_type": "markdown",
   "metadata": {},
   "source": []
  },
  {
   "cell_type": "code",
   "execution_count": 76,
   "metadata": {},
   "outputs": [],
   "source": [
    "memory = ConversationBufferMemory(memory_key=\"chat_history\", return_messages=True)"
   ]
  },
  {
   "cell_type": "code",
   "execution_count": 77,
   "metadata": {},
   "outputs": [],
   "source": [
    "conversation_chain = ConversationalRetrievalChain.from_llm(llm=ChatOpenAI(), chain_type=\"stuff\",retriever=vectorestore.as_retriever(), memory=memory)"
   ]
  },
  {
   "cell_type": "code",
   "execution_count": 78,
   "metadata": {},
   "outputs": [
    {
     "data": {
      "text/plain": [
       "{'question': 'Recommend a professor for Quantum computing',\n",
       " 'chat_history': [HumanMessage(content='Recommend a professor for Quantum computing', additional_kwargs={}, example=False),\n",
       "  AIMessage(content='I would recommend Dr. Tapas Pandit as a professor for Quantum Computing. He has expertise in Quantum Computing and Cryptography and his research interests include Post-Quantum Cryptography, Quantum Cryptanalysis, and Blockchain. He holds a Ph.D. in Economics from Erasmus University Rotterdam and has previous experience as an Assistant Professor of Economics (Business Environment) at the Indian Institute of Management Lucknow.', additional_kwargs={}, example=False)],\n",
       " 'answer': 'I would recommend Dr. Tapas Pandit as a professor for Quantum Computing. He has expertise in Quantum Computing and Cryptography and his research interests include Post-Quantum Cryptography, Quantum Cryptanalysis, and Blockchain. He holds a Ph.D. in Economics from Erasmus University Rotterdam and has previous experience as an Assistant Professor of Economics (Business Environment) at the Indian Institute of Management Lucknow.'}"
      ]
     },
     "execution_count": 78,
     "metadata": {},
     "output_type": "execute_result"
    }
   ],
   "source": [
    "conversation_chain({\"question\":\"Recommend a professor for Quantum computing\"})"
   ]
  },
  {
   "cell_type": "code",
   "execution_count": 79,
   "metadata": {},
   "outputs": [
    {
     "data": {
      "text/plain": [
       "{'question': 'Who is Manoj Kannan',\n",
       " 'chat_history': [HumanMessage(content='Recommend a professor for Quantum computing', additional_kwargs={}, example=False),\n",
       "  AIMessage(content='I would recommend Dr. Tapas Pandit as a professor for Quantum Computing. He has expertise in Quantum Computing and Cryptography and his research interests include Post-Quantum Cryptography, Quantum Cryptanalysis, and Blockchain. He holds a Ph.D. in Economics from Erasmus University Rotterdam and has previous experience as an Assistant Professor of Economics (Business Environment) at the Indian Institute of Management Lucknow.', additional_kwargs={}, example=False),\n",
       "  HumanMessage(content='Who is Manoj Kannan', additional_kwargs={}, example=False),\n",
       "  AIMessage(content=\"Manoj Kannan is an Associate Dean of Student Life and an Associate Professor at Plaksha University. He has a Ph.D. in Economics from the University of Houston, USA. He has also served as a Lecturer at the University of Houston in the past. His area of expertise is discipline-based education research, with research interests in Fink's Taxonomy of Significant Learning and Epigenetics. He has also worked as a Postdoctoral Research Associate at the Massachusetts Institute of Technology and a Research Fellow at the Singapore University of Technology and Design. Additionally, he has served as the CTO of Smantenna Ltd.\", additional_kwargs={}, example=False)],\n",
       " 'answer': \"Manoj Kannan is an Associate Dean of Student Life and an Associate Professor at Plaksha University. He has a Ph.D. in Economics from the University of Houston, USA. He has also served as a Lecturer at the University of Houston in the past. His area of expertise is discipline-based education research, with research interests in Fink's Taxonomy of Significant Learning and Epigenetics. He has also worked as a Postdoctoral Research Associate at the Massachusetts Institute of Technology and a Research Fellow at the Singapore University of Technology and Design. Additionally, he has served as the CTO of Smantenna Ltd.\"}"
      ]
     },
     "execution_count": 79,
     "metadata": {},
     "output_type": "execute_result"
    }
   ],
   "source": [
    "conversation_chain({\"question\":\"Who is Manoj Kannan\"})"
   ]
  },
  {
   "cell_type": "code",
   "execution_count": 80,
   "metadata": {},
   "outputs": [
    {
     "data": {
      "text/plain": [
       "{'question': 'What of Manoj Kannan',\n",
       " 'chat_history': [HumanMessage(content='Recommend a professor for Quantum computing', additional_kwargs={}, example=False),\n",
       "  AIMessage(content='I would recommend Dr. Tapas Pandit as a professor for Quantum Computing. He has expertise in Quantum Computing and Cryptography and his research interests include Post-Quantum Cryptography, Quantum Cryptanalysis, and Blockchain. He holds a Ph.D. in Economics from Erasmus University Rotterdam and has previous experience as an Assistant Professor of Economics (Business Environment) at the Indian Institute of Management Lucknow.', additional_kwargs={}, example=False),\n",
       "  HumanMessage(content='Who is Manoj Kannan', additional_kwargs={}, example=False),\n",
       "  AIMessage(content=\"Manoj Kannan is an Associate Dean of Student Life and an Associate Professor at Plaksha University. He has a Ph.D. in Economics from the University of Houston, USA. He has also served as a Lecturer at the University of Houston in the past. His area of expertise is discipline-based education research, with research interests in Fink's Taxonomy of Significant Learning and Epigenetics. He has also worked as a Postdoctoral Research Associate at the Massachusetts Institute of Technology and a Research Fellow at the Singapore University of Technology and Design. Additionally, he has served as the CTO of Smantenna Ltd.\", additional_kwargs={}, example=False),\n",
       "  HumanMessage(content='What of Manoj Kannan', additional_kwargs={}, example=False),\n",
       "  AIMessage(content='Manoj Kannan is an Associate Dean of Student Life and an Associate Professor at Plaksha University. He has a Ph.D. in Economics from the University of Houston, USA. He has previously worked as a Lecturer at the University of Houston.', additional_kwargs={}, example=False)],\n",
       " 'answer': 'Manoj Kannan is an Associate Dean of Student Life and an Associate Professor at Plaksha University. He has a Ph.D. in Economics from the University of Houston, USA. He has previously worked as a Lecturer at the University of Houston.'}"
      ]
     },
     "execution_count": 80,
     "metadata": {},
     "output_type": "execute_result"
    }
   ],
   "source": [
    "conversation_chain({\"question\":\"What of Manoj Kannan\"})"
   ]
  },
  {
   "cell_type": "code",
   "execution_count": 81,
   "metadata": {},
   "outputs": [
    {
     "data": {
      "text/plain": [
       "{'question': 'Does Manoj Kanan Knows about programming',\n",
       " 'chat_history': [HumanMessage(content='Recommend a professor for Quantum computing', additional_kwargs={}, example=False),\n",
       "  AIMessage(content='I would recommend Dr. Tapas Pandit as a professor for Quantum Computing. He has expertise in Quantum Computing and Cryptography and his research interests include Post-Quantum Cryptography, Quantum Cryptanalysis, and Blockchain. He holds a Ph.D. in Economics from Erasmus University Rotterdam and has previous experience as an Assistant Professor of Economics (Business Environment) at the Indian Institute of Management Lucknow.', additional_kwargs={}, example=False),\n",
       "  HumanMessage(content='Who is Manoj Kannan', additional_kwargs={}, example=False),\n",
       "  AIMessage(content=\"Manoj Kannan is an Associate Dean of Student Life and an Associate Professor at Plaksha University. He has a Ph.D. in Economics from the University of Houston, USA. He has also served as a Lecturer at the University of Houston in the past. His area of expertise is discipline-based education research, with research interests in Fink's Taxonomy of Significant Learning and Epigenetics. He has also worked as a Postdoctoral Research Associate at the Massachusetts Institute of Technology and a Research Fellow at the Singapore University of Technology and Design. Additionally, he has served as the CTO of Smantenna Ltd.\", additional_kwargs={}, example=False),\n",
       "  HumanMessage(content='What of Manoj Kannan', additional_kwargs={}, example=False),\n",
       "  AIMessage(content='Manoj Kannan is an Associate Dean of Student Life and an Associate Professor at Plaksha University. He has a Ph.D. in Economics from the University of Houston, USA. He has previously worked as a Lecturer at the University of Houston.', additional_kwargs={}, example=False),\n",
       "  HumanMessage(content='Does Manoj Kanan Knows about programming', additional_kwargs={}, example=False),\n",
       "  AIMessage(content='Based on the provided information, there is no specific mention of Dr. Manoj Kannan having knowledge of programming. Therefore, it is unclear whether he has expertise in programming.', additional_kwargs={}, example=False)],\n",
       " 'answer': 'Based on the provided information, there is no specific mention of Dr. Manoj Kannan having knowledge of programming. Therefore, it is unclear whether he has expertise in programming.'}"
      ]
     },
     "execution_count": 81,
     "metadata": {},
     "output_type": "execute_result"
    }
   ],
   "source": [
    "conversation_chain({\"question\":\"Does Manoj Kanan Knows about programming\"})"
   ]
  },
  {
   "cell_type": "code",
   "execution_count": 82,
   "metadata": {},
   "outputs": [
    {
     "data": {
      "text/plain": [
       "{'question': 'Can I meet him to learn about C++',\n",
       " 'chat_history': [HumanMessage(content='Recommend a professor for Quantum computing', additional_kwargs={}, example=False),\n",
       "  AIMessage(content='I would recommend Dr. Tapas Pandit as a professor for Quantum Computing. He has expertise in Quantum Computing and Cryptography and his research interests include Post-Quantum Cryptography, Quantum Cryptanalysis, and Blockchain. He holds a Ph.D. in Economics from Erasmus University Rotterdam and has previous experience as an Assistant Professor of Economics (Business Environment) at the Indian Institute of Management Lucknow.', additional_kwargs={}, example=False),\n",
       "  HumanMessage(content='Who is Manoj Kannan', additional_kwargs={}, example=False),\n",
       "  AIMessage(content=\"Manoj Kannan is an Associate Dean of Student Life and an Associate Professor at Plaksha University. He has a Ph.D. in Economics from the University of Houston, USA. He has also served as a Lecturer at the University of Houston in the past. His area of expertise is discipline-based education research, with research interests in Fink's Taxonomy of Significant Learning and Epigenetics. He has also worked as a Postdoctoral Research Associate at the Massachusetts Institute of Technology and a Research Fellow at the Singapore University of Technology and Design. Additionally, he has served as the CTO of Smantenna Ltd.\", additional_kwargs={}, example=False),\n",
       "  HumanMessage(content='What of Manoj Kannan', additional_kwargs={}, example=False),\n",
       "  AIMessage(content='Manoj Kannan is an Associate Dean of Student Life and an Associate Professor at Plaksha University. He has a Ph.D. in Economics from the University of Houston, USA. He has previously worked as a Lecturer at the University of Houston.', additional_kwargs={}, example=False),\n",
       "  HumanMessage(content='Does Manoj Kanan Knows about programming', additional_kwargs={}, example=False),\n",
       "  AIMessage(content='Based on the provided information, there is no specific mention of Dr. Manoj Kannan having knowledge of programming. Therefore, it is unclear whether he has expertise in programming.', additional_kwargs={}, example=False),\n",
       "  HumanMessage(content='Can I meet him to learn about C++', additional_kwargs={}, example=False),\n",
       "  AIMessage(content=\"No, Dr. Manoj Kannan's area of expertise is discipline-based education research, not C++. It would be more appropriate to seek assistance from someone with a background in computer science or programming for learning about C++.\", additional_kwargs={}, example=False)],\n",
       " 'answer': \"No, Dr. Manoj Kannan's area of expertise is discipline-based education research, not C++. It would be more appropriate to seek assistance from someone with a background in computer science or programming for learning about C++.\"}"
      ]
     },
     "execution_count": 82,
     "metadata": {},
     "output_type": "execute_result"
    }
   ],
   "source": [
    "conversation_chain({\"question\":\"Can I meet him to learn about C++\"})"
   ]
  },
  {
   "cell_type": "code",
   "execution_count": 83,
   "metadata": {},
   "outputs": [
    {
     "data": {
      "text/plain": [
       "{'question': 'Do you know Navjut Kaur',\n",
       " 'chat_history': [HumanMessage(content='Recommend a professor for Quantum computing', additional_kwargs={}, example=False),\n",
       "  AIMessage(content='I would recommend Dr. Tapas Pandit as a professor for Quantum Computing. He has expertise in Quantum Computing and Cryptography and his research interests include Post-Quantum Cryptography, Quantum Cryptanalysis, and Blockchain. He holds a Ph.D. in Economics from Erasmus University Rotterdam and has previous experience as an Assistant Professor of Economics (Business Environment) at the Indian Institute of Management Lucknow.', additional_kwargs={}, example=False),\n",
       "  HumanMessage(content='Who is Manoj Kannan', additional_kwargs={}, example=False),\n",
       "  AIMessage(content=\"Manoj Kannan is an Associate Dean of Student Life and an Associate Professor at Plaksha University. He has a Ph.D. in Economics from the University of Houston, USA. He has also served as a Lecturer at the University of Houston in the past. His area of expertise is discipline-based education research, with research interests in Fink's Taxonomy of Significant Learning and Epigenetics. He has also worked as a Postdoctoral Research Associate at the Massachusetts Institute of Technology and a Research Fellow at the Singapore University of Technology and Design. Additionally, he has served as the CTO of Smantenna Ltd.\", additional_kwargs={}, example=False),\n",
       "  HumanMessage(content='What of Manoj Kannan', additional_kwargs={}, example=False),\n",
       "  AIMessage(content='Manoj Kannan is an Associate Dean of Student Life and an Associate Professor at Plaksha University. He has a Ph.D. in Economics from the University of Houston, USA. He has previously worked as a Lecturer at the University of Houston.', additional_kwargs={}, example=False),\n",
       "  HumanMessage(content='Does Manoj Kanan Knows about programming', additional_kwargs={}, example=False),\n",
       "  AIMessage(content='Based on the provided information, there is no specific mention of Dr. Manoj Kannan having knowledge of programming. Therefore, it is unclear whether he has expertise in programming.', additional_kwargs={}, example=False),\n",
       "  HumanMessage(content='Can I meet him to learn about C++', additional_kwargs={}, example=False),\n",
       "  AIMessage(content=\"No, Dr. Manoj Kannan's area of expertise is discipline-based education research, not C++. It would be more appropriate to seek assistance from someone with a background in computer science or programming for learning about C++.\", additional_kwargs={}, example=False),\n",
       "  HumanMessage(content='Do you know Navjut Kaur', additional_kwargs={}, example=False),\n",
       "  AIMessage(content='Navjot Kaur is an Assistant Professor at Plaksha University. She has expertise in areas such as point-of-care diagnostics, sustainability, stakeholder engagement, and public policy. Her research interests include sustainable agriculture, responsible research and innovation, antimicrobial resistance, and STEM education research. She has a postdoctoral fellowship in Biochemistry and Molecular Biology from Michigan State University and has been a DAAD Fellow at the Max Planck Institute of Biophysical Chemistry.', additional_kwargs={}, example=False)],\n",
       " 'answer': 'Navjot Kaur is an Assistant Professor at Plaksha University. She has expertise in areas such as point-of-care diagnostics, sustainability, stakeholder engagement, and public policy. Her research interests include sustainable agriculture, responsible research and innovation, antimicrobial resistance, and STEM education research. She has a postdoctoral fellowship in Biochemistry and Molecular Biology from Michigan State University and has been a DAAD Fellow at the Max Planck Institute of Biophysical Chemistry.'}"
      ]
     },
     "execution_count": 83,
     "metadata": {},
     "output_type": "execute_result"
    }
   ],
   "source": [
    "conversation_chain({\"question\":\"Do you know Navjut Kaur\"})"
   ]
  },
  {
   "cell_type": "code",
   "execution_count": 84,
   "metadata": {},
   "outputs": [
    {
     "data": {
      "text/plain": [
       "{'question': 'Which professor can I meet for Aeuronautics',\n",
       " 'chat_history': [HumanMessage(content='Recommend a professor for Quantum computing', additional_kwargs={}, example=False),\n",
       "  AIMessage(content='I would recommend Dr. Tapas Pandit as a professor for Quantum Computing. He has expertise in Quantum Computing and Cryptography and his research interests include Post-Quantum Cryptography, Quantum Cryptanalysis, and Blockchain. He holds a Ph.D. in Economics from Erasmus University Rotterdam and has previous experience as an Assistant Professor of Economics (Business Environment) at the Indian Institute of Management Lucknow.', additional_kwargs={}, example=False),\n",
       "  HumanMessage(content='Who is Manoj Kannan', additional_kwargs={}, example=False),\n",
       "  AIMessage(content=\"Manoj Kannan is an Associate Dean of Student Life and an Associate Professor at Plaksha University. He has a Ph.D. in Economics from the University of Houston, USA. He has also served as a Lecturer at the University of Houston in the past. His area of expertise is discipline-based education research, with research interests in Fink's Taxonomy of Significant Learning and Epigenetics. He has also worked as a Postdoctoral Research Associate at the Massachusetts Institute of Technology and a Research Fellow at the Singapore University of Technology and Design. Additionally, he has served as the CTO of Smantenna Ltd.\", additional_kwargs={}, example=False),\n",
       "  HumanMessage(content='What of Manoj Kannan', additional_kwargs={}, example=False),\n",
       "  AIMessage(content='Manoj Kannan is an Associate Dean of Student Life and an Associate Professor at Plaksha University. He has a Ph.D. in Economics from the University of Houston, USA. He has previously worked as a Lecturer at the University of Houston.', additional_kwargs={}, example=False),\n",
       "  HumanMessage(content='Does Manoj Kanan Knows about programming', additional_kwargs={}, example=False),\n",
       "  AIMessage(content='Based on the provided information, there is no specific mention of Dr. Manoj Kannan having knowledge of programming. Therefore, it is unclear whether he has expertise in programming.', additional_kwargs={}, example=False),\n",
       "  HumanMessage(content='Can I meet him to learn about C++', additional_kwargs={}, example=False),\n",
       "  AIMessage(content=\"No, Dr. Manoj Kannan's area of expertise is discipline-based education research, not C++. It would be more appropriate to seek assistance from someone with a background in computer science or programming for learning about C++.\", additional_kwargs={}, example=False),\n",
       "  HumanMessage(content='Do you know Navjut Kaur', additional_kwargs={}, example=False),\n",
       "  AIMessage(content='Navjot Kaur is an Assistant Professor at Plaksha University. She has expertise in areas such as point-of-care diagnostics, sustainability, stakeholder engagement, and public policy. Her research interests include sustainable agriculture, responsible research and innovation, antimicrobial resistance, and STEM education research. She has a postdoctoral fellowship in Biochemistry and Molecular Biology from Michigan State University and has been a DAAD Fellow at the Max Planck Institute of Biophysical Chemistry.', additional_kwargs={}, example=False),\n",
       "  HumanMessage(content='Which professor can I meet for Aeuronautics', additional_kwargs={}, example=False),\n",
       "  AIMessage(content='Based on the given context, Dr. Shashank Tamaskar would be the recommended professor for Aeronautics. He has a Ph.D. in Aeronautics and Astronautics from Purdue University and has past associations as an Associate Research Scientist in the School of Aeronautics and Astronautics at Purdue University.', additional_kwargs={}, example=False)],\n",
       " 'answer': 'Based on the given context, Dr. Shashank Tamaskar would be the recommended professor for Aeronautics. He has a Ph.D. in Aeronautics and Astronautics from Purdue University and has past associations as an Associate Research Scientist in the School of Aeronautics and Astronautics at Purdue University.'}"
      ]
     },
     "execution_count": 84,
     "metadata": {},
     "output_type": "execute_result"
    }
   ],
   "source": [
    "conversation_chain({\"question\":\"Which professor can I meet for Aeuronautics\"})"
   ]
  },
  {
   "cell_type": "code",
   "execution_count": 85,
   "metadata": {},
   "outputs": [
    {
     "data": {
      "text/plain": [
       "{'question': 'Why Srikant',\n",
       " 'chat_history': [HumanMessage(content='Recommend a professor for Quantum computing', additional_kwargs={}, example=False),\n",
       "  AIMessage(content='I would recommend Dr. Tapas Pandit as a professor for Quantum Computing. He has expertise in Quantum Computing and Cryptography and his research interests include Post-Quantum Cryptography, Quantum Cryptanalysis, and Blockchain. He holds a Ph.D. in Economics from Erasmus University Rotterdam and has previous experience as an Assistant Professor of Economics (Business Environment) at the Indian Institute of Management Lucknow.', additional_kwargs={}, example=False),\n",
       "  HumanMessage(content='Who is Manoj Kannan', additional_kwargs={}, example=False),\n",
       "  AIMessage(content=\"Manoj Kannan is an Associate Dean of Student Life and an Associate Professor at Plaksha University. He has a Ph.D. in Economics from the University of Houston, USA. He has also served as a Lecturer at the University of Houston in the past. His area of expertise is discipline-based education research, with research interests in Fink's Taxonomy of Significant Learning and Epigenetics. He has also worked as a Postdoctoral Research Associate at the Massachusetts Institute of Technology and a Research Fellow at the Singapore University of Technology and Design. Additionally, he has served as the CTO of Smantenna Ltd.\", additional_kwargs={}, example=False),\n",
       "  HumanMessage(content='What of Manoj Kannan', additional_kwargs={}, example=False),\n",
       "  AIMessage(content='Manoj Kannan is an Associate Dean of Student Life and an Associate Professor at Plaksha University. He has a Ph.D. in Economics from the University of Houston, USA. He has previously worked as a Lecturer at the University of Houston.', additional_kwargs={}, example=False),\n",
       "  HumanMessage(content='Does Manoj Kanan Knows about programming', additional_kwargs={}, example=False),\n",
       "  AIMessage(content='Based on the provided information, there is no specific mention of Dr. Manoj Kannan having knowledge of programming. Therefore, it is unclear whether he has expertise in programming.', additional_kwargs={}, example=False),\n",
       "  HumanMessage(content='Can I meet him to learn about C++', additional_kwargs={}, example=False),\n",
       "  AIMessage(content=\"No, Dr. Manoj Kannan's area of expertise is discipline-based education research, not C++. It would be more appropriate to seek assistance from someone with a background in computer science or programming for learning about C++.\", additional_kwargs={}, example=False),\n",
       "  HumanMessage(content='Do you know Navjut Kaur', additional_kwargs={}, example=False),\n",
       "  AIMessage(content='Navjot Kaur is an Assistant Professor at Plaksha University. She has expertise in areas such as point-of-care diagnostics, sustainability, stakeholder engagement, and public policy. Her research interests include sustainable agriculture, responsible research and innovation, antimicrobial resistance, and STEM education research. She has a postdoctoral fellowship in Biochemistry and Molecular Biology from Michigan State University and has been a DAAD Fellow at the Max Planck Institute of Biophysical Chemistry.', additional_kwargs={}, example=False),\n",
       "  HumanMessage(content='Which professor can I meet for Aeuronautics', additional_kwargs={}, example=False),\n",
       "  AIMessage(content='Based on the given context, Dr. Shashank Tamaskar would be the recommended professor for Aeronautics. He has a Ph.D. in Aeronautics and Astronautics from Purdue University and has past associations as an Associate Research Scientist in the School of Aeronautics and Astronautics at Purdue University.', additional_kwargs={}, example=False),\n",
       "  HumanMessage(content='Why Srikant', additional_kwargs={}, example=False),\n",
       "  AIMessage(content='Dr. Srikant Srinivasan is not specifically recommended for Aeronautics. His areas of expertise are Nanoelectronics and IoT systems, and his research interests include Precision agriculture, Computer vision, Machine learning, and Beyond-CMOS devices. However, if you have a specific question related to Aeronautics, I can try to help you with that.', additional_kwargs={}, example=False)],\n",
       " 'answer': 'Dr. Srikant Srinivasan is not specifically recommended for Aeronautics. His areas of expertise are Nanoelectronics and IoT systems, and his research interests include Precision agriculture, Computer vision, Machine learning, and Beyond-CMOS devices. However, if you have a specific question related to Aeronautics, I can try to help you with that.'}"
      ]
     },
     "execution_count": 85,
     "metadata": {},
     "output_type": "execute_result"
    }
   ],
   "source": [
    "conversation_chain({\"question\":\"Why Srikant\"})"
   ]
  },
  {
   "cell_type": "code",
   "execution_count": 86,
   "metadata": {},
   "outputs": [
    {
     "name": "stdout",
     "output_type": "stream",
     "text": [
      "5317\n"
     ]
    }
   ],
   "source": [
    "tokenizer = tiktoken.get_encoding(\"cl100k_base\")\n",
    "\n",
    "def tiktoken_len(text):\n",
    "    token  = tokenizer.encode(\n",
    "        text,\n",
    "        disallowed_special=()\n",
    "    )\n",
    "    return len(token)\n",
    "token_counts = [tiktoken_len(doc.page_content) for doc in all_splits]\n",
    "print(sum(token_counts))"
   ]
  },
  {
   "cell_type": "code",
   "execution_count": 123,
   "metadata": {},
   "outputs": [],
   "source": [
    "#Embed and store the texts\n",
    "#Supplying a persist_directory will stoer the embeddings on disk\n",
    "persist_directory = \"db\"\n",
    "\n",
    "# create the open-source embedding function\n",
    "vectordb = Chroma.from_documents(documents=all_splits,embedding=OpenAIEmbeddings(),\n",
    "        persist_directory=persist_directory)\n",
    "\n",
    "#persist the db to disk\n",
    "vectordb.persist()\n",
    "vectordb = None\n",
    "\n",
    "vectordb = Chroma.from_documents(documents=all_splits,embedding=OpenAIEmbeddings(),\n",
    "        persist_directory=persist_directory)"
   ]
  },
  {
   "cell_type": "code",
   "execution_count": 142,
   "metadata": {},
   "outputs": [],
   "source": [
    "retrieval = vectordb.as_retriever(search_kwargs={\"k\":2})\n",
    "#docs = retrieval.get_relevant_documents(\"Who is Rucha Joshi\")\n"
   ]
  },
  {
   "cell_type": "code",
   "execution_count": 143,
   "metadata": {},
   "outputs": [
    {
     "name": "stdout",
     "output_type": "stream",
     "text": [
      "\n",
      "\n",
      "\u001b[1m> Entering new  chain...\u001b[0m\n",
      "\n",
      "\u001b[1m> Finished chain.\u001b[0m\n",
      "{'query': 'Robotics', 'result': '\\nRobotics is the branch of engineering and science that deals with the design, construction, operation, and use of robots. It also includes computer science, mechanical engineering, and electrical engineering.', 'source_documents': []}\n",
      "Use the following pieces of context to answer the question at the end. If you don't know the answer, just say that you don't know, don't try to make up an answer.\n",
      "\n",
      "{context}\n",
      "\n",
      "Question: {question}\n",
      "Helpful Answer:\n",
      "88\n"
     ]
    }
   ],
   "source": [
    "with get_openai_callback() as cb:\n",
    "        qa_chain = RetrievalQA.from_chain_type(llm=OpenAI(), chain_type=\"stuff\", retriever=retrieval,\n",
    "                return_source_documents=True, verbose=True)\n",
    "        print(qa_chain(\"Robotics\"))\n",
    "total_tokens = cb.total_tokens\n",
    "print(qa_chain.combine_documents_chain.llm_chain.prompt.template)\n",
    "print(total_tokens)"
   ]
  },
  {
   "cell_type": "code",
   "execution_count": 144,
   "metadata": {},
   "outputs": [
    {
     "name": "stdout",
     "output_type": "stream",
     "text": [
      "88\n"
     ]
    }
   ],
   "source": [
    "print(total_tokens)"
   ]
  },
  {
   "cell_type": "code",
   "execution_count": 145,
   "metadata": {},
   "outputs": [
    {
     "name": "stdout",
     "output_type": "stream",
     "text": [
      "updating: db/ (stored 0%)\n",
      "updating: db/index/ (stored 0%)\n",
      "updating: db/index/id_to_uuid_8be6aa5e-3b16-4c1d-af03-e5940a1589fb.pkl (deflated 27%)\n",
      "updating: db/index/uuid_to_id_8be6aa5e-3b16-4c1d-af03-e5940a1589fb.pkl (deflated 37%)\n",
      "updating: db/index/index_metadata_8be6aa5e-3b16-4c1d-af03-e5940a1589fb.pkl (deflated 14%)\n",
      "updating: db/index/index_8be6aa5e-3b16-4c1d-af03-e5940a1589fb.bin (deflated 18%)\n",
      "updating: db/chroma-embeddings.parquet (deflated 18%)\n",
      "updating: db/chroma-collections.parquet (deflated 14%)\n"
     ]
    }
   ],
   "source": [
    "!zip -r db.zip ./db"
   ]
  },
  {
   "cell_type": "code",
   "execution_count": 146,
   "metadata": {},
   "outputs": [
    {
     "ename": "IndexError",
     "evalue": "list index out of range",
     "output_type": "error",
     "traceback": [
      "\u001b[0;31m---------------------------------------------------------------------------\u001b[0m",
      "\u001b[0;31mIndexError\u001b[0m                                Traceback (most recent call last)",
      "Cell \u001b[0;32mIn[146], line 2\u001b[0m\n\u001b[1;32m      1\u001b[0m \u001b[39m#To cleanup, you can delete the collection\u001b[39;00m\n\u001b[0;32m----> 2\u001b[0m vectordb\u001b[39m.\u001b[39;49mdelete_collection()\n\u001b[1;32m      3\u001b[0m vectordb\u001b[39m.\u001b[39mpersist()\n\u001b[1;32m      5\u001b[0m \u001b[39m#delete the directory\u001b[39;00m\n",
      "File \u001b[0;32m~/.local/lib/python3.10/site-packages/langchain/vectorstores/chroma.py:328\u001b[0m, in \u001b[0;36mChroma.delete_collection\u001b[0;34m(self)\u001b[0m\n\u001b[1;32m    326\u001b[0m \u001b[39mdef\u001b[39;00m \u001b[39mdelete_collection\u001b[39m(\u001b[39mself\u001b[39m) \u001b[39m-\u001b[39m\u001b[39m>\u001b[39m \u001b[39mNone\u001b[39;00m:\n\u001b[1;32m    327\u001b[0m     \u001b[39m\"\"\"Delete the collection.\"\"\"\u001b[39;00m\n\u001b[0;32m--> 328\u001b[0m     \u001b[39mself\u001b[39;49m\u001b[39m.\u001b[39;49m_client\u001b[39m.\u001b[39;49mdelete_collection(\u001b[39mself\u001b[39;49m\u001b[39m.\u001b[39;49m_collection\u001b[39m.\u001b[39;49mname)\n",
      "File \u001b[0;32m~/.local/lib/python3.10/site-packages/chromadb/api/local.py:230\u001b[0m, in \u001b[0;36mLocalAPI.delete_collection\u001b[0;34m(self, name)\u001b[0m\n\u001b[1;32m    216\u001b[0m \u001b[39m@override\u001b[39m\n\u001b[1;32m    217\u001b[0m \u001b[39mdef\u001b[39;00m \u001b[39mdelete_collection\u001b[39m(\u001b[39mself\u001b[39m, name: \u001b[39mstr\u001b[39m) \u001b[39m-\u001b[39m\u001b[39m>\u001b[39m \u001b[39mNone\u001b[39;00m:\n\u001b[1;32m    218\u001b[0m     \u001b[39m\"\"\"Delete a collection with the given name.\u001b[39;00m\n\u001b[1;32m    219\u001b[0m \u001b[39m    Args:\u001b[39;00m\n\u001b[1;32m    220\u001b[0m \u001b[39m        name: The name of the collection to delete\u001b[39;00m\n\u001b[0;32m   (...)\u001b[0m\n\u001b[1;32m    228\u001b[0m \u001b[39m        ```\u001b[39;00m\n\u001b[1;32m    229\u001b[0m \u001b[39m    \"\"\"\u001b[39;00m\n\u001b[0;32m--> 230\u001b[0m     \u001b[39mself\u001b[39;49m\u001b[39m.\u001b[39;49m_db\u001b[39m.\u001b[39;49mdelete_collection(name)\n",
      "File \u001b[0;32m~/.local/lib/python3.10/site-packages/chromadb/db/duckdb.py:143\u001b[0m, in \u001b[0;36mDuckDB.delete_collection\u001b[0;34m(self, name)\u001b[0m\n\u001b[1;32m    141\u001b[0m \u001b[39m@override\u001b[39m\n\u001b[1;32m    142\u001b[0m \u001b[39mdef\u001b[39;00m \u001b[39mdelete_collection\u001b[39m(\u001b[39mself\u001b[39m, name: \u001b[39mstr\u001b[39m):\n\u001b[0;32m--> 143\u001b[0m     collection_uuid \u001b[39m=\u001b[39m \u001b[39mself\u001b[39;49m\u001b[39m.\u001b[39;49mget_collection_uuid_from_name(name)\n\u001b[1;32m    144\u001b[0m     \u001b[39mself\u001b[39m\u001b[39m.\u001b[39m_conn\u001b[39m.\u001b[39mexecute(\n\u001b[1;32m    145\u001b[0m         \u001b[39m\"\"\"DELETE FROM embeddings WHERE collection_uuid = ?\"\"\"\u001b[39;00m, [collection_uuid]\n\u001b[1;32m    146\u001b[0m     )\n\u001b[1;32m    148\u001b[0m     \u001b[39mself\u001b[39m\u001b[39m.\u001b[39m_delete_index(collection_uuid)\n",
      "File \u001b[0;32m~/.local/lib/python3.10/site-packages/chromadb/db/duckdb.py:83\u001b[0m, in \u001b[0;36mDuckDB.get_collection_uuid_from_name\u001b[0;34m(self, collection_name)\u001b[0m\n\u001b[1;32m     81\u001b[0m \u001b[39m@override\u001b[39m\n\u001b[1;32m     82\u001b[0m \u001b[39mdef\u001b[39;00m \u001b[39mget_collection_uuid_from_name\u001b[39m(\u001b[39mself\u001b[39m, collection_name: \u001b[39mstr\u001b[39m) \u001b[39m-\u001b[39m\u001b[39m>\u001b[39m UUID:\n\u001b[0;32m---> 83\u001b[0m     \u001b[39mreturn\u001b[39;00m \u001b[39mself\u001b[39;49m\u001b[39m.\u001b[39;49m_conn\u001b[39m.\u001b[39;49mexecute(\n\u001b[1;32m     84\u001b[0m         \u001b[39m\"\u001b[39;49m\u001b[39mSELECT uuid FROM collections WHERE name = ?\u001b[39;49m\u001b[39m\"\u001b[39;49m, [collection_name]\n\u001b[1;32m     85\u001b[0m     )\u001b[39m.\u001b[39;49mfetchall()[\u001b[39m0\u001b[39;49m][\u001b[39m0\u001b[39m]\n",
      "\u001b[0;31mIndexError\u001b[0m: list index out of range"
     ]
    }
   ],
   "source": [
    "#To cleanup, you can delete the collection\n",
    "vectordb.delete_collection()\n",
    "vectordb.persist()\n",
    "\n",
    "#delete the directory"
   ]
  },
  {
   "cell_type": "code",
   "execution_count": null,
   "metadata": {},
   "outputs": [],
   "source": [
    "!rm -rf db/"
   ]
  },
  {
   "attachments": {},
   "cell_type": "markdown",
   "metadata": {},
   "source": [
    "##Restarting the runtime"
   ]
  },
  {
   "cell_type": "code",
   "execution_count": null,
   "metadata": {},
   "outputs": [
    {
     "name": "stdout",
     "output_type": "stream",
     "text": [
      "Archive:  db.zip\n",
      "   creating: db/\n",
      "   creating: db/index/\n",
      "  inflating: db/index/id_to_uuid_8be6aa5e-3b16-4c1d-af03-e5940a1589fb.pkl  \n",
      "  inflating: db/index/uuid_to_id_8be6aa5e-3b16-4c1d-af03-e5940a1589fb.pkl  \n",
      "  inflating: db/index/index_metadata_8be6aa5e-3b16-4c1d-af03-e5940a1589fb.pkl  \n",
      "  inflating: db/index/index_8be6aa5e-3b16-4c1d-af03-e5940a1589fb.bin  \n",
      "  inflating: db/chroma-embeddings.parquet  \n",
      "  inflating: db/chroma-collections.parquet  \n"
     ]
    }
   ],
   "source": [
    "!unzip db.zip"
   ]
  },
  {
   "cell_type": "code",
   "execution_count": null,
   "metadata": {},
   "outputs": [],
   "source": [
    "#importing langchain modules\n",
    "\n",
    "from langchain.document_loaders import UnstructuredExcelLoader\n",
    "from langchain.vectorstores import Chroma\n",
    "from langchain.prompts import PromptTemplate\n",
    "from langchain.embeddings.openai import OpenAIEmbeddings\n",
    "from langchain.indexes import VectorstoreIndexCreator\n",
    "from langchain.chains import RetrievalQA\n",
    "from langchain import OpenAI, VectorDBQA\n",
    "from langchain.text_splitter import RecursiveCharacterTextSplitter\n",
    "from langchain.text_splitter import CharacterTextSplitter\n",
    "from langchain.text_splitter import TokenTextSplitter\n",
    "from langchain.vectorstores import FAISS\n",
    "from langchain.embeddings.sentence_transformer import SentenceTransformerEmbeddings\n",
    "from langchain.document_loaders import TextLoader\n",
    "from langchain import OpenAI, LLMChain, PromptTemplate\n",
    "import tiktoken\n",
    "from langchain.callbacks import get_openai_callback\n",
    "from langchain.chains.question_answering import load_qa_chain\n",
    "#importing the os\n",
    "\n",
    "from config import OPENAI_API_KEY\n"
   ]
  },
  {
   "cell_type": "code",
   "execution_count": null,
   "metadata": {},
   "outputs": [],
   "source": [
    "persist_directory = \"db\"\n",
    "\n",
    "# create the open-source embedding function\n",
    "vectordb2 = Chroma(embedding_function=OpenAIEmbeddings(),\n",
    "        persist_directory=persist_directory)"
   ]
  },
  {
   "cell_type": "code",
   "execution_count": null,
   "metadata": {},
   "outputs": [],
   "source": [
    "template = \"\"\"You are a chatbot having a conversation with a human.\n",
    "\n",
    "Given the following extracted parts of a long document and a question, create a final answer.\n",
    "\n",
    "{context}\n",
    "\n",
    "{chat_history}\n",
    "Human: {human_input}\n",
    "Chatbot:\"\"\""
   ]
  },
  {
   "cell_type": "code",
   "execution_count": null,
   "metadata": {},
   "outputs": [],
   "source": [
    "prompt = PromptTemplate(\n",
    "    input_variables=[\"chat_history\", \"human_input\", \"context\"], template=template\n",
    ")\n",
    "memory = ConversationBufferMemory(memory_key=\"chat_history\", input_key=\"human_input\")"
   ]
  },
  {
   "cell_type": "code",
   "execution_count": null,
   "metadata": {},
   "outputs": [],
   "source": [
    "chain = load_qa_chain(\n",
    "    OpenAI(temperature=0), chain_type=\"stuff\", memory=memory, prompt=prompt,verbose=True\n",
    ")"
   ]
  },
  {
   "cell_type": "code",
   "execution_count": null,
   "metadata": {},
   "outputs": [
    {
     "name": "stdout",
     "output_type": "stream",
     "text": [
      "\n",
      "\n",
      "\u001b[1m> Entering new  chain...\u001b[0m\n",
      "\n",
      "\n",
      "\u001b[1m> Entering new  chain...\u001b[0m\n",
      "Prompt after formatting:\n",
      "\u001b[32;1m\u001b[1;3mYou are a chatbot having a conversation with a human.\n",
      "\n",
      "Given the following extracted parts of a long document and a question, create a final answer.\n",
      "\n",
      "\n",
      "\n",
      "\n",
      "Human: Hi\n",
      "Chatbot:\u001b[0m\n",
      "\n",
      "\u001b[1m> Finished chain.\u001b[0m\n",
      "\n",
      "\u001b[1m> Finished chain.\u001b[0m\n"
     ]
    },
    {
     "data": {
      "text/plain": [
       "{'output_text': ' Hi there! How can I help you?'}"
      ]
     },
     "execution_count": 139,
     "metadata": {},
     "output_type": "execute_result"
    }
   ],
   "source": [
    "query = \"Hi\"\n",
    "retrieval = vectordb2.similarity_search(query)\n",
    "chain({\"input_documents\": retrieval, \"human_input\": query}, return_only_outputs=True)"
   ]
  },
  {
   "cell_type": "code",
   "execution_count": null,
   "metadata": {},
   "outputs": [
    {
     "name": "stdout",
     "output_type": "stream",
     "text": [
      "\n",
      "\n",
      "\u001b[1m> Entering new  chain...\u001b[0m\n",
      "\n",
      "\n",
      "\u001b[1m> Entering new  chain...\u001b[0m\n",
      "Prompt after formatting:\n",
      "\u001b[32;1m\u001b[1;3mYou are a chatbot having a conversation with a human.\n",
      "\n",
      "Given the following extracted parts of a long document and a question, create a final answer.\n",
      "\n",
      "\n",
      "\n",
      "Human: Hi\n",
      "AI:  Hi there! How can I help you?\n",
      "Human: I am interested to learn about professor on the Quantom mechanics, who can I meet\n",
      "Chatbot:\u001b[0m\n",
      "\n",
      "\u001b[1m> Finished chain.\u001b[0m\n",
      "\n",
      "\u001b[1m> Finished chain.\u001b[0m\n"
     ]
    },
    {
     "data": {
      "text/plain": [
       "{'output_text': ' You can meet Professor John Smith, who is an expert in quantum mechanics. He is a professor at the University of California, Berkeley.'}"
      ]
     },
     "execution_count": 140,
     "metadata": {},
     "output_type": "execute_result"
    }
   ],
   "source": [
    "query = \"I am interested to learn about professor on the Quantom mechanics, who can I meet\"\n",
    "chain({\"input_documents\": retrieval, \"human_input\": query}, return_only_outputs=True)"
   ]
  },
  {
   "cell_type": "code",
   "execution_count": null,
   "metadata": {},
   "outputs": [
    {
     "name": "stdout",
     "output_type": "stream",
     "text": [
      "\n",
      "\n",
      "\u001b[1m> Entering new  chain...\u001b[0m\n",
      "\n",
      "\n",
      "\u001b[1m> Entering new  chain...\u001b[0m\n",
      "Prompt after formatting:\n",
      "\u001b[32;1m\u001b[1;3mYou are a chatbot having a conversation with a human.\n",
      "\n",
      "Given the following extracted parts of a long document and a question, create a final answer.\n",
      "\n",
      "back\n",
      "\n",
      "Dr. Manoj Kannan\n",
      "\n",
      "Dr. Manoj Kannan\n",
      "\n",
      "Human: Hi\n",
      "AI:  Hi there! How can I help you?\n",
      "Human: I am interested to learn about professor on the Quantom mechanics, who can I meet\n",
      "AI:  You can meet Dr. Manoj Kannan, who is an expert in Quantum Mechanics. He is a professor at the University of California, Berkeley.\n",
      "Human: He does not have any experience in quantum mechanics\n",
      "Chatbot:\u001b[0m\n",
      "\n",
      "\u001b[1m> Finished chain.\u001b[0m\n",
      "\n",
      "\u001b[1m> Finished chain.\u001b[0m\n"
     ]
    },
    {
     "data": {
      "text/plain": [
       "{'output_text': ' Dr. Manoj Kannan has extensive experience in Quantum Mechanics. He has published numerous papers on the subject and has been teaching it for many years. He is a highly respected professor in the field.'}"
      ]
     },
     "execution_count": 102,
     "metadata": {},
     "output_type": "execute_result"
    }
   ],
   "source": [
    "\n",
    "query = \"He does not have any experience in quantum mechanics\"\n",
    "chain({\"input_documents\": retrieval, \"human_input\": query}, return_only_outputs=True)"
   ]
  },
  {
   "cell_type": "code",
   "execution_count": null,
   "metadata": {},
   "outputs": [
    {
     "name": "stdout",
     "output_type": "stream",
     "text": [
      "\n",
      "\n",
      "\u001b[1m> Entering new  chain...\u001b[0m\n",
      "\n",
      "\n",
      "\u001b[1m> Entering new  chain...\u001b[0m\n",
      "Prompt after formatting:\n",
      "\u001b[32;1m\u001b[1;3mYou are a chatbot having a conversation with a human.\n",
      "\n",
      "Given the following extracted parts of a long document and a question, create a final answer.\n",
      "\n",
      "back\n",
      "\n",
      "Dr. Manoj Kannan\n",
      "\n",
      "Dr. Manoj Kannan\n",
      "\n",
      "Human: Hi\n",
      "AI:  Hi there! How can I help you?\n",
      "Human: I am interested to learn about professor on the Quantom mechanics, who can I meet\n",
      "AI:  You can meet Dr. Manoj Kannan, who is an expert in Quantum Mechanics. He is a professor at the University of California, Berkeley.\n",
      "Human: He does not have any experience in quantum mechanics\n",
      "AI:  Dr. Manoj Kannan has extensive experience in Quantum Mechanics. He has published numerous papers on the subject and has been teaching it for many years. He is a highly respected professor in the field.\n",
      "Human: Go through the docs which I provided and recommend another professor with Quantum mechanics background\n",
      "Chatbot:\u001b[0m\n",
      "\n",
      "\u001b[1m> Finished chain.\u001b[0m\n",
      "\n",
      "\u001b[1m> Finished chain.\u001b[0m\n"
     ]
    },
    {
     "data": {
      "text/plain": [
       "{'input_documents': [Document(page_content='back', metadata={'source': 'excel/faculty.xlsx'}),\n",
       "  Document(page_content='Dr. Manoj Kannan', metadata={'source': 'excel/faculty.xlsx'}),\n",
       "  Document(page_content='Dr. Manoj Kannan', metadata={'source': 'excel/faculty.xlsx'})],\n",
       " 'human_input': 'Go through the docs which I provided and recommend another professor with Quantum mechanics background',\n",
       " 'chat_history': 'Human: Hi\\nAI:  Hi there! How can I help you?\\nHuman: I am interested to learn about professor on the Quantom mechanics, who can I meet\\nAI:  You can meet Dr. Manoj Kannan, who is an expert in Quantum Mechanics. He is a professor at the University of California, Berkeley.\\nHuman: He does not have any experience in quantum mechanics\\nAI:  Dr. Manoj Kannan has extensive experience in Quantum Mechanics. He has published numerous papers on the subject and has been teaching it for many years. He is a highly respected professor in the field.',\n",
       " 'output_text': ' Sure, I can recommend another professor with a background in Quantum Mechanics. Professor John Preskill is a professor of theoretical physics at the California Institute of Technology and is an expert in Quantum Mechanics. He has published numerous papers on the subject and has been teaching it for many years.'}"
      ]
     },
     "execution_count": 103,
     "metadata": {},
     "output_type": "execute_result"
    }
   ],
   "source": [
    "\n",
    "query = \"Go through the docs which I provided and recommend another professor with Quantum mechanics background\"\n",
    "chain({\"input_documents\": retrieval, \"human_input\": query})"
   ]
  },
  {
   "attachments": {},
   "cell_type": "markdown",
   "metadata": {},
   "source": []
  },
  {
   "attachments": {},
   "cell_type": "markdown",
   "metadata": {},
   "source": [
    "{'query': 'Which professor can I meet to learn C++ from and give information about him', 'result': ' You can meet Dr. Srikant Srinivasan to learn C++ from. He is a faculty member at the university.', 'source_documents': [Document(page_content='faculty\\n      \\n    \\n    \\n      Dr. Srikant Srinivasan', metadata={'source': 'excel/database.xlsx'}), Document(page_content='faculty\\n      \\n    \\n    \\n      Dr. Srikant Srinivasan', metadata={'source': 'excel/database.xlsx'}), Document(page_content='faculty\\n      \\n    \\n    \\n      Dr. Srikant Srinivasan', metadata={'source': 'excel/database.xlsx'}), Document(page_content='faculty\\n      \\n    \\n    \\n      Dr. Srikant Srinivasan', metadata={'source': 'excel/database.xlsx'})]}"
   ]
  }
 ],
 "metadata": {
  "kernelspec": {
   "display_name": "Python 3",
   "language": "python",
   "name": "python3"
  },
  "language_info": {
   "codemirror_mode": {
    "name": "ipython",
    "version": 3
   },
   "file_extension": ".py",
   "mimetype": "text/x-python",
   "name": "python",
   "nbconvert_exporter": "python",
   "pygments_lexer": "ipython3",
   "version": "3.10.6"
  },
  "orig_nbformat": 4
 },
 "nbformat": 4,
 "nbformat_minor": 2
}
