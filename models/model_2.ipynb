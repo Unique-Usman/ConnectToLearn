{
 "cells": [
  {
   "cell_type": "code",
   "execution_count": 4,
   "metadata": {},
   "outputs": [],
   "source": [
    "#importing langchain modules\n",
    "\n",
    "from langchain.document_loaders import UnstructuredExcelLoader\n",
    "from langchain.vectorstores import Chroma\n",
    "from langchain.prompts import PromptTemplate\n",
    "from langchain.embeddings.openai import OpenAIEmbeddings\n",
    "from langchain.indexes import VectorstoreIndexCreator\n",
    "from langchain.chains import RetrievalQA\n",
    "from langchain import OpenAI, VectorDBQA\n",
    "from langchain.llms import OpenAI\n",
    "from langchain.text_splitter import RecursiveCharacterTextSplitter\n",
    "from langchain.text_splitter import CharacterTextSplitter\n",
    "from langchain.text_splitter import TokenTextSplitter\n",
    "from langchain.vectorstores import FAISS\n",
    "from langchain.embeddings.sentence_transformer import SentenceTransformerEmbeddings\n",
    "from langchain.document_loaders import TextLoader\n",
    "import tiktoken\n",
    "from langchain.callbacks import get_openai_callback\n",
    "\n",
    "#importing the os\n",
    "import sys\n",
    "sys.path.append('../config.py')\n",
    "from config import OPENAI_API_KEY"
   ]
  },
  {
   "cell_type": "code",
   "execution_count": 5,
   "metadata": {},
   "outputs": [],
   "source": [
    "#loading the excel files\n",
    "loader = UnstructuredExcelLoader(\n",
    "    \"excel/database.xlsx\"\n",
    ")\n",
    "\n",
    "docs = loader.load()\n",
    "\n"
   ]
  },
  {
   "cell_type": "code",
   "execution_count": 6,
   "metadata": {},
   "outputs": [],
   "source": [
    "text_splitter_character = RecursiveCharacterTextSplitter(\n",
    "    chunk_size=10000, chunk_overlap=1000\n",
    ")\n",
    "\n",
    " \n",
    "#docs = TextLoader('file.txt').load()\n",
    "#embedding\n",
    "all_splits = text_splitter_character.split_documents(docs)\n",
    "#db = FAISS.from_documents(text_character, OpenAIEmbeddings())\n",
    "# print(type(all_splits))\n"
   ]
  },
  {
   "cell_type": "code",
   "execution_count": 36,
   "metadata": {},
   "outputs": [
    {
     "name": "stdout",
     "output_type": "stream",
     "text": [
      "221639\n"
     ]
    }
   ],
   "source": [
    "tokenizer = tiktoken.get_encoding(\"cl100k_base\")\n",
    "\n",
    "def tiktoken_len(text):\n",
    "    token  = tokenizer.encode(\n",
    "        text,\n",
    "        disallowed_special=()\n",
    "    )\n",
    "    return len(token)\n",
    "token_counts = [tiktoken_len(doc.page_content) for doc in all_splits]\n",
    "print(sum(token_counts))"
   ]
  },
  {
   "cell_type": "code",
   "execution_count": 32,
   "metadata": {},
   "outputs": [],
   "source": [
    "#Embed and store the texts\n",
    "#Supplying a persist_directory will stoer the embeddings on disk\n",
    "persist_directory = \"db\"\n",
    "\n",
    "# create the open-source embedding function\n",
    "vectordb = Chroma.from_documents(documents=all_splits,embedding=OpenAIEmbeddings(),\n",
    "        persist_directory=persist_directory)\n",
    "\n",
    "#persist the db to disk\n",
    "vectordb.persist()\n",
    "vectordb = None\n",
    "\n",
    "vectordb = Chroma.from_documents(documents=all_splits,embedding=OpenAIEmbeddings(),\n",
    "        persist_directory=persist_directory)"
   ]
  },
  {
   "cell_type": "code",
   "execution_count": 37,
   "metadata": {},
   "outputs": [],
   "source": [
    "retrieval = vectordb.as_retriever(search_kwargs={\"k\":2})\n",
    "#docs = retrieval.get_relevant_documents(\"Who is Rucha Joshi\")\n"
   ]
  },
  {
   "cell_type": "code",
   "execution_count": 47,
   "metadata": {},
   "outputs": [
    {
     "name": "stdout",
     "output_type": "stream",
     "text": [
      "\n",
      "\n",
      "\u001b[1m> Entering new  chain...\u001b[0m\n",
      "\n",
      "\u001b[1m> Finished chain.\u001b[0m\n",
      "{'query': 'Which professor should  meet to know more about DNA and why', 'result': ' Dr. Swagata Halder is a faculty member who has research expertise in molecular cell biology and in vitro protein biochemistry related to DNA damage response. He obtained his DPhil degree from the University of Oxford, UK and pursued his postdoctoral research as a scientist at the Institute for Research in Biomedicine (IRB), Bellinzona, Switzerland. He has published his research in prestigious scientific journals like Nature Genetics, Nature Communications, Molecular Cell, Nucleic Acid Research, Scientific Reports and Chemical Science. Therefore, Dr. Swagata Halder is an excellent resource to learn more about DNA.', 'source_documents': [Document(page_content='faculty\\n      \\n    \\n    \\n      Dr. Swagata Halder\\n      Dr. Swagata Halder aims to pursue his research in the area of DNA damage response in order to formulate novel therapeutic interventions against cancer. His laboratory expertise in molecular cell biology and in vitro protein biochemistry.\\\\n\\\\nDr. Halder obtained his DPhil degree from the University of Oxford, UK under the supervision of Prof. Kristijan Ramadan. During his DPhil research, Dr. Halder along with his colleagues discovered a new human syndrome, now known as SPARTAN syndrome or Ruijs-Aalfs syndrome. It has led to the further characterization of SPRTN-protease in DNA-protein crosslinks repair pathway and subsequently established why SPRTN-deficiency leads to premature ageing and early onset liver cancer.\\\\n\\\\nDr. Halder pursued his postdoctoral research as a scientist at the Institute for Research in Biomedicine (IRB), Bellinzona, Switzerland at Prof. Petr Cejka’s laboratory. By utilizing in vitro biochemistry, Dr. Halder has demonstrated how breast cancer susceptibility protein BRCA2 protects stressed replication fork in RAD51 dependent manner and showed why a single cancer associated mutation in BRCA2 render these cells sensitive to DNA damaging agents (e.g., PARP inhibitors). His work additionally addressed some key fundamental questions in the DNA-repair field and paves the way for further research in this rapidly emerging and therapeutically important field.\\\\n\\\\nDr. Halder has received Goodger-Schorstein research scholarship in Medical Sciences, University of Oxford and Doctoral Transition Innovation Award from the European Institute of Innovation, Technology and Health, a body of the European Union. Dr. Halder is also a recipient of EMBO Long-Term Fellowship. Dr. Halder’s research has been published in prestigious scientific journals like Nature Genetics, Nature Communications, Molecular Cell, Nucleic Acid Research, Scientific Reports and Chemical Science.\\\\n\\\\nView his complete list of publications here: https://scholar.google.com/citations?user=I1ieueUAAAAJ&hl=en\\n      DNA repair and DNA damage response\\n      1. DNA-protein crosslinks repair\\\\n2. Ubiquitin proteasome system in DNA damage response\\\\n3. Replication fork reversal and protection\\n      1. University of Oxford\\\\nDPhil , DNA replication stress response · (2012 - 2016)\\\\n2. Kasturba Medical College, Mangalore, Manipal University\\\\nM.Sc Biochemistry, Medical Biochemistry · (2003 - 2006)\\\\n3. Bangalore University\\\\nBachelor of Science - BSc, Microbiology, Zoology, Chemistry · (2000 - 2003)\\n      1. Plaksha University\\\\nAssistant Professor\\\\nOctober 2022 - Present (9 months)\\\\n2. IRB,Bellinzona\\\\nPostdoctoral Scientist\\\\nJuly 2018 - July 2022 (4 years 1 month)\\\\n3. University of Oxford\\\\nPostdoctoral Researcher\\\\nOctober 2016 - September 2017 (1 year)\\\\n4. The University of British Columbia\\\\nResearcher\\\\nSeptember 2010 - December 2011 (1 year 4 months)\\\\n5. Ajou University\\\\nResearch Fellow\\\\nSeptember 2009 - August 2010 (1 year)\\\\n6. School of Life Sciences, Manipal\\\\nResearch Assistant\\\\nMay 2007 - August 2009 (2 years 4 months)\\\\n7. Manipal Acunova\\\\nTrainee Scientist\\\\nOctober 2006 - July 2007 (10 months)', metadata={'source': 'excel/database.xlsx'})]}\n",
      "Use the following pieces of context to answer the question at the end. If you don't know the answer, just say that you don't know, don't try to make up an answer.\n",
      "\n",
      "{context}\n",
      "\n",
      "Question: {question}\n",
      "Helpful Answer:\n",
      "932\n"
     ]
    }
   ],
   "source": [
    "with get_openai_callback() as cb:\n",
    "        qa_chain = RetrievalQA.from_chain_type(llm=OpenAI(), chain_type=\"stuff\", retriever=retrieval,\n",
    "                return_source_documents=True, verbose=True)\n",
    "        print(qa_chain(\"Which professor should  meet to know more about DNA and why\"))\n",
    "total_tokens = cb.total_tokens\n",
    "print(qa_chain.combine_documents_chain.llm_chain.prompt.template)\n",
    "print(total_tokens)"
   ]
  },
  {
   "cell_type": "code",
   "execution_count": 46,
   "metadata": {},
   "outputs": [
    {
     "name": "stdout",
     "output_type": "stream",
     "text": [
      "2273\n"
     ]
    }
   ],
   "source": [
    "print(total_tokens)"
   ]
  },
  {
   "cell_type": "code",
   "execution_count": 39,
   "metadata": {},
   "outputs": [
    {
     "name": "stdout",
     "output_type": "stream",
     "text": [
      "  adding: db/ (stored 0%)\n",
      "  adding: db/index/ (stored 0%)\n",
      "  adding: db/index/index_metadata_23a6e9aa-a2b7-4a98-809a-ad60ef59242c.pkl (deflated 14%)\n",
      "  adding: db/index/id_to_uuid_23a6e9aa-a2b7-4a98-809a-ad60ef59242c.pkl (deflated 35%)\n",
      "  adding: db/index/uuid_to_id_23a6e9aa-a2b7-4a98-809a-ad60ef59242c.pkl (deflated 39%)\n",
      "  adding: db/index/index_23a6e9aa-a2b7-4a98-809a-ad60ef59242c.bin (deflated 17%)\n",
      "  adding: db/chroma-embeddings.parquet (deflated 26%)\n",
      "  adding: db/chroma-collections.parquet (deflated 50%)\n"
     ]
    }
   ],
   "source": [
    "!zip -r db.zip ./db"
   ]
  },
  {
   "cell_type": "code",
   "execution_count": 40,
   "metadata": {},
   "outputs": [],
   "source": [
    "#To cleanup, you can delete the collection\n",
    "vectordb.delete_collection()\n",
    "vectordb.persist()\n",
    "\n",
    "#delete the directory"
   ]
  },
  {
   "cell_type": "code",
   "execution_count": 41,
   "metadata": {},
   "outputs": [],
   "source": [
    "!rm -rf db/"
   ]
  },
  {
   "attachments": {},
   "cell_type": "markdown",
   "metadata": {},
   "source": [
    "##Restarting the runtime"
   ]
  },
  {
   "cell_type": "code",
   "execution_count": 42,
   "metadata": {},
   "outputs": [
    {
     "name": "stdout",
     "output_type": "stream",
     "text": [
      "Archive:  db.zip\n",
      "   creating: db/\n",
      "   creating: db/index/\n",
      "  inflating: db/index/index_metadata_23a6e9aa-a2b7-4a98-809a-ad60ef59242c.pkl  \n",
      "  inflating: db/index/id_to_uuid_23a6e9aa-a2b7-4a98-809a-ad60ef59242c.pkl  \n",
      "  inflating: db/index/uuid_to_id_23a6e9aa-a2b7-4a98-809a-ad60ef59242c.pkl  \n",
      "  inflating: db/index/index_23a6e9aa-a2b7-4a98-809a-ad60ef59242c.bin  \n",
      "  inflating: db/chroma-embeddings.parquet  \n",
      "  inflating: db/chroma-collections.parquet  \n"
     ]
    }
   ],
   "source": [
    "!unzip db.zip"
   ]
  },
  {
   "cell_type": "code",
   "execution_count": 2,
   "metadata": {},
   "outputs": [],
   "source": [
    "#importing langchain modules\n",
    "\n",
    "from langchain.document_loaders import UnstructuredExcelLoader\n",
    "from langchain.vectorstores import Chroma\n",
    "from langchain.prompts import PromptTemplate\n",
    "from langchain.embeddings.openai import OpenAIEmbeddings\n",
    "from langchain.indexes import VectorstoreIndexCreator\n",
    "from langchain.chains import RetrievalQA\n",
    "from langchain import OpenAI, VectorDBQA\n",
    "from langchain.llms import OpenAI\n",
    "from langchain.text_splitter import RecursiveCharacterTextSplitter\n",
    "from langchain.text_splitter import CharacterTextSplitter\n",
    "from langchain.text_splitter import TokenTextSplitter\n",
    "from langchain.vectorstores import FAISS\n",
    "from langchain.embeddings.sentence_transformer import SentenceTransformerEmbeddings\n",
    "from langchain.document_loaders import TextLoader\n",
    "from langchain.memory import ConversationBufferMemory\n",
    "from langchain import OpenAI, LLMChain, PromptTemplate\n",
    "import tiktoken\n",
    "from langchain.callbacks import get_openai_callback\n",
    "from langchain.chains.question_answering import load_qa_chain\n",
    "#importing the os\n",
    "\n",
    "from config import OPENAI_API_KEY\n"
   ]
  },
  {
   "cell_type": "code",
   "execution_count": 3,
   "metadata": {},
   "outputs": [],
   "source": [
    "persist_directory = \"db\"\n",
    "\n",
    "# create the open-source embedding function\n",
    "vectordb2 = Chroma(embedding_function=OpenAIEmbeddings(),\n",
    "        persist_directory=persist_directory)"
   ]
  },
  {
   "cell_type": "code",
   "execution_count": 5,
   "metadata": {},
   "outputs": [],
   "source": [
    "template = \"\"\"You are a chatbot having a conversation with a human.\n",
    "\n",
    "Given the following extracted parts of a long document and a question, create a final answer.\n",
    "\n",
    "{context}\n",
    "\n",
    "{chat_history}\n",
    "Human: {human_input}\n",
    "Chatbot:\"\"\""
   ]
  },
  {
   "cell_type": "code",
   "execution_count": 6,
   "metadata": {},
   "outputs": [],
   "source": [
    "prompt = PromptTemplate(\n",
    "    input_variables=[\"chat_history\", \"human_input\", \"context\"], template=template\n",
    ")\n",
    "memory = ConversationBufferMemory(memory_key=\"chat_history\", input_key=\"human_input\")"
   ]
  },
  {
   "cell_type": "code",
   "execution_count": 7,
   "metadata": {},
   "outputs": [],
   "source": [
    "chain = load_qa_chain(\n",
    "    OpenAI(temperature=0), chain_type=\"stuff\", memory=memory, prompt=prompt,verbose=True\n",
    ")"
   ]
  },
  {
   "cell_type": "code",
   "execution_count": 8,
   "metadata": {},
   "outputs": [
    {
     "name": "stdout",
     "output_type": "stream",
     "text": [
      "\n",
      "\n",
      "\u001b[1m> Entering new  chain...\u001b[0m\n",
      "\n",
      "\n",
      "\u001b[1m> Entering new  chain...\u001b[0m\n",
      "Prompt after formatting:\n",
      "\u001b[32;1m\u001b[1;3mYou are a chatbot having a conversation with a human.\n",
      "\n",
      "Given the following extracted parts of a long document and a question, create a final answer.\n",
      "\n",
      "1. Plaksha University\\nAssistant Professor\\nMarch 2023 - Present (4 months)\\nChandigarh, India\\n2. Manning College of Information and Computer Sciences, UMass\\nAmherst\\nPostdoctoral Researcher\\nJanuary 2022 - January 2023 (1 year 1 month)\\nAmherst, Massachusetts, United States\\n3. Indian Institute of Technology, Bombay\\n5 years 7 months\\nPostdoctoral Researcher\\nAugust 2021 - January 2022 (6 months)\\nMumbai, Maharashtra, India\\n4. Research Scholar\\nJuly 2016 - July 2021 (5 years 1 month)\\nMumbai Area, India\\n5. Tata Motors\\nManager, Engineering Research Center\\nSeptember 2012 - July 2016 (3 years 11 months)\\nPune\\n6. Automotive Embedded Design & Development\\nElectronic Control Unit Software Design and Develpment for Powertrain, BCM\\ndomain\\nAutomotive Electrical & Electronics\n",
      "      1. Optimal Cycling of a Heterogenous Battery Bank via Reinforcement Learning - 2021\\nWe consider the problem of optimal charging/discharging of a bank of heterogenous battery units, driven by stochastic electricity generation and demand processes. The batteries in the battery bank may differ with respect to their capacities, ramp constraints, losses, as well as cycling costs. The goal is to minimize the degradation costs associated with battery cycling in the long run; this is posed formally as a Markov decision process. We propose a linear function approximation based Q-learning algorithm for learning the optimal solution, using a specially designed class of kernel functions that approximate the structure of the value functions associated with the MDP. The proposed algorithm is validated via an extensive case study.\\n\\n2. Statistical economies of scale in battery sharing - 2021\\nThe goal of this paper is to shed light on the statistical economies of scale achievable from the sharing of storage between multiple renewable generators. To demonstrate these economies in practice, we present an extensive study using real-world wind data from a grid of equispaced wind generators sharing a common battery. Each of these generators is in turn contracted to meet a certain demand profile to a prescribed level of reliability. Interestingly, the statistical diversity in wind generation across different locations yields useful economies of scale once the grid spacing exceeds 200 km. However, when the grid spacing exceeds 500 km, we find that the economies grow dramatically: The shared battery size becomes insensitive to the number of participating generators. This means that the generators can access a common, shared battery and collectively achieve the same reliability they would have, had each of … \\n\\n3. Sizing storage for reliable renewable integration: A large deviations approach - 2020\\nThe inherent intermittency of wind and solar generation presents a significant challenge as we seek to increase the penetration of renewable generation in the power grid. Increasingly, energy storage is being deployed alongside renewable generation to counter this intermittency. However, a formal characterization of the reliability of renewable generators bundled with storage is lacking in the literature. The present paper seeks to fill this gap. We use a Markov modulated fluid queue to model the loss of load probability (LOLP) associated with a renewable generator bundled with a battery, serving an uncertain demand process. Further, we characterize the asymptotic behavior of the LOLP as the battery size scales to infinity. Our results shed light on the fundamental limits of reliability achievable, and also guide the sizing of the storage required in order to meet a given reliability target. Finally, we present a case study …\\n\\n4. Pareto-optimal energy sharing between battery-equipped renewable generators - 2020\\nThe inherent intermittency of renewable sources like wind and solar has resulted in a bundling of renewable generators with storage resources (batteries) for increased reliability. In this paper, we consider the problem of energy sharing between two such bundles, each associated with their own demand profiles. The demand profiles might, for example, correspond to commitments made by the bundle to the grid. With each bundle seeking to minimize its loss of load rate, we explore the possibility that one bundle can supply energy to the other from its battery at times of deficit, in return for a reciprocal supply from the other when it faces a deficit itself. We show that there always exist mutually beneficial energy sharing arrangements between the two bundles. Moreover, we show that Pareto-optimal arrangements involve at least one bundle transferring energy to the other at the maximum feasible rate at times of deficit …\\n\\n5. Sizing storage for reliable renewable integration - 2019\\nThe inherent intermittency of wind and solar generation presents a significant challenge as we seek to increase the penetration of renewable generation in the power grid. Increasingly, energy storage is being deployed alongside renewable generation to counter this intermittency. However, a formal characterization of the reliability of renewable generators bundled with storage is lacking in the literature. The present paper seeks to fill this gap. We use a Markov modulated fluid queue to model the loss of load probability (LOLP) associated with a renewable generator bundled with a battery, serving an uncertain demand process. Further, we characterize the asymptotic behavior of the LOLP as the battery size scales to infinity. Our results shed light on the fundamental limits of reliability achievable, and also guide the sizing of the storage required in order to meet a given reliability target. Finally, we present a case study …\\n\\n6. Low cost hardware-in-loop for automotive application - 2015\\nHardware-in-loop (HiL) simulation focuses on testing of Electronic Control Units (ECU) in virtual real time environment in order to scrutinize the behavior of controller under test. Use of HiL simulation in development process reduces time and cost involved in verification and validation of the ECU's development. Generally, HiL systems developed using dSPACE®, National Instruments® and other platforms used in automotive industry are very costly and sophisticated. For less complex systems a low cost HiL testing approach using an existing target hardware can be opted. It may or may not be possible to use existing hardware, as there might be limitations in the availability of pin count, on-chip peripherals etc. This paper discusses a case study of Electronic Speed Limiter (ESL) where a low-cost HiL testing technique is being implemented for verification and validation of ESL. The ESL HiL system developed using …\\n\\n7. Hardware in the loop for electronic speed limiter - 2015\\nElectronic controller unit (ECU) used for controlling sub-systems of complex real life applications like automotive vehicles can pose several challenges. Many times one needs to plan development and testing of controller, when the end vehicle is also under development and hence not available. In such case, hardware in the loop (HIL) approach for testing such controllers emulates the external application environment and allows concurrent development of the electronic controllers. Even when the end vehicle is available, if design iterations are to be carried out using \"in-vehicle\" testing approach, then the same can be time-consuming. Such an approach may also possess safety hazards if malfunction of the ECU impacts occupants/vehicle safety. Many cases require simulation of a range of use-case scenarios as well as system operation under diverse set of environments. For example, for a power-train related …\\n\n",
      "      \n",
      "      \n",
      "      \n",
      "      \n",
      "      \n",
      "      \n",
      "      faculty\n",
      "      \n",
      "    \n",
      "    \n",
      "      Ajay Arora\n",
      "      Ajay Arora, Managing Director of D’Decor, has been in the family business since 1991. Back then the company was known as ‘Dicitex Industries’. Ajay has been instrumental in growing the company into an international brand - D’Decor - with his vision and business acumen. The company has achieved leadership position in the international and domestic markets and is currently the world’s largest manufacturer of curtains and upholstery fabrics.Ajay believes that one of the key drivers of success in today’s market is digital. Poised for growth in a digital economy, D’Decor has aligned its corporate strategy and digital initiatives to deliver winning customer propositions. As a pioneering move in the industry, D’Decor has successfully launched various digital assets that cater to both, the trade as well as the end consumer. From Computer aided Design & Manufacturing to enhancing the in-store experience, Digital is at the heart of D’Decor.Alumnus of the prestigious Owner President Management program at Harvard Business School, Ajay has also studied textile engineering from VJTI, Mumbai.\n",
      "      \n",
      "      \n",
      "      Harvard Business School (OPM, Business) ﻿VJTI (Textile Engineering)\n",
      "      \n",
      "      \n",
      "      \n",
      "      \n",
      "      \n",
      "      \n",
      "      \n",
      "      \n",
      "      founder\n",
      "      Managing Director, D’Decor Home FabricsFounder & Trustee, Plaksha University\n",
      "    \n",
      "    \n",
      "      Ambarish Raghuvanshi\n",
      "      Ambarish has been an Independent Advisor since mid-2014. He formerly served as the CFO and Head of Legal and Administration at Naukri Internet Services Pvt. Ltd. until 2014 and also as the CFO and Group President of Finance at Info Edge (India) Pvt. Ltd. Prior to joining Info Edge, Ambarish worked with companies such as Standard Chartered Bank, HSBC, and the Bank of America, where he assisted and advised corporates across a wide spectrum of the industries on capital raising and mergers and acquisitions. He has advised two companies that completed very successful IPO's in the last 5 years. He spends time helping start-ups scale as an angel investor. An avid reader he likes to read two books simultaneously, only printed books and mostly reads non-fiction.\n",
      "      \n",
      "      \n",
      "      XLRI Jamshedpur (PGDBM) ICAI (CA) St. Xavier's College (B.Com. Honours)﻿\n",
      "\n",
      "faculty\n",
      "      \n",
      "    \n",
      "    \n",
      "      Dr. Anupam Sobti\n",
      "      My research interest lies at the intersection of computer vision,\\nmachine learning and embedded systems. Smart sensors, assistive\\ndevices, wearable health monitoring systems, etc. require robust\\nand latency-sensitive sensing and actuation. Therefore, these\\napplications require innovation across sensing techniques,\\nperception algorithms and energy optimization techniques in\\nsoftware and hardware. My current research explores the use of\\ndifferent modalities like radar and ultrasonic sensors along with\\nvision sensors for an energy-efficient and high-performance system.\\nI like to build systems. It is when systems are built and verified with\\nthe users that real problems are solved and the constraints and\\nnuances of the systems come to life.\n",
      "      1. Applied Machine Learning\\n2. Embedded Systems/IoT\\n\n",
      "      1. Low-cost health diagnostics\\n2. Smart Agriculture\\n3. Sustainability Sensing for buildings, rivers, forests, etc.\n",
      "      1. Indian Institute of Technology, Delhi:\\nPhD, Computer Science · (January 2016 - June 2022)\\n2. Birla Institute of Technology and Science, Pilani:\\nMaster of Technology (M.Tech.), Microelectronics · (2014 - 2016)\\n3. Netaji Subhas Institute of Technology:\\nB.E., Electronics and Communication · (2009 - 2013)\\n4. St. Francis De Sales\\n5. Jaipuria Vidyalaya\n",
      "      1. Plaksha University:\\nAssistant Professor\\n2. Microsoft: Postdoctoral Researcher\\n> Joined the Societal Impact through Cloud and AI (SCAI) group at MSR\\nBangalore. I am working on problems in sustainability and sensor reliability.\\n3. Indian Institute of Technology, Delhi: Researcher\\na. Building eyes for the visually impaired\\n> Leading MAVI (Mobility Assistant for Visually Impaired) in the Assistive\\nTechnology group, IIT Delhi.\\n> Building roadmaps for research and development of the entire pipeline\\n(hardware and software)\\nb. Computer Vision Systems Research \\n> Robust evaluation for streaming perception, Generalization in unseen\\nenvironments, Multi-sensor efficiency\\n> Published papers at top venues for both computer vision and embedded\\nsystems\\nc. Teaching Assistantships in embedded systems and computer vision\\n> Mentoring student projects and thesis. Awarded Teaching Assistant\\nexcellence awards.\\n4. Qualcomm\\n> MBIST Verification Engineer. Working on Pre-silicon GLS and Post Silicon\\nBringup activities.\\n> I was responsible for Pre-silicon Simulation, Test generation and Post Silicon\\nDebug for Memory BIST\\n\n",
      "\n",
      "\n",
      "Human: Hi\n",
      "Chatbot:\u001b[0m\n",
      "\n",
      "\u001b[1m> Finished chain.\u001b[0m\n",
      "\n",
      "\u001b[1m> Finished chain.\u001b[0m\n"
     ]
    },
    {
     "data": {
      "text/plain": [
       "{'output_text': ' Hi there! How can I help you?'}"
      ]
     },
     "execution_count": 8,
     "metadata": {},
     "output_type": "execute_result"
    }
   ],
   "source": [
    "query = \"Hi\"\n",
    "retrieval = vectordb2.similarity_search(query)\n",
    "chain({\"input_documents\": retrieval, \"human_input\": query}, return_only_outputs=True)"
   ]
  },
  {
   "cell_type": "code",
   "execution_count": 63,
   "metadata": {},
   "outputs": [
    {
     "name": "stdout",
     "output_type": "stream",
     "text": [
      "\n",
      "\n",
      "\u001b[1m> Entering new  chain...\u001b[0m\n",
      "\n",
      "\n",
      "\u001b[1m> Entering new  chain...\u001b[0m\n",
      "Prompt after formatting:\n",
      "\u001b[32;1m\u001b[1;3mYou are a chatbot having a conversation with a human.\n",
      "\n",
      "Given the following extracted parts of a long document and a question, create a final answer.\n",
      "\n",
      "1. Plaksha University\\nAssistant Professor\\nMarch 2023 - Present (4 months)\\nChandigarh, India\\n2. Manning College of Information and Computer Sciences, UMass\\nAmherst\\nPostdoctoral Researcher\\nJanuary 2022 - January 2023 (1 year 1 month)\\nAmherst, Massachusetts, United States\\n3. Indian Institute of Technology, Bombay\\n5 years 7 months\\nPostdoctoral Researcher\\nAugust 2021 - January 2022 (6 months)\\nMumbai, Maharashtra, India\\n4. Research Scholar\\nJuly 2016 - July 2021 (5 years 1 month)\\nMumbai Area, India\\n5. Tata Motors\\nManager, Engineering Research Center\\nSeptember 2012 - July 2016 (3 years 11 months)\\nPune\\n6. Automotive Embedded Design & Development\\nElectronic Control Unit Software Design and Develpment for Powertrain, BCM\\ndomain\\nAutomotive Electrical & Electronics\n",
      "      1. Optimal Cycling of a Heterogenous Battery Bank via Reinforcement Learning - 2021\\nWe consider the problem of optimal charging/discharging of a bank of heterogenous battery units, driven by stochastic electricity generation and demand processes. The batteries in the battery bank may differ with respect to their capacities, ramp constraints, losses, as well as cycling costs. The goal is to minimize the degradation costs associated with battery cycling in the long run; this is posed formally as a Markov decision process. We propose a linear function approximation based Q-learning algorithm for learning the optimal solution, using a specially designed class of kernel functions that approximate the structure of the value functions associated with the MDP. The proposed algorithm is validated via an extensive case study.\\n\\n2. Statistical economies of scale in battery sharing - 2021\\nThe goal of this paper is to shed light on the statistical economies of scale achievable from the sharing of storage between multiple renewable generators. To demonstrate these economies in practice, we present an extensive study using real-world wind data from a grid of equispaced wind generators sharing a common battery. Each of these generators is in turn contracted to meet a certain demand profile to a prescribed level of reliability. Interestingly, the statistical diversity in wind generation across different locations yields useful economies of scale once the grid spacing exceeds 200 km. However, when the grid spacing exceeds 500 km, we find that the economies grow dramatically: The shared battery size becomes insensitive to the number of participating generators. This means that the generators can access a common, shared battery and collectively achieve the same reliability they would have, had each of … \\n\\n3. Sizing storage for reliable renewable integration: A large deviations approach - 2020\\nThe inherent intermittency of wind and solar generation presents a significant challenge as we seek to increase the penetration of renewable generation in the power grid. Increasingly, energy storage is being deployed alongside renewable generation to counter this intermittency. However, a formal characterization of the reliability of renewable generators bundled with storage is lacking in the literature. The present paper seeks to fill this gap. We use a Markov modulated fluid queue to model the loss of load probability (LOLP) associated with a renewable generator bundled with a battery, serving an uncertain demand process. Further, we characterize the asymptotic behavior of the LOLP as the battery size scales to infinity. Our results shed light on the fundamental limits of reliability achievable, and also guide the sizing of the storage required in order to meet a given reliability target. Finally, we present a case study …\\n\\n4. Pareto-optimal energy sharing between battery-equipped renewable generators - 2020\\nThe inherent intermittency of renewable sources like wind and solar has resulted in a bundling of renewable generators with storage resources (batteries) for increased reliability. In this paper, we consider the problem of energy sharing between two such bundles, each associated with their own demand profiles. The demand profiles might, for example, correspond to commitments made by the bundle to the grid. With each bundle seeking to minimize its loss of load rate, we explore the possibility that one bundle can supply energy to the other from its battery at times of deficit, in return for a reciprocal supply from the other when it faces a deficit itself. We show that there always exist mutually beneficial energy sharing arrangements between the two bundles. Moreover, we show that Pareto-optimal arrangements involve at least one bundle transferring energy to the other at the maximum feasible rate at times of deficit …\\n\\n5. Sizing storage for reliable renewable integration - 2019\\nThe inherent intermittency of wind and solar generation presents a significant challenge as we seek to increase the penetration of renewable generation in the power grid. Increasingly, energy storage is being deployed alongside renewable generation to counter this intermittency. However, a formal characterization of the reliability of renewable generators bundled with storage is lacking in the literature. The present paper seeks to fill this gap. We use a Markov modulated fluid queue to model the loss of load probability (LOLP) associated with a renewable generator bundled with a battery, serving an uncertain demand process. Further, we characterize the asymptotic behavior of the LOLP as the battery size scales to infinity. Our results shed light on the fundamental limits of reliability achievable, and also guide the sizing of the storage required in order to meet a given reliability target. Finally, we present a case study …\\n\\n6. Low cost hardware-in-loop for automotive application - 2015\\nHardware-in-loop (HiL) simulation focuses on testing of Electronic Control Units (ECU) in virtual real time environment in order to scrutinize the behavior of controller under test. Use of HiL simulation in development process reduces time and cost involved in verification and validation of the ECU's development. Generally, HiL systems developed using dSPACE®, National Instruments® and other platforms used in automotive industry are very costly and sophisticated. For less complex systems a low cost HiL testing approach using an existing target hardware can be opted. It may or may not be possible to use existing hardware, as there might be limitations in the availability of pin count, on-chip peripherals etc. This paper discusses a case study of Electronic Speed Limiter (ESL) where a low-cost HiL testing technique is being implemented for verification and validation of ESL. The ESL HiL system developed using …\\n\\n7. Hardware in the loop for electronic speed limiter - 2015\\nElectronic controller unit (ECU) used for controlling sub-systems of complex real life applications like automotive vehicles can pose several challenges. Many times one needs to plan development and testing of controller, when the end vehicle is also under development and hence not available. In such case, hardware in the loop (HIL) approach for testing such controllers emulates the external application environment and allows concurrent development of the electronic controllers. Even when the end vehicle is available, if design iterations are to be carried out using \"in-vehicle\" testing approach, then the same can be time-consuming. Such an approach may also possess safety hazards if malfunction of the ECU impacts occupants/vehicle safety. Many cases require simulation of a range of use-case scenarios as well as system operation under diverse set of environments. For example, for a power-train related …\\n\n",
      "      \n",
      "      \n",
      "      \n",
      "      \n",
      "      \n",
      "      \n",
      "      faculty\n",
      "      \n",
      "    \n",
      "    \n",
      "      Ajay Arora\n",
      "      Ajay Arora, Managing Director of D’Decor, has been in the family business since 1991. Back then the company was known as ‘Dicitex Industries’. Ajay has been instrumental in growing the company into an international brand - D’Decor - with his vision and business acumen. The company has achieved leadership position in the international and domestic markets and is currently the world’s largest manufacturer of curtains and upholstery fabrics.Ajay believes that one of the key drivers of success in today’s market is digital. Poised for growth in a digital economy, D’Decor has aligned its corporate strategy and digital initiatives to deliver winning customer propositions. As a pioneering move in the industry, D’Decor has successfully launched various digital assets that cater to both, the trade as well as the end consumer. From Computer aided Design & Manufacturing to enhancing the in-store experience, Digital is at the heart of D’Decor.Alumnus of the prestigious Owner President Management program at Harvard Business School, Ajay has also studied textile engineering from VJTI, Mumbai.\n",
      "      \n",
      "      \n",
      "      Harvard Business School (OPM, Business) ﻿VJTI (Textile Engineering)\n",
      "      \n",
      "      \n",
      "      \n",
      "      \n",
      "      \n",
      "      \n",
      "      \n",
      "      \n",
      "      founder\n",
      "      Managing Director, D’Decor Home FabricsFounder & Trustee, Plaksha University\n",
      "    \n",
      "    \n",
      "      Ambarish Raghuvanshi\n",
      "      Ambarish has been an Independent Advisor since mid-2014. He formerly served as the CFO and Head of Legal and Administration at Naukri Internet Services Pvt. Ltd. until 2014 and also as the CFO and Group President of Finance at Info Edge (India) Pvt. Ltd. Prior to joining Info Edge, Ambarish worked with companies such as Standard Chartered Bank, HSBC, and the Bank of America, where he assisted and advised corporates across a wide spectrum of the industries on capital raising and mergers and acquisitions. He has advised two companies that completed very successful IPO's in the last 5 years. He spends time helping start-ups scale as an angel investor. An avid reader he likes to read two books simultaneously, only printed books and mostly reads non-fiction.\n",
      "      \n",
      "      \n",
      "      XLRI Jamshedpur (PGDBM) ICAI (CA) St. Xavier's College (B.Com. Honours)﻿\n",
      "\n",
      "faculty\n",
      "      \n",
      "    \n",
      "    \n",
      "      Dr. Anupam Sobti\n",
      "      My research interest lies at the intersection of computer vision,\\nmachine learning and embedded systems. Smart sensors, assistive\\ndevices, wearable health monitoring systems, etc. require robust\\nand latency-sensitive sensing and actuation. Therefore, these\\napplications require innovation across sensing techniques,\\nperception algorithms and energy optimization techniques in\\nsoftware and hardware. My current research explores the use of\\ndifferent modalities like radar and ultrasonic sensors along with\\nvision sensors for an energy-efficient and high-performance system.\\nI like to build systems. It is when systems are built and verified with\\nthe users that real problems are solved and the constraints and\\nnuances of the systems come to life.\n",
      "      1. Applied Machine Learning\\n2. Embedded Systems/IoT\\n\n",
      "      1. Low-cost health diagnostics\\n2. Smart Agriculture\\n3. Sustainability Sensing for buildings, rivers, forests, etc.\n",
      "      1. Indian Institute of Technology, Delhi:\\nPhD, Computer Science · (January 2016 - June 2022)\\n2. Birla Institute of Technology and Science, Pilani:\\nMaster of Technology (M.Tech.), Microelectronics · (2014 - 2016)\\n3. Netaji Subhas Institute of Technology:\\nB.E., Electronics and Communication · (2009 - 2013)\\n4. St. Francis De Sales\\n5. Jaipuria Vidyalaya\n",
      "      1. Plaksha University:\\nAssistant Professor\\n2. Microsoft: Postdoctoral Researcher\\n> Joined the Societal Impact through Cloud and AI (SCAI) group at MSR\\nBangalore. I am working on problems in sustainability and sensor reliability.\\n3. Indian Institute of Technology, Delhi: Researcher\\na. Building eyes for the visually impaired\\n> Leading MAVI (Mobility Assistant for Visually Impaired) in the Assistive\\nTechnology group, IIT Delhi.\\n> Building roadmaps for research and development of the entire pipeline\\n(hardware and software)\\nb. Computer Vision Systems Research \\n> Robust evaluation for streaming perception, Generalization in unseen\\nenvironments, Multi-sensor efficiency\\n> Published papers at top venues for both computer vision and embedded\\nsystems\\nc. Teaching Assistantships in embedded systems and computer vision\\n> Mentoring student projects and thesis. Awarded Teaching Assistant\\nexcellence awards.\\n4. Qualcomm\\n> MBIST Verification Engineer. Working on Pre-silicon GLS and Post Silicon\\nBringup activities.\\n> I was responsible for Pre-silicon Simulation, Test generation and Post Silicon\\nDebug for Memory BIST\\n\n",
      "\n",
      "Human: Hi\n",
      "AI:  Hi there! How can I help you?\n",
      "Human: I am interested to learn about professor on the Quantom mechanics, who can I meet\n",
      "Chatbot:\u001b[0m\n",
      "\n",
      "\u001b[1m> Finished chain.\u001b[0m\n",
      "\n",
      "\u001b[1m> Finished chain.\u001b[0m\n"
     ]
    },
    {
     "data": {
      "text/plain": [
       "{'output_text': ' You can meet Dr. Anupam Sobti, who is an Assistant Professor at Plaksha University. He has a PhD in Computer Science from Indian Institute of Technology, Delhi and specializes in Applied Machine Learning, Embedded Systems/IoT, Low-cost health diagnostics, Smart Agriculture, and Sustainability Sensing for buildings, rivers, forests, etc.'}"
      ]
     },
     "execution_count": 63,
     "metadata": {},
     "output_type": "execute_result"
    }
   ],
   "source": [
    "query = \"I am interested to learn about professor on the Quantom mechanics, who can I meet\"\n",
    "chain({\"input_documents\": retrieval, \"human_input\": query}, return_only_outputs=True)"
   ]
  },
  {
   "cell_type": "code",
   "execution_count": 9,
   "metadata": {},
   "outputs": [
    {
     "name": "stdout",
     "output_type": "stream",
     "text": [
      "\n",
      "\n",
      "\u001b[1m> Entering new  chain...\u001b[0m\n",
      "\n",
      "\n",
      "\u001b[1m> Entering new  chain...\u001b[0m\n",
      "Prompt after formatting:\n",
      "\u001b[32;1m\u001b[1;3mYou are a chatbot having a conversation with a human.\n",
      "\n",
      "Given the following extracted parts of a long document and a question, create a final answer.\n",
      "\n",
      "1. Plaksha University\\nAssistant Professor\\nMarch 2023 - Present (4 months)\\nChandigarh, India\\n2. Manning College of Information and Computer Sciences, UMass\\nAmherst\\nPostdoctoral Researcher\\nJanuary 2022 - January 2023 (1 year 1 month)\\nAmherst, Massachusetts, United States\\n3. Indian Institute of Technology, Bombay\\n5 years 7 months\\nPostdoctoral Researcher\\nAugust 2021 - January 2022 (6 months)\\nMumbai, Maharashtra, India\\n4. Research Scholar\\nJuly 2016 - July 2021 (5 years 1 month)\\nMumbai Area, India\\n5. Tata Motors\\nManager, Engineering Research Center\\nSeptember 2012 - July 2016 (3 years 11 months)\\nPune\\n6. Automotive Embedded Design & Development\\nElectronic Control Unit Software Design and Develpment for Powertrain, BCM\\ndomain\\nAutomotive Electrical & Electronics\n",
      "      1. Optimal Cycling of a Heterogenous Battery Bank via Reinforcement Learning - 2021\\nWe consider the problem of optimal charging/discharging of a bank of heterogenous battery units, driven by stochastic electricity generation and demand processes. The batteries in the battery bank may differ with respect to their capacities, ramp constraints, losses, as well as cycling costs. The goal is to minimize the degradation costs associated with battery cycling in the long run; this is posed formally as a Markov decision process. We propose a linear function approximation based Q-learning algorithm for learning the optimal solution, using a specially designed class of kernel functions that approximate the structure of the value functions associated with the MDP. The proposed algorithm is validated via an extensive case study.\\n\\n2. Statistical economies of scale in battery sharing - 2021\\nThe goal of this paper is to shed light on the statistical economies of scale achievable from the sharing of storage between multiple renewable generators. To demonstrate these economies in practice, we present an extensive study using real-world wind data from a grid of equispaced wind generators sharing a common battery. Each of these generators is in turn contracted to meet a certain demand profile to a prescribed level of reliability. Interestingly, the statistical diversity in wind generation across different locations yields useful economies of scale once the grid spacing exceeds 200 km. However, when the grid spacing exceeds 500 km, we find that the economies grow dramatically: The shared battery size becomes insensitive to the number of participating generators. This means that the generators can access a common, shared battery and collectively achieve the same reliability they would have, had each of … \\n\\n3. Sizing storage for reliable renewable integration: A large deviations approach - 2020\\nThe inherent intermittency of wind and solar generation presents a significant challenge as we seek to increase the penetration of renewable generation in the power grid. Increasingly, energy storage is being deployed alongside renewable generation to counter this intermittency. However, a formal characterization of the reliability of renewable generators bundled with storage is lacking in the literature. The present paper seeks to fill this gap. We use a Markov modulated fluid queue to model the loss of load probability (LOLP) associated with a renewable generator bundled with a battery, serving an uncertain demand process. Further, we characterize the asymptotic behavior of the LOLP as the battery size scales to infinity. Our results shed light on the fundamental limits of reliability achievable, and also guide the sizing of the storage required in order to meet a given reliability target. Finally, we present a case study …\\n\\n4. Pareto-optimal energy sharing between battery-equipped renewable generators - 2020\\nThe inherent intermittency of renewable sources like wind and solar has resulted in a bundling of renewable generators with storage resources (batteries) for increased reliability. In this paper, we consider the problem of energy sharing between two such bundles, each associated with their own demand profiles. The demand profiles might, for example, correspond to commitments made by the bundle to the grid. With each bundle seeking to minimize its loss of load rate, we explore the possibility that one bundle can supply energy to the other from its battery at times of deficit, in return for a reciprocal supply from the other when it faces a deficit itself. We show that there always exist mutually beneficial energy sharing arrangements between the two bundles. Moreover, we show that Pareto-optimal arrangements involve at least one bundle transferring energy to the other at the maximum feasible rate at times of deficit …\\n\\n5. Sizing storage for reliable renewable integration - 2019\\nThe inherent intermittency of wind and solar generation presents a significant challenge as we seek to increase the penetration of renewable generation in the power grid. Increasingly, energy storage is being deployed alongside renewable generation to counter this intermittency. However, a formal characterization of the reliability of renewable generators bundled with storage is lacking in the literature. The present paper seeks to fill this gap. We use a Markov modulated fluid queue to model the loss of load probability (LOLP) associated with a renewable generator bundled with a battery, serving an uncertain demand process. Further, we characterize the asymptotic behavior of the LOLP as the battery size scales to infinity. Our results shed light on the fundamental limits of reliability achievable, and also guide the sizing of the storage required in order to meet a given reliability target. Finally, we present a case study …\\n\\n6. Low cost hardware-in-loop for automotive application - 2015\\nHardware-in-loop (HiL) simulation focuses on testing of Electronic Control Units (ECU) in virtual real time environment in order to scrutinize the behavior of controller under test. Use of HiL simulation in development process reduces time and cost involved in verification and validation of the ECU's development. Generally, HiL systems developed using dSPACE®, National Instruments® and other platforms used in automotive industry are very costly and sophisticated. For less complex systems a low cost HiL testing approach using an existing target hardware can be opted. It may or may not be possible to use existing hardware, as there might be limitations in the availability of pin count, on-chip peripherals etc. This paper discusses a case study of Electronic Speed Limiter (ESL) where a low-cost HiL testing technique is being implemented for verification and validation of ESL. The ESL HiL system developed using …\\n\\n7. Hardware in the loop for electronic speed limiter - 2015\\nElectronic controller unit (ECU) used for controlling sub-systems of complex real life applications like automotive vehicles can pose several challenges. Many times one needs to plan development and testing of controller, when the end vehicle is also under development and hence not available. In such case, hardware in the loop (HIL) approach for testing such controllers emulates the external application environment and allows concurrent development of the electronic controllers. Even when the end vehicle is available, if design iterations are to be carried out using \"in-vehicle\" testing approach, then the same can be time-consuming. Such an approach may also possess safety hazards if malfunction of the ECU impacts occupants/vehicle safety. Many cases require simulation of a range of use-case scenarios as well as system operation under diverse set of environments. For example, for a power-train related …\\n\n",
      "      \n",
      "      \n",
      "      \n",
      "      \n",
      "      \n",
      "      \n",
      "      faculty\n",
      "      \n",
      "    \n",
      "    \n",
      "      Ajay Arora\n",
      "      Ajay Arora, Managing Director of D’Decor, has been in the family business since 1991. Back then the company was known as ‘Dicitex Industries’. Ajay has been instrumental in growing the company into an international brand - D’Decor - with his vision and business acumen. The company has achieved leadership position in the international and domestic markets and is currently the world’s largest manufacturer of curtains and upholstery fabrics.Ajay believes that one of the key drivers of success in today’s market is digital. Poised for growth in a digital economy, D’Decor has aligned its corporate strategy and digital initiatives to deliver winning customer propositions. As a pioneering move in the industry, D’Decor has successfully launched various digital assets that cater to both, the trade as well as the end consumer. From Computer aided Design & Manufacturing to enhancing the in-store experience, Digital is at the heart of D’Decor.Alumnus of the prestigious Owner President Management program at Harvard Business School, Ajay has also studied textile engineering from VJTI, Mumbai.\n",
      "      \n",
      "      \n",
      "      Harvard Business School (OPM, Business) ﻿VJTI (Textile Engineering)\n",
      "      \n",
      "      \n",
      "      \n",
      "      \n",
      "      \n",
      "      \n",
      "      \n",
      "      \n",
      "      founder\n",
      "      Managing Director, D’Decor Home FabricsFounder & Trustee, Plaksha University\n",
      "    \n",
      "    \n",
      "      Ambarish Raghuvanshi\n",
      "      Ambarish has been an Independent Advisor since mid-2014. He formerly served as the CFO and Head of Legal and Administration at Naukri Internet Services Pvt. Ltd. until 2014 and also as the CFO and Group President of Finance at Info Edge (India) Pvt. Ltd. Prior to joining Info Edge, Ambarish worked with companies such as Standard Chartered Bank, HSBC, and the Bank of America, where he assisted and advised corporates across a wide spectrum of the industries on capital raising and mergers and acquisitions. He has advised two companies that completed very successful IPO's in the last 5 years. He spends time helping start-ups scale as an angel investor. An avid reader he likes to read two books simultaneously, only printed books and mostly reads non-fiction.\n",
      "      \n",
      "      \n",
      "      XLRI Jamshedpur (PGDBM) ICAI (CA) St. Xavier's College (B.Com. Honours)﻿\n",
      "\n",
      "faculty\n",
      "      \n",
      "    \n",
      "    \n",
      "      Dr. Anupam Sobti\n",
      "      My research interest lies at the intersection of computer vision,\\nmachine learning and embedded systems. Smart sensors, assistive\\ndevices, wearable health monitoring systems, etc. require robust\\nand latency-sensitive sensing and actuation. Therefore, these\\napplications require innovation across sensing techniques,\\nperception algorithms and energy optimization techniques in\\nsoftware and hardware. My current research explores the use of\\ndifferent modalities like radar and ultrasonic sensors along with\\nvision sensors for an energy-efficient and high-performance system.\\nI like to build systems. It is when systems are built and verified with\\nthe users that real problems are solved and the constraints and\\nnuances of the systems come to life.\n",
      "      1. Applied Machine Learning\\n2. Embedded Systems/IoT\\n\n",
      "      1. Low-cost health diagnostics\\n2. Smart Agriculture\\n3. Sustainability Sensing for buildings, rivers, forests, etc.\n",
      "      1. Indian Institute of Technology, Delhi:\\nPhD, Computer Science · (January 2016 - June 2022)\\n2. Birla Institute of Technology and Science, Pilani:\\nMaster of Technology (M.Tech.), Microelectronics · (2014 - 2016)\\n3. Netaji Subhas Institute of Technology:\\nB.E., Electronics and Communication · (2009 - 2013)\\n4. St. Francis De Sales\\n5. Jaipuria Vidyalaya\n",
      "      1. Plaksha University:\\nAssistant Professor\\n2. Microsoft: Postdoctoral Researcher\\n> Joined the Societal Impact through Cloud and AI (SCAI) group at MSR\\nBangalore. I am working on problems in sustainability and sensor reliability.\\n3. Indian Institute of Technology, Delhi: Researcher\\na. Building eyes for the visually impaired\\n> Leading MAVI (Mobility Assistant for Visually Impaired) in the Assistive\\nTechnology group, IIT Delhi.\\n> Building roadmaps for research and development of the entire pipeline\\n(hardware and software)\\nb. Computer Vision Systems Research \\n> Robust evaluation for streaming perception, Generalization in unseen\\nenvironments, Multi-sensor efficiency\\n> Published papers at top venues for both computer vision and embedded\\nsystems\\nc. Teaching Assistantships in embedded systems and computer vision\\n> Mentoring student projects and thesis. Awarded Teaching Assistant\\nexcellence awards.\\n4. Qualcomm\\n> MBIST Verification Engineer. Working on Pre-silicon GLS and Post Silicon\\nBringup activities.\\n> I was responsible for Pre-silicon Simulation, Test generation and Post Silicon\\nDebug for Memory BIST\\n\n",
      "\n",
      "Human: Hi\n",
      "AI:  Hi there! How can I help you?\n",
      "Human: He does not have any experience in quantum mechanics\n",
      "Chatbot:\u001b[0m\n",
      "\n",
      "\u001b[1m> Finished chain.\u001b[0m\n",
      "\n",
      "\u001b[1m> Finished chain.\u001b[0m\n"
     ]
    },
    {
     "data": {
      "text/plain": [
       "{'output_text': ' I see. It looks like Dr. Anupam Sobti does not have any experience in quantum mechanics. Is there anything else I can help you with?'}"
      ]
     },
     "execution_count": 9,
     "metadata": {},
     "output_type": "execute_result"
    }
   ],
   "source": [
    "\n",
    "query = \"He does not have any experience in quantum mechanics\"\n",
    "chain({\"input_documents\": retrieval, \"human_input\": query}, return_only_outputs=True)"
   ]
  },
  {
   "cell_type": "code",
   "execution_count": 10,
   "metadata": {},
   "outputs": [
    {
     "name": "stdout",
     "output_type": "stream",
     "text": [
      "\n",
      "\n",
      "\u001b[1m> Entering new  chain...\u001b[0m\n",
      "\n",
      "\n",
      "\u001b[1m> Entering new  chain...\u001b[0m\n",
      "Prompt after formatting:\n",
      "\u001b[32;1m\u001b[1;3mYou are a chatbot having a conversation with a human.\n",
      "\n",
      "Given the following extracted parts of a long document and a question, create a final answer.\n",
      "\n",
      "1. Plaksha University\\nAssistant Professor\\nMarch 2023 - Present (4 months)\\nChandigarh, India\\n2. Manning College of Information and Computer Sciences, UMass\\nAmherst\\nPostdoctoral Researcher\\nJanuary 2022 - January 2023 (1 year 1 month)\\nAmherst, Massachusetts, United States\\n3. Indian Institute of Technology, Bombay\\n5 years 7 months\\nPostdoctoral Researcher\\nAugust 2021 - January 2022 (6 months)\\nMumbai, Maharashtra, India\\n4. Research Scholar\\nJuly 2016 - July 2021 (5 years 1 month)\\nMumbai Area, India\\n5. Tata Motors\\nManager, Engineering Research Center\\nSeptember 2012 - July 2016 (3 years 11 months)\\nPune\\n6. Automotive Embedded Design & Development\\nElectronic Control Unit Software Design and Develpment for Powertrain, BCM\\ndomain\\nAutomotive Electrical & Electronics\n",
      "      1. Optimal Cycling of a Heterogenous Battery Bank via Reinforcement Learning - 2021\\nWe consider the problem of optimal charging/discharging of a bank of heterogenous battery units, driven by stochastic electricity generation and demand processes. The batteries in the battery bank may differ with respect to their capacities, ramp constraints, losses, as well as cycling costs. The goal is to minimize the degradation costs associated with battery cycling in the long run; this is posed formally as a Markov decision process. We propose a linear function approximation based Q-learning algorithm for learning the optimal solution, using a specially designed class of kernel functions that approximate the structure of the value functions associated with the MDP. The proposed algorithm is validated via an extensive case study.\\n\\n2. Statistical economies of scale in battery sharing - 2021\\nThe goal of this paper is to shed light on the statistical economies of scale achievable from the sharing of storage between multiple renewable generators. To demonstrate these economies in practice, we present an extensive study using real-world wind data from a grid of equispaced wind generators sharing a common battery. Each of these generators is in turn contracted to meet a certain demand profile to a prescribed level of reliability. Interestingly, the statistical diversity in wind generation across different locations yields useful economies of scale once the grid spacing exceeds 200 km. However, when the grid spacing exceeds 500 km, we find that the economies grow dramatically: The shared battery size becomes insensitive to the number of participating generators. This means that the generators can access a common, shared battery and collectively achieve the same reliability they would have, had each of … \\n\\n3. Sizing storage for reliable renewable integration: A large deviations approach - 2020\\nThe inherent intermittency of wind and solar generation presents a significant challenge as we seek to increase the penetration of renewable generation in the power grid. Increasingly, energy storage is being deployed alongside renewable generation to counter this intermittency. However, a formal characterization of the reliability of renewable generators bundled with storage is lacking in the literature. The present paper seeks to fill this gap. We use a Markov modulated fluid queue to model the loss of load probability (LOLP) associated with a renewable generator bundled with a battery, serving an uncertain demand process. Further, we characterize the asymptotic behavior of the LOLP as the battery size scales to infinity. Our results shed light on the fundamental limits of reliability achievable, and also guide the sizing of the storage required in order to meet a given reliability target. Finally, we present a case study …\\n\\n4. Pareto-optimal energy sharing between battery-equipped renewable generators - 2020\\nThe inherent intermittency of renewable sources like wind and solar has resulted in a bundling of renewable generators with storage resources (batteries) for increased reliability. In this paper, we consider the problem of energy sharing between two such bundles, each associated with their own demand profiles. The demand profiles might, for example, correspond to commitments made by the bundle to the grid. With each bundle seeking to minimize its loss of load rate, we explore the possibility that one bundle can supply energy to the other from its battery at times of deficit, in return for a reciprocal supply from the other when it faces a deficit itself. We show that there always exist mutually beneficial energy sharing arrangements between the two bundles. Moreover, we show that Pareto-optimal arrangements involve at least one bundle transferring energy to the other at the maximum feasible rate at times of deficit …\\n\\n5. Sizing storage for reliable renewable integration - 2019\\nThe inherent intermittency of wind and solar generation presents a significant challenge as we seek to increase the penetration of renewable generation in the power grid. Increasingly, energy storage is being deployed alongside renewable generation to counter this intermittency. However, a formal characterization of the reliability of renewable generators bundled with storage is lacking in the literature. The present paper seeks to fill this gap. We use a Markov modulated fluid queue to model the loss of load probability (LOLP) associated with a renewable generator bundled with a battery, serving an uncertain demand process. Further, we characterize the asymptotic behavior of the LOLP as the battery size scales to infinity. Our results shed light on the fundamental limits of reliability achievable, and also guide the sizing of the storage required in order to meet a given reliability target. Finally, we present a case study …\\n\\n6. Low cost hardware-in-loop for automotive application - 2015\\nHardware-in-loop (HiL) simulation focuses on testing of Electronic Control Units (ECU) in virtual real time environment in order to scrutinize the behavior of controller under test. Use of HiL simulation in development process reduces time and cost involved in verification and validation of the ECU's development. Generally, HiL systems developed using dSPACE®, National Instruments® and other platforms used in automotive industry are very costly and sophisticated. For less complex systems a low cost HiL testing approach using an existing target hardware can be opted. It may or may not be possible to use existing hardware, as there might be limitations in the availability of pin count, on-chip peripherals etc. This paper discusses a case study of Electronic Speed Limiter (ESL) where a low-cost HiL testing technique is being implemented for verification and validation of ESL. The ESL HiL system developed using …\\n\\n7. Hardware in the loop for electronic speed limiter - 2015\\nElectronic controller unit (ECU) used for controlling sub-systems of complex real life applications like automotive vehicles can pose several challenges. Many times one needs to plan development and testing of controller, when the end vehicle is also under development and hence not available. In such case, hardware in the loop (HIL) approach for testing such controllers emulates the external application environment and allows concurrent development of the electronic controllers. Even when the end vehicle is available, if design iterations are to be carried out using \"in-vehicle\" testing approach, then the same can be time-consuming. Such an approach may also possess safety hazards if malfunction of the ECU impacts occupants/vehicle safety. Many cases require simulation of a range of use-case scenarios as well as system operation under diverse set of environments. For example, for a power-train related …\\n\n",
      "      \n",
      "      \n",
      "      \n",
      "      \n",
      "      \n",
      "      \n",
      "      faculty\n",
      "      \n",
      "    \n",
      "    \n",
      "      Ajay Arora\n",
      "      Ajay Arora, Managing Director of D’Decor, has been in the family business since 1991. Back then the company was known as ‘Dicitex Industries’. Ajay has been instrumental in growing the company into an international brand - D’Decor - with his vision and business acumen. The company has achieved leadership position in the international and domestic markets and is currently the world’s largest manufacturer of curtains and upholstery fabrics.Ajay believes that one of the key drivers of success in today’s market is digital. Poised for growth in a digital economy, D’Decor has aligned its corporate strategy and digital initiatives to deliver winning customer propositions. As a pioneering move in the industry, D’Decor has successfully launched various digital assets that cater to both, the trade as well as the end consumer. From Computer aided Design & Manufacturing to enhancing the in-store experience, Digital is at the heart of D’Decor.Alumnus of the prestigious Owner President Management program at Harvard Business School, Ajay has also studied textile engineering from VJTI, Mumbai.\n",
      "      \n",
      "      \n",
      "      Harvard Business School (OPM, Business) ﻿VJTI (Textile Engineering)\n",
      "      \n",
      "      \n",
      "      \n",
      "      \n",
      "      \n",
      "      \n",
      "      \n",
      "      \n",
      "      founder\n",
      "      Managing Director, D’Decor Home FabricsFounder & Trustee, Plaksha University\n",
      "    \n",
      "    \n",
      "      Ambarish Raghuvanshi\n",
      "      Ambarish has been an Independent Advisor since mid-2014. He formerly served as the CFO and Head of Legal and Administration at Naukri Internet Services Pvt. Ltd. until 2014 and also as the CFO and Group President of Finance at Info Edge (India) Pvt. Ltd. Prior to joining Info Edge, Ambarish worked with companies such as Standard Chartered Bank, HSBC, and the Bank of America, where he assisted and advised corporates across a wide spectrum of the industries on capital raising and mergers and acquisitions. He has advised two companies that completed very successful IPO's in the last 5 years. He spends time helping start-ups scale as an angel investor. An avid reader he likes to read two books simultaneously, only printed books and mostly reads non-fiction.\n",
      "      \n",
      "      \n",
      "      XLRI Jamshedpur (PGDBM) ICAI (CA) St. Xavier's College (B.Com. Honours)﻿\n",
      "\n",
      "faculty\n",
      "      \n",
      "    \n",
      "    \n",
      "      Dr. Anupam Sobti\n",
      "      My research interest lies at the intersection of computer vision,\\nmachine learning and embedded systems. Smart sensors, assistive\\ndevices, wearable health monitoring systems, etc. require robust\\nand latency-sensitive sensing and actuation. Therefore, these\\napplications require innovation across sensing techniques,\\nperception algorithms and energy optimization techniques in\\nsoftware and hardware. My current research explores the use of\\ndifferent modalities like radar and ultrasonic sensors along with\\nvision sensors for an energy-efficient and high-performance system.\\nI like to build systems. It is when systems are built and verified with\\nthe users that real problems are solved and the constraints and\\nnuances of the systems come to life.\n",
      "      1. Applied Machine Learning\\n2. Embedded Systems/IoT\\n\n",
      "      1. Low-cost health diagnostics\\n2. Smart Agriculture\\n3. Sustainability Sensing for buildings, rivers, forests, etc.\n",
      "      1. Indian Institute of Technology, Delhi:\\nPhD, Computer Science · (January 2016 - June 2022)\\n2. Birla Institute of Technology and Science, Pilani:\\nMaster of Technology (M.Tech.), Microelectronics · (2014 - 2016)\\n3. Netaji Subhas Institute of Technology:\\nB.E., Electronics and Communication · (2009 - 2013)\\n4. St. Francis De Sales\\n5. Jaipuria Vidyalaya\n",
      "      1. Plaksha University:\\nAssistant Professor\\n2. Microsoft: Postdoctoral Researcher\\n> Joined the Societal Impact through Cloud and AI (SCAI) group at MSR\\nBangalore. I am working on problems in sustainability and sensor reliability.\\n3. Indian Institute of Technology, Delhi: Researcher\\na. Building eyes for the visually impaired\\n> Leading MAVI (Mobility Assistant for Visually Impaired) in the Assistive\\nTechnology group, IIT Delhi.\\n> Building roadmaps for research and development of the entire pipeline\\n(hardware and software)\\nb. Computer Vision Systems Research \\n> Robust evaluation for streaming perception, Generalization in unseen\\nenvironments, Multi-sensor efficiency\\n> Published papers at top venues for both computer vision and embedded\\nsystems\\nc. Teaching Assistantships in embedded systems and computer vision\\n> Mentoring student projects and thesis. Awarded Teaching Assistant\\nexcellence awards.\\n4. Qualcomm\\n> MBIST Verification Engineer. Working on Pre-silicon GLS and Post Silicon\\nBringup activities.\\n> I was responsible for Pre-silicon Simulation, Test generation and Post Silicon\\nDebug for Memory BIST\\n\n",
      "\n",
      "Human: Hi\n",
      "AI:  Hi there! How can I help you?\n",
      "Human: He does not have any experience in quantum mechanics\n",
      "AI:  I see. It looks like Dr. Anupam Sobti does not have any experience in quantum mechanics. Is there anything else I can help you with?\n",
      "Human: Go through the docs which I provided and recommend another professor with Quantum mechanics background\n",
      "Chatbot:\u001b[0m\n",
      "\n",
      "\u001b[1m> Finished chain.\u001b[0m\n",
      "\n",
      "\u001b[1m> Finished chain.\u001b[0m\n"
     ]
    },
    {
     "data": {
      "text/plain": [
       "{'output_text': ' Sure, I can help you with that. Based on the documents you provided, I recommend Professor Rajesh Kumar from Indian Institute of Technology, Delhi. He has extensive experience in quantum mechanics and has published several papers in the field.'}"
      ]
     },
     "execution_count": 10,
     "metadata": {},
     "output_type": "execute_result"
    }
   ],
   "source": [
    "\n",
    "query = \"Go through the docs which I provided and recommend another professor with Quantum mechanics background\"\n",
    "chain({\"input_documents\": retrieval, \"human_input\": query})"
   ]
  },
  {
   "attachments": {},
   "cell_type": "markdown",
   "metadata": {},
   "source": []
  },
  {
   "attachments": {},
   "cell_type": "markdown",
   "metadata": {},
   "source": [
    "{'query': 'Which professor can I meet to learn C++ from and give information about him', 'result': ' You can meet Dr. Srikant Srinivasan to learn C++ from. He is a faculty member at the university.', 'source_documents': [Document(page_content='faculty\\n      \\n    \\n    \\n      Dr. Srikant Srinivasan', metadata={'source': 'excel/database.xlsx'}), Document(page_content='faculty\\n      \\n    \\n    \\n      Dr. Srikant Srinivasan', metadata={'source': 'excel/database.xlsx'}), Document(page_content='faculty\\n      \\n    \\n    \\n      Dr. Srikant Srinivasan', metadata={'source': 'excel/database.xlsx'}), Document(page_content='faculty\\n      \\n    \\n    \\n      Dr. Srikant Srinivasan', metadata={'source': 'excel/database.xlsx'})]}"
   ]
  }
 ],
 "metadata": {
  "kernelspec": {
   "display_name": "Python 3",
   "language": "python",
   "name": "python3"
  },
  "language_info": {
   "codemirror_mode": {
    "name": "ipython",
    "version": 3
   },
   "file_extension": ".py",
   "mimetype": "text/x-python",
   "name": "python",
   "nbconvert_exporter": "python",
   "pygments_lexer": "ipython3",
   "version": "3.10.6"
  },
  "orig_nbformat": 4
 },
 "nbformat": 4,
 "nbformat_minor": 2
}
