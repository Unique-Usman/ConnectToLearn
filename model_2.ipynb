{
 "cells": [
  {
   "cell_type": "code",
   "execution_count": 1,
   "metadata": {},
   "outputs": [],
   "source": [
    "#importing langchain modules\n",
    "\n",
    "from langchain.document_loaders import UnstructuredExcelLoader\n",
    "from langchain.vectorstores import Chroma\n",
    "from langchain.prompts import PromptTemplate\n",
    "from langchain.embeddings.openai import OpenAIEmbeddings\n",
    "from langchain.indexes import VectorstoreIndexCreator\n",
    "from langchain.chains import RetrievalQA\n",
    "from langchain import OpenAI, VectorDBQA\n",
    "from langchain.llms import OpenAI\n",
    "from langchain.text_splitter import RecursiveCharacterTextSplitter\n",
    "from langchain.text_splitter import CharacterTextSplitter\n",
    "from langchain.text_splitter import TokenTextSplitter\n",
    "from langchain.vectorstores import FAISS\n",
    "from langchain.embeddings.sentence_transformer import SentenceTransformerEmbeddings\n",
    "from langchain.document_loaders import TextLoader\n",
    "import tiktoken\n",
    "from langchain.callbacks import get_openai_callback\n",
    "#importing the os\n",
    "\n",
    "from config import OPENAI_API_KEY\n"
   ]
  },
  {
   "cell_type": "code",
   "execution_count": 2,
   "metadata": {},
   "outputs": [],
   "source": [
    "#loading the excel files\n",
    "loader = UnstructuredExcelLoader(\n",
    "    \"excel/database.xlsx\"\n",
    ")\n",
    "\n",
    "docs = loader.load()\n",
    "\n"
   ]
  },
  {
   "cell_type": "code",
   "execution_count": 3,
   "metadata": {},
   "outputs": [],
   "source": [
    "text_splitter_character = RecursiveCharacterTextSplitter(\n",
    "    chunk_size=10000, chunk_overlap=1000\n",
    ")\n",
    "\n",
    " \n",
    "#docs = TextLoader('file.txt').load()\n",
    "#embedding\n",
    "all_splits = text_splitter_character.split_documents(docs)\n",
    "#db = FAISS.from_documents(text_character, OpenAIEmbeddings())\n",
    "# print(type(all_splits))\n"
   ]
  },
  {
   "cell_type": "code",
   "execution_count": 4,
   "metadata": {},
   "outputs": [
    {
     "name": "stdout",
     "output_type": "stream",
     "text": [
      "221639\n"
     ]
    }
   ],
   "source": [
    "tokenizer = tiktoken.get_encoding(\"cl100k_base\")\n",
    "\n",
    "def tiktoken_len(text):\n",
    "    token  = tokenizer.encode(\n",
    "        text,\n",
    "        disallowed_special=()\n",
    "    )\n",
    "    return len(token)\n",
    "token_counts = [tiktoken_len(doc.page_content) for doc in all_splits]\n",
    "print(sum(token_counts))"
   ]
  },
  {
   "cell_type": "code",
   "execution_count": 5,
   "metadata": {},
   "outputs": [],
   "source": [
    "#Embed and store the texts\n",
    "#Supplying a persist_directory will stoer the embeddings on disk\n",
    "persist_directory = \"db\"\n",
    "\n",
    "# create the open-source embedding function\n",
    "vectordb = Chroma.from_documents(documents=all_splits,embedding=OpenAIEmbeddings(),\n",
    "        persist_directory=persist_directory)\n",
    "\n",
    "#persist the db to disk\n",
    "vectordb.persist()\n",
    "vectordb = None\n",
    "\n",
    "vectordb = Chroma.from_documents(documents=all_splits,embedding=OpenAIEmbeddings(),\n",
    "        persist_directory=persist_directory)"
   ]
  },
  {
   "cell_type": "code",
   "execution_count": 6,
   "metadata": {},
   "outputs": [],
   "source": [
    "retrieval = vectordb.as_retriever(search_kwargs={\"k\":2})\n",
    "#docs = retrieval.get_relevant_documents(\"Who is Rucha Joshi\")\n"
   ]
  },
  {
   "cell_type": "code",
   "execution_count": 7,
   "metadata": {},
   "outputs": [
    {
     "name": "stdout",
     "output_type": "stream",
     "text": [
      "\n",
      "\n",
      "\u001b[1m> Entering new  chain...\u001b[0m\n",
      "\n",
      "\u001b[1m> Finished chain.\u001b[0m\n",
      "{'query': 'Which professor should  meet to know more about DNA and why', 'result': ' Dr. Swagata Halder should be met to know more about DNA repair and DNA damage response because he has expertise in molecular cell biology and in vitro protein biochemistry and has conducted research in the area of DNA damage response to formulate novel therapeutic interventions against cancer. He also obtained his DPhil degree from the University of Oxford, UK and pursued his postdoctoral research as a scientist at the Institute for Research in Biomedicine (IRB), Bellinzona, Switzerland.', 'source_documents': [Document(page_content='faculty\\n      \\n    \\n    \\n      Dr. Swagata Halder\\n      Dr. Swagata Halder aims to pursue his research in the area of DNA damage response in order to formulate novel therapeutic interventions against cancer. His laboratory expertise in molecular cell biology and in vitro protein biochemistry.\\\\n\\\\nDr. Halder obtained his DPhil degree from the University of Oxford, UK under the supervision of Prof. Kristijan Ramadan. During his DPhil research, Dr. Halder along with his colleagues discovered a new human syndrome, now known as SPARTAN syndrome or Ruijs-Aalfs syndrome. It has led to the further characterization of SPRTN-protease in DNA-protein crosslinks repair pathway and subsequently established why SPRTN-deficiency leads to premature ageing and early onset liver cancer.\\\\n\\\\nDr. Halder pursued his postdoctoral research as a scientist at the Institute for Research in Biomedicine (IRB), Bellinzona, Switzerland at Prof. Petr Cejka’s laboratory. By utilizing in vitro biochemistry, Dr. Halder has demonstrated how breast cancer susceptibility protein BRCA2 protects stressed replication fork in RAD51 dependent manner and showed why a single cancer associated mutation in BRCA2 render these cells sensitive to DNA damaging agents (e.g., PARP inhibitors). His work additionally addressed some key fundamental questions in the DNA-repair field and paves the way for further research in this rapidly emerging and therapeutically important field.\\\\n\\\\nDr. Halder has received Goodger-Schorstein research scholarship in Medical Sciences, University of Oxford and Doctoral Transition Innovation Award from the European Institute of Innovation, Technology and Health, a body of the European Union. Dr. Halder is also a recipient of EMBO Long-Term Fellowship. Dr. Halder’s research has been published in prestigious scientific journals like Nature Genetics, Nature Communications, Molecular Cell, Nucleic Acid Research, Scientific Reports and Chemical Science.\\\\n\\\\nView his complete list of publications here: https://scholar.google.com/citations?user=I1ieueUAAAAJ&hl=en\\n      DNA repair and DNA damage response\\n      1. DNA-protein crosslinks repair\\\\n2. Ubiquitin proteasome system in DNA damage response\\\\n3. Replication fork reversal and protection\\n      1. University of Oxford\\\\nDPhil , DNA replication stress response · (2012 - 2016)\\\\n2. Kasturba Medical College, Mangalore, Manipal University\\\\nM.Sc Biochemistry, Medical Biochemistry · (2003 - 2006)\\\\n3. Bangalore University\\\\nBachelor of Science - BSc, Microbiology, Zoology, Chemistry · (2000 - 2003)\\n      1. Plaksha University\\\\nAssistant Professor\\\\nOctober 2022 - Present (9 months)\\\\n2. IRB,Bellinzona\\\\nPostdoctoral Scientist\\\\nJuly 2018 - July 2022 (4 years 1 month)\\\\n3. University of Oxford\\\\nPostdoctoral Researcher\\\\nOctober 2016 - September 2017 (1 year)\\\\n4. The University of British Columbia\\\\nResearcher\\\\nSeptember 2010 - December 2011 (1 year 4 months)\\\\n5. Ajou University\\\\nResearch Fellow\\\\nSeptember 2009 - August 2010 (1 year)\\\\n6. School of Life Sciences, Manipal\\\\nResearch Assistant\\\\nMay 2007 - August 2009 (2 years 4 months)\\\\n7. Manipal Acunova\\\\nTrainee Scientist\\\\nOctober 2006 - July 2007 (10 months)', metadata={'source': 'excel/database.xlsx'}), Document(page_content='faculty\\n      \\n    \\n    \\n      Dr. Swagata Halder\\n      Dr. Swagata Halder aims to pursue his research in the area of DNA damage response in order to formulate novel therapeutic interventions against cancer. His laboratory expertise in molecular cell biology and in vitro protein biochemistry.\\\\n\\\\nDr. Halder obtained his DPhil degree from the University of Oxford, UK under the supervision of Prof. Kristijan Ramadan. During his DPhil research, Dr. Halder along with his colleagues discovered a new human syndrome, now known as SPARTAN syndrome or Ruijs-Aalfs syndrome. It has led to the further characterization of SPRTN-protease in DNA-protein crosslinks repair pathway and subsequently established why SPRTN-deficiency leads to premature ageing and early onset liver cancer.\\\\n\\\\nDr. Halder pursued his postdoctoral research as a scientist at the Institute for Research in Biomedicine (IRB), Bellinzona, Switzerland at Prof. Petr Cejka’s laboratory. By utilizing in vitro biochemistry, Dr. Halder has demonstrated how breast cancer susceptibility protein BRCA2 protects stressed replication fork in RAD51 dependent manner and showed why a single cancer associated mutation in BRCA2 render these cells sensitive to DNA damaging agents (e.g., PARP inhibitors). His work additionally addressed some key fundamental questions in the DNA-repair field and paves the way for further research in this rapidly emerging and therapeutically important field.\\\\n\\\\nDr. Halder has received Goodger-Schorstein research scholarship in Medical Sciences, University of Oxford and Doctoral Transition Innovation Award from the European Institute of Innovation, Technology and Health, a body of the European Union. Dr. Halder is also a recipient of EMBO Long-Term Fellowship. Dr. Halder’s research has been published in prestigious scientific journals like Nature Genetics, Nature Communications, Molecular Cell, Nucleic Acid Research, Scientific Reports and Chemical Science.\\\\n\\\\nView his complete list of publications here: https://scholar.google.com/citations?user=I1ieueUAAAAJ&hl=en\\n      DNA repair and DNA damage response\\n      1. DNA-protein crosslinks repair\\\\n2. Ubiquitin proteasome system in DNA damage response\\\\n3. Replication fork reversal and protection\\n      1. University of Oxford\\\\nDPhil , DNA replication stress response · (2012 - 2016)\\\\n2. Kasturba Medical College, Mangalore, Manipal University\\\\nM.Sc Biochemistry, Medical Biochemistry · (2003 - 2006)\\\\n3. Bangalore University\\\\nBachelor of Science - BSc, Microbiology, Zoology, Chemistry · (2000 - 2003)\\n      1. Plaksha University\\\\nAssistant Professor\\\\nOctober 2022 - Present (9 months)\\\\n2. IRB,Bellinzona\\\\nPostdoctoral Scientist\\\\nJuly 2018 - July 2022 (4 years 1 month)\\\\n3. University of Oxford\\\\nPostdoctoral Researcher\\\\nOctober 2016 - September 2017 (1 year)\\\\n4. The University of British Columbia\\\\nResearcher\\\\nSeptember 2010 - December 2011 (1 year 4 months)\\\\n5. Ajou University\\\\nResearch Fellow\\\\nSeptember 2009 - August 2010 (1 year)\\\\n6. School of Life Sciences, Manipal\\\\nResearch Assistant\\\\nMay 2007 - August 2009 (2 years 4 months)\\\\n7. Manipal Acunova\\\\nTrainee Scientist\\\\nOctober 2006 - July 2007 (10 months)', metadata={'source': 'excel/database.xlsx'})]}\n",
      "Use the following pieces of context to answer the question at the end. If you don't know the answer, just say that you don't know, don't try to make up an answer.\n",
      "\n",
      "{context}\n",
      "\n",
      "Question: {question}\n",
      "Helpful Answer:\n",
      "1654\n"
     ]
    }
   ],
   "source": [
    "with get_openai_callback() as cb:\n",
    "        qa_chain = RetrievalQA.from_chain_type(llm=OpenAI(), chain_type=\"stuff\", retriever=retrieval,\n",
    "                return_source_documents=True, verbose=True)\n",
    "        print(qa_chain(\"Which professor should  meet to know more about DNA and why\"))\n",
    "total_tokens = cb.total_tokens\n",
    "print(qa_chain.combine_documents_chain.llm_chain.prompt.template)\n",
    "print(total_tokens)"
   ]
  },
  {
   "cell_type": "code",
   "execution_count": 8,
   "metadata": {},
   "outputs": [
    {
     "name": "stdout",
     "output_type": "stream",
     "text": [
      "1654\n"
     ]
    }
   ],
   "source": [
    "print(total_tokens)"
   ]
  },
  {
   "cell_type": "code",
   "execution_count": 9,
   "metadata": {},
   "outputs": [
    {
     "name": "stdout",
     "output_type": "stream",
     "text": [
      "  adding: db/ (stored 0%)\n",
      "  adding: db/index/ (stored 0%)\n",
      "  adding: db/index/uuid_to_id_e213ed88-c84b-461f-968b-9407b5821b9f.pkl (deflated 39%)\n",
      "  adding: db/index/id_to_uuid_e213ed88-c84b-461f-968b-9407b5821b9f.pkl (deflated 35%)\n",
      "  adding: db/index/index_metadata_e213ed88-c84b-461f-968b-9407b5821b9f.pkl (deflated 14%)\n",
      "  adding: db/index/index_e213ed88-c84b-461f-968b-9407b5821b9f.bin (deflated 17%)\n",
      "  adding: db/chroma-embeddings.parquet (deflated 26%)\n",
      "  adding: db/chroma-collections.parquet (deflated 50%)\n"
     ]
    }
   ],
   "source": [
    "!zip -r db.zip ./db"
   ]
  },
  {
   "cell_type": "code",
   "execution_count": 10,
   "metadata": {},
   "outputs": [],
   "source": [
    "#To cleanup, you can delete the collection\n",
    "vectordb.delete_collection()\n",
    "vectordb.persist()\n",
    "\n",
    "#delete the directory"
   ]
  },
  {
   "cell_type": "code",
   "execution_count": 11,
   "metadata": {},
   "outputs": [],
   "source": [
    "!rm -rf db/"
   ]
  },
  {
   "attachments": {},
   "cell_type": "markdown",
   "metadata": {},
   "source": [
    "##Restarting the runtime"
   ]
  },
  {
   "cell_type": "code",
   "execution_count": 12,
   "metadata": {},
   "outputs": [
    {
     "name": "stdout",
     "output_type": "stream",
     "text": [
      "Archive:  db.zip\n",
      "   creating: db/\n",
      "   creating: db/index/\n",
      "  inflating: db/index/uuid_to_id_e213ed88-c84b-461f-968b-9407b5821b9f.pkl  \n",
      "  inflating: db/index/id_to_uuid_e213ed88-c84b-461f-968b-9407b5821b9f.pkl  \n",
      "  inflating: db/index/index_metadata_e213ed88-c84b-461f-968b-9407b5821b9f.pkl  \n",
      "  inflating: db/index/index_e213ed88-c84b-461f-968b-9407b5821b9f.bin  \n",
      "  inflating: db/chroma-embeddings.parquet  \n",
      "  inflating: db/chroma-collections.parquet  \n"
     ]
    }
   ],
   "source": [
    "!unzip db.zip"
   ]
  },
  {
   "cell_type": "code",
   "execution_count": 13,
   "metadata": {},
   "outputs": [],
   "source": [
    "#importing langchain modules\n",
    "\n",
    "from langchain.document_loaders import UnstructuredExcelLoader\n",
    "from langchain.vectorstores import Chroma\n",
    "from langchain.prompts import PromptTemplate\n",
    "from langchain.embeddings.openai import OpenAIEmbeddings\n",
    "from langchain.indexes import VectorstoreIndexCreator\n",
    "from langchain.chains import RetrievalQA\n",
    "from langchain import OpenAI, VectorDBQA\n",
    "from langchain.llms import OpenAI\n",
    "from langchain.text_splitter import RecursiveCharacterTextSplitter\n",
    "from langchain.text_splitter import CharacterTextSplitter\n",
    "from langchain.text_splitter import TokenTextSplitter\n",
    "from langchain.vectorstores import FAISS\n",
    "from langchain.embeddings.sentence_transformer import SentenceTransformerEmbeddings\n",
    "from langchain.document_loaders import TextLoader\n",
    "from langchain.memory import ConversationBufferMemory\n",
    "from langchain import OpenAI, LLMChain, PromptTemplate\n",
    "import tiktoken\n",
    "from langchain.callbacks import get_openai_callback\n",
    "from langchain.chains.question_answering import load_qa_chain\n",
    "#importing the os\n",
    "\n",
    "from config import OPENAI_API_KEY\n"
   ]
  },
  {
   "cell_type": "code",
   "execution_count": 14,
   "metadata": {},
   "outputs": [],
   "source": [
    "persist_directory = \"db\"\n",
    "\n",
    "# create the open-source embedding function\n",
    "vectordb2 = Chroma(embedding_function=OpenAIEmbeddings(),\n",
    "        persist_directory=persist_directory)"
   ]
  },
  {
   "cell_type": "code",
   "execution_count": 15,
   "metadata": {},
   "outputs": [],
   "source": [
    "template = \"\"\"You are a chatbot having a conversation with a human.\n",
    "\n",
    "Given the following extracted parts of a long document and a question, create a final answer.\n",
    "\n",
    "{context}\n",
    "\n",
    "{chat_history}\n",
    "Human: {human_input}\n",
    "Chatbot:\"\"\""
   ]
  },
  {
   "cell_type": "code",
   "execution_count": 16,
   "metadata": {},
   "outputs": [],
   "source": [
    "prompt = PromptTemplate(\n",
    "    input_variables=[\"chat_history\", \"human_input\", \"context\"], template=template\n",
    ")\n",
    "memory = ConversationBufferMemory(memory_key=\"chat_history\", input_key=\"human_input\")"
   ]
  },
  {
   "cell_type": "code",
   "execution_count": 17,
   "metadata": {},
   "outputs": [],
   "source": [
    "chain = load_qa_chain(\n",
    "    OpenAI(temperature=0), chain_type=\"stuff\", memory=memory, prompt=prompt,verbose=True\n",
    ")"
   ]
  },
  {
   "cell_type": "code",
   "execution_count": 18,
   "metadata": {},
   "outputs": [
    {
     "name": "stdout",
     "output_type": "stream",
     "text": [
      "\n",
      "\n",
      "\u001b[1m> Entering new  chain...\u001b[0m\n",
      "\n",
      "\n",
      "\u001b[1m> Entering new  chain...\u001b[0m\n",
      "Prompt after formatting:\n",
      "\u001b[32;1m\u001b[1;3mYou are a chatbot having a conversation with a human.\n",
      "\n",
      "Given the following extracted parts of a long document and a question, create a final answer.\n",
      "\n",
      "faculty\n",
      "      \n",
      "    \n",
      "    \n",
      "      Dr. Shashikant Pawar\n",
      "      I am a Mechanical Engineer by training and profession. I specialize\\nin Fluid Mechanics and Heat Transfer. My research interests lie in\\nthe areas including Environmental Flows, Microclimate Studies,\\nBio-inspired Energy-efficient and Sustainable Systems, Light\\nPropagation through Turbulent Media, and Engineering Education. I\\nstrive to contribute to the development of innovative and sustainable\\nengineering solutions to address pressing global challenges.\n",
      "      Fluid Dynamics and Heat Transfer.\n",
      "      Buoyancy driven (environmental) turbulent flows\\nFluid dynamics and heat transfer of Bio-inspired systems\\nLight propagation in turbulent media\\nEngineering Education\n",
      "      1. Indian Institute of Science (IISc)\\nDoctor of Philosophy - PhD, Fluid Mechanics and Heat\\nTransfer · (2008 - 2015)\\n2. National Institute of Technology Hamirpur\\nM.Tech., Computational Fluid Dynamics and Heat Transfer · (2006 - 2008)\\n3. Veermata Jijabai Technological Institute (VJTI)\\nBachelor of Engineering - BE, Mechanical Engineering · (1997 - 2000)\n",
      "      1. Plaksha University\\nAssistant professor\\nJune 2022 - Present (1 year 1 month)\\nMohali\\nI am associated with the Center for clean energy and Associate Director of\\nMakerspace.\\n2. Don Bosco Institute of Technology (D.B.I.T)\\nAssistant Professor\\nJuly 2018 - June 2022 (4 years)\\nMumbai, Maharashtra\\n3. Department of Mechanical Engineering.\\nIndian Institute of Science (IISc)\\nPostdoctoral Research Associate\\nOctober 2015 - July 2018 (2 years 10 months)\\nBengaluru, Karnataka\\n4. Fr C Rodrigues Institute of Technology\\nLecturer\\nFebruary 2004 - July 2006 (2 years 6 months)\\nNavi Mumbai, Maharashtra\\n5. Datta Meghe College of Engineering, Airoli\\nLecturer\\nAugust 2003 - January 2004 (6 months)\\nNavi Mumbai, Maharashtra\\n6. Larsen & Toubro\\nExecutive Engineer\\nJuly 2000 - July 2003 (3 years 1 month)\\nMumbai, Maharashtra\n",
      "      1. Search for the ultimate regime in turbulent free convection: Rayleigh-Benard convection and axially homogenous convection in a vertical tube. - \\nWe consider two types of turbulent free convection. One is the classical Rayleigh-Benard (RB) convection, ie, the convection of unstably stratified fluid between two horizontal plates, and the other the convection of unstably stratified fluid in a long vertical tube (tube convection). In RB turbulent convection, most experiments, even at the highest Rayleigh number (Ra) achieved so far seem to show the classical Nu~ Ra1/3 scaling. The so called ‘ultimate’scaling Nu~ Ra1/2 predicted by Kraichnan seems to be elusive. However, in tube convection this regime is easily achieved. Besides much higher fluxes and Reynolds numbers are possible in tube convection than in RB convection, making it an attractive flow to study.\\n\\n2. Floating Solid Waste Collection System Using Free Vortex Flow - 2021\\nPreliminary results from the laboratory experiments using the concept of free vortex carried out with the aim to design a system for collecting floating solid waste in large calm water bodies (like lakes, ponds, reservoirs) are reported. Vortex free surface profiles and the radial and tangential flow velocities on free surface are measured. From the measured velocities, pressure distribution is obtained. These results expected to provide the inputs to the design of a floating waste collection system utilizing the free vortex flow, which to our knowledge has not been attempted so far by anybody.\\n\\n3. Axially homogeneous turbulent convection at high Rayleigh numbers: scaling laws for flux and spectra - 2018\\nNatural turbulent convection studies encompass a wide range of flows occurring in nature, for example, atmospheric and oceanic flows, convection in the Earth’s mantle, convection in the stars and also in many engineering applications. Rayleigh-Benard convection (RBC), ie convection in a horizontal fluid layer confined between two plates with a temperature differential maintained across them, has been a prototype problem in the studies of turbulent natural convection. Many small scale and global features of the flow in the turbulent regime of RBC are known, yet the flow dynamics is not fully understood, especially at high Rayleigh numbers (Ra). Present work comprises of experimental investigations of a different type of flow, high Rayleigh number turbulent convection in a long vertical tube (abbreviated as tube convection or TC). The tube of aspect ratio (length to diameter) of about 10, open at both the ends …\\n\\n4. Kinetic energy and scalar spectra in high Rayleigh number axially homogeneous buoyancy driven turbulence - 2016\\nKinetic energy and scalar spectra from the measurements in high Rayleigh number axially homogeneous buoyancy driven turbulent flow are presented. Kinetic energy and concentration (scalar) spectra are obtained from the experiments wherein density difference is created using brine and fresh water and temperature spectra are obtained from the experiments in which heat is used. Scaling of the frequency spectra of lateral and longitudinal velocity near the tube axis is closer to the Kolmogorov-Obukhov scaling, while the scalar spectra show some evidence of dual scaling, Bolgiano-Obukhov scaling followed by Obukhov-Corrsin scaling. These scalings are also observed in the corresponding second order spatial structure functions of velocity and concentration fluctuations.\\n\\n5. Two regimes of flux scaling in axially homogeneous turbulent convection in vertical tube - 2016\\nFrom experiments of axially homogeneous turbulent convection in a vertical tube using heat (Prandtl number Pr≃ 6) and brine (Pr≃ 600) we show that at sufficiently high Rayleigh numbers (Ra g), the Nusselt number Nu g∼(Ra g Pr) 1/2, which corresponds to the so-called ultimate regime scaling. In heat experiments below certain Ra g, however, there is transition to a new regime, Nu g∼(Ra g Pr) 0.3. This transition also seems to exist in earlier reported data for Pr= 1 and Pr≃ 600, at different Ra g. However, the transition occurs at a single Grashof number, Gr g c≃ 1.6× 10 5, and unified flux scalings for Pr≥ 1, Nu g/Pr∼ Gr g 0.3, and Nu g/Pr∼ Gr g 1/2 can be given for the two regimes.\\n\\n6. Intensity and angle-of-arrival spectra of laser light propagating through axially homogeneous buoyancy-driven turbulence - 2016\\nFrequency spectra obtained from the measurements of light intensity and angle of arrival (AOA) of parallel laser light propagating through the axially homogeneous, axisymmetric buoyancy-driven turbulent flow at high Rayleigh numbers in a long (length-to-diameter ratio of about 10) vertical tube are reported. The flow is driven by an unstable density difference created across the tube ends using brine and fresh water. The highest Rayleigh number is about 8×10^9. The aim of the present work is to find whether the conventional Obukhov–Corrsin scaling or Bolgiano-Obukhov (BO) scaling is obtained for the intensity and AOA spectra in the case of light propagation in a buoyancy-driven turbulent medium. Theoretical relations for the frequency spectra of log amplitude and AOA fluctuations developed for homogeneous isotropic turbulent media are modified for the buoyancy-driven flow in the present case to obtain the …\\n\\n7. Homogeneous purely buoyancy driven turbulent flow - 2010\\nAn unstable density difference across a long vertical tube open at both ends leads to convection that is axially homogeneous with a linear density gradient. We report results from such tube convection experiments, with driving density caused by salt concentration difference or temperature difference. At high enough Rayleigh numbers (Ra) the convection is turbulent with zero mean flow and zero mean Reynolds shear stresses; thus turbulent production is purely by buoyancy. We observe different regimes of turbulent convection. At very high Ra the Nusselt number scales as the square root of the Rayleigh number, giving the so-called\" ultimate regime\" of convection predicted for Rayleigh-Benard convection in limit of infinite Ra. Turbulent convection at intermediate Ra, the Nusselt number scales as Ra^ 0.3. In both regimes, the flux and the Taylor scale Reynolds number are more than order of magnitude larger than …\\n\\n8. Nonlinear instability of mixed convection flow over a horizontal cylinder - 2008\\nVortex shedding and instability of the mixed convection flow over a horizontal cylinder have been studied numerically for different flow directions with respect to the direction of buoyancy—with emphasis on assisting and opposing flows. Nonlinear instability and vortex shedding have been investigated with the help of the Landau equation—that is modified to identify critical Reynolds and Richardson numbers. Effects of flow direction are studied for a representative Richardson number. The average Nusselt number is estimated for all the cases to represent average heat transfer.\n",
      "      \n",
      "      \n",
      "      \n",
      "      \n",
      "      \n",
      "      \n",
      "      faculty\n",
      "      \n",
      "    \n",
      "    \n",
      "      Dr. Srikant Srinivasan\n",
      "\n",
      "faculty\n",
      "      \n",
      "    \n",
      "    \n",
      "      Dr. Anupam Sobti\n",
      "      My research interest lies at the intersection of computer vision,\\nmachine learning and embedded systems. Smart sensors, assistive\\ndevices, wearable health monitoring systems, etc. require robust\\nand latency-sensitive sensing and actuation. Therefore, these\\napplications require innovation across sensing techniques,\\nperception algorithms and energy optimization techniques in\\nsoftware and hardware. My current research explores the use of\\ndifferent modalities like radar and ultrasonic sensors along with\\nvision sensors for an energy-efficient and high-performance system.\\nI like to build systems. It is when systems are built and verified with\\nthe users that real problems are solved and the constraints and\\nnuances of the systems come to life.\n",
      "      1. Applied Machine Learning\\n2. Embedded Systems/IoT\\n\n",
      "      1. Low-cost health diagnostics\\n2. Smart Agriculture\\n3. Sustainability Sensing for buildings, rivers, forests, etc.\n",
      "      1. Indian Institute of Technology, Delhi:\\nPhD, Computer Science · (January 2016 - June 2022)\\n2. Birla Institute of Technology and Science, Pilani:\\nMaster of Technology (M.Tech.), Microelectronics · (2014 - 2016)\\n3. Netaji Subhas Institute of Technology:\\nB.E., Electronics and Communication · (2009 - 2013)\\n4. St. Francis De Sales\\n5. Jaipuria Vidyalaya\n",
      "      1. Plaksha University:\\nAssistant Professor\\n2. Microsoft: Postdoctoral Researcher\\n> Joined the Societal Impact through Cloud and AI (SCAI) group at MSR\\nBangalore. I am working on problems in sustainability and sensor reliability.\\n3. Indian Institute of Technology, Delhi: Researcher\\na. Building eyes for the visually impaired\\n> Leading MAVI (Mobility Assistant for Visually Impaired) in the Assistive\\nTechnology group, IIT Delhi.\\n> Building roadmaps for research and development of the entire pipeline\\n(hardware and software)\\nb. Computer Vision Systems Research \\n> Robust evaluation for streaming perception, Generalization in unseen\\nenvironments, Multi-sensor efficiency\\n> Published papers at top venues for both computer vision and embedded\\nsystems\\nc. Teaching Assistantships in embedded systems and computer vision\\n> Mentoring student projects and thesis. Awarded Teaching Assistant\\nexcellence awards.\\n4. Qualcomm\\n> MBIST Verification Engineer. Working on Pre-silicon GLS and Post Silicon\\nBringup activities.\\n> I was responsible for Pre-silicon Simulation, Test generation and Post Silicon\\nDebug for Memory BIST\\n\n",
      "\n",
      "\n",
      "Human: Hi\n",
      "Chatbot:\u001b[0m\n",
      "\n",
      "\u001b[1m> Finished chain.\u001b[0m\n",
      "\n",
      "\u001b[1m> Finished chain.\u001b[0m\n"
     ]
    },
    {
     "data": {
      "text/plain": [
       "{'output_text': ' Hi there! How can I help you?'}"
      ]
     },
     "execution_count": 18,
     "metadata": {},
     "output_type": "execute_result"
    }
   ],
   "source": [
    "query = \"Hi\"\n",
    "retrieval = vectordb2.similarity_search(query)\n",
    "chain({\"input_documents\": retrieval, \"human_input\": query}, return_only_outputs=True)"
   ]
  },
  {
   "cell_type": "code",
   "execution_count": 19,
   "metadata": {},
   "outputs": [
    {
     "name": "stdout",
     "output_type": "stream",
     "text": [
      "\n",
      "\n",
      "\u001b[1m> Entering new  chain...\u001b[0m\n",
      "\n",
      "\n",
      "\u001b[1m> Entering new  chain...\u001b[0m\n",
      "Prompt after formatting:\n",
      "\u001b[32;1m\u001b[1;3mYou are a chatbot having a conversation with a human.\n",
      "\n",
      "Given the following extracted parts of a long document and a question, create a final answer.\n",
      "\n",
      "faculty\n",
      "      \n",
      "    \n",
      "    \n",
      "      Dr. Shashikant Pawar\n",
      "      I am a Mechanical Engineer by training and profession. I specialize\\nin Fluid Mechanics and Heat Transfer. My research interests lie in\\nthe areas including Environmental Flows, Microclimate Studies,\\nBio-inspired Energy-efficient and Sustainable Systems, Light\\nPropagation through Turbulent Media, and Engineering Education. I\\nstrive to contribute to the development of innovative and sustainable\\nengineering solutions to address pressing global challenges.\n",
      "      Fluid Dynamics and Heat Transfer.\n",
      "      Buoyancy driven (environmental) turbulent flows\\nFluid dynamics and heat transfer of Bio-inspired systems\\nLight propagation in turbulent media\\nEngineering Education\n",
      "      1. Indian Institute of Science (IISc)\\nDoctor of Philosophy - PhD, Fluid Mechanics and Heat\\nTransfer · (2008 - 2015)\\n2. National Institute of Technology Hamirpur\\nM.Tech., Computational Fluid Dynamics and Heat Transfer · (2006 - 2008)\\n3. Veermata Jijabai Technological Institute (VJTI)\\nBachelor of Engineering - BE, Mechanical Engineering · (1997 - 2000)\n",
      "      1. Plaksha University\\nAssistant professor\\nJune 2022 - Present (1 year 1 month)\\nMohali\\nI am associated with the Center for clean energy and Associate Director of\\nMakerspace.\\n2. Don Bosco Institute of Technology (D.B.I.T)\\nAssistant Professor\\nJuly 2018 - June 2022 (4 years)\\nMumbai, Maharashtra\\n3. Department of Mechanical Engineering.\\nIndian Institute of Science (IISc)\\nPostdoctoral Research Associate\\nOctober 2015 - July 2018 (2 years 10 months)\\nBengaluru, Karnataka\\n4. Fr C Rodrigues Institute of Technology\\nLecturer\\nFebruary 2004 - July 2006 (2 years 6 months)\\nNavi Mumbai, Maharashtra\\n5. Datta Meghe College of Engineering, Airoli\\nLecturer\\nAugust 2003 - January 2004 (6 months)\\nNavi Mumbai, Maharashtra\\n6. Larsen & Toubro\\nExecutive Engineer\\nJuly 2000 - July 2003 (3 years 1 month)\\nMumbai, Maharashtra\n",
      "      1. Search for the ultimate regime in turbulent free convection: Rayleigh-Benard convection and axially homogenous convection in a vertical tube. - \\nWe consider two types of turbulent free convection. One is the classical Rayleigh-Benard (RB) convection, ie, the convection of unstably stratified fluid between two horizontal plates, and the other the convection of unstably stratified fluid in a long vertical tube (tube convection). In RB turbulent convection, most experiments, even at the highest Rayleigh number (Ra) achieved so far seem to show the classical Nu~ Ra1/3 scaling. The so called ‘ultimate’scaling Nu~ Ra1/2 predicted by Kraichnan seems to be elusive. However, in tube convection this regime is easily achieved. Besides much higher fluxes and Reynolds numbers are possible in tube convection than in RB convection, making it an attractive flow to study.\\n\\n2. Floating Solid Waste Collection System Using Free Vortex Flow - 2021\\nPreliminary results from the laboratory experiments using the concept of free vortex carried out with the aim to design a system for collecting floating solid waste in large calm water bodies (like lakes, ponds, reservoirs) are reported. Vortex free surface profiles and the radial and tangential flow velocities on free surface are measured. From the measured velocities, pressure distribution is obtained. These results expected to provide the inputs to the design of a floating waste collection system utilizing the free vortex flow, which to our knowledge has not been attempted so far by anybody.\\n\\n3. Axially homogeneous turbulent convection at high Rayleigh numbers: scaling laws for flux and spectra - 2018\\nNatural turbulent convection studies encompass a wide range of flows occurring in nature, for example, atmospheric and oceanic flows, convection in the Earth’s mantle, convection in the stars and also in many engineering applications. Rayleigh-Benard convection (RBC), ie convection in a horizontal fluid layer confined between two plates with a temperature differential maintained across them, has been a prototype problem in the studies of turbulent natural convection. Many small scale and global features of the flow in the turbulent regime of RBC are known, yet the flow dynamics is not fully understood, especially at high Rayleigh numbers (Ra). Present work comprises of experimental investigations of a different type of flow, high Rayleigh number turbulent convection in a long vertical tube (abbreviated as tube convection or TC). The tube of aspect ratio (length to diameter) of about 10, open at both the ends …\\n\\n4. Kinetic energy and scalar spectra in high Rayleigh number axially homogeneous buoyancy driven turbulence - 2016\\nKinetic energy and scalar spectra from the measurements in high Rayleigh number axially homogeneous buoyancy driven turbulent flow are presented. Kinetic energy and concentration (scalar) spectra are obtained from the experiments wherein density difference is created using brine and fresh water and temperature spectra are obtained from the experiments in which heat is used. Scaling of the frequency spectra of lateral and longitudinal velocity near the tube axis is closer to the Kolmogorov-Obukhov scaling, while the scalar spectra show some evidence of dual scaling, Bolgiano-Obukhov scaling followed by Obukhov-Corrsin scaling. These scalings are also observed in the corresponding second order spatial structure functions of velocity and concentration fluctuations.\\n\\n5. Two regimes of flux scaling in axially homogeneous turbulent convection in vertical tube - 2016\\nFrom experiments of axially homogeneous turbulent convection in a vertical tube using heat (Prandtl number Pr≃ 6) and brine (Pr≃ 600) we show that at sufficiently high Rayleigh numbers (Ra g), the Nusselt number Nu g∼(Ra g Pr) 1/2, which corresponds to the so-called ultimate regime scaling. In heat experiments below certain Ra g, however, there is transition to a new regime, Nu g∼(Ra g Pr) 0.3. This transition also seems to exist in earlier reported data for Pr= 1 and Pr≃ 600, at different Ra g. However, the transition occurs at a single Grashof number, Gr g c≃ 1.6× 10 5, and unified flux scalings for Pr≥ 1, Nu g/Pr∼ Gr g 0.3, and Nu g/Pr∼ Gr g 1/2 can be given for the two regimes.\\n\\n6. Intensity and angle-of-arrival spectra of laser light propagating through axially homogeneous buoyancy-driven turbulence - 2016\\nFrequency spectra obtained from the measurements of light intensity and angle of arrival (AOA) of parallel laser light propagating through the axially homogeneous, axisymmetric buoyancy-driven turbulent flow at high Rayleigh numbers in a long (length-to-diameter ratio of about 10) vertical tube are reported. The flow is driven by an unstable density difference created across the tube ends using brine and fresh water. The highest Rayleigh number is about 8×10^9. The aim of the present work is to find whether the conventional Obukhov–Corrsin scaling or Bolgiano-Obukhov (BO) scaling is obtained for the intensity and AOA spectra in the case of light propagation in a buoyancy-driven turbulent medium. Theoretical relations for the frequency spectra of log amplitude and AOA fluctuations developed for homogeneous isotropic turbulent media are modified for the buoyancy-driven flow in the present case to obtain the …\\n\\n7. Homogeneous purely buoyancy driven turbulent flow - 2010\\nAn unstable density difference across a long vertical tube open at both ends leads to convection that is axially homogeneous with a linear density gradient. We report results from such tube convection experiments, with driving density caused by salt concentration difference or temperature difference. At high enough Rayleigh numbers (Ra) the convection is turbulent with zero mean flow and zero mean Reynolds shear stresses; thus turbulent production is purely by buoyancy. We observe different regimes of turbulent convection. At very high Ra the Nusselt number scales as the square root of the Rayleigh number, giving the so-called\" ultimate regime\" of convection predicted for Rayleigh-Benard convection in limit of infinite Ra. Turbulent convection at intermediate Ra, the Nusselt number scales as Ra^ 0.3. In both regimes, the flux and the Taylor scale Reynolds number are more than order of magnitude larger than …\\n\\n8. Nonlinear instability of mixed convection flow over a horizontal cylinder - 2008\\nVortex shedding and instability of the mixed convection flow over a horizontal cylinder have been studied numerically for different flow directions with respect to the direction of buoyancy—with emphasis on assisting and opposing flows. Nonlinear instability and vortex shedding have been investigated with the help of the Landau equation—that is modified to identify critical Reynolds and Richardson numbers. Effects of flow direction are studied for a representative Richardson number. The average Nusselt number is estimated for all the cases to represent average heat transfer.\n",
      "      \n",
      "      \n",
      "      \n",
      "      \n",
      "      \n",
      "      \n",
      "      faculty\n",
      "      \n",
      "    \n",
      "    \n",
      "      Dr. Srikant Srinivasan\n",
      "\n",
      "faculty\n",
      "      \n",
      "    \n",
      "    \n",
      "      Dr. Anupam Sobti\n",
      "      My research interest lies at the intersection of computer vision,\\nmachine learning and embedded systems. Smart sensors, assistive\\ndevices, wearable health monitoring systems, etc. require robust\\nand latency-sensitive sensing and actuation. Therefore, these\\napplications require innovation across sensing techniques,\\nperception algorithms and energy optimization techniques in\\nsoftware and hardware. My current research explores the use of\\ndifferent modalities like radar and ultrasonic sensors along with\\nvision sensors for an energy-efficient and high-performance system.\\nI like to build systems. It is when systems are built and verified with\\nthe users that real problems are solved and the constraints and\\nnuances of the systems come to life.\n",
      "      1. Applied Machine Learning\\n2. Embedded Systems/IoT\\n\n",
      "      1. Low-cost health diagnostics\\n2. Smart Agriculture\\n3. Sustainability Sensing for buildings, rivers, forests, etc.\n",
      "      1. Indian Institute of Technology, Delhi:\\nPhD, Computer Science · (January 2016 - June 2022)\\n2. Birla Institute of Technology and Science, Pilani:\\nMaster of Technology (M.Tech.), Microelectronics · (2014 - 2016)\\n3. Netaji Subhas Institute of Technology:\\nB.E., Electronics and Communication · (2009 - 2013)\\n4. St. Francis De Sales\\n5. Jaipuria Vidyalaya\n",
      "      1. Plaksha University:\\nAssistant Professor\\n2. Microsoft: Postdoctoral Researcher\\n> Joined the Societal Impact through Cloud and AI (SCAI) group at MSR\\nBangalore. I am working on problems in sustainability and sensor reliability.\\n3. Indian Institute of Technology, Delhi: Researcher\\na. Building eyes for the visually impaired\\n> Leading MAVI (Mobility Assistant for Visually Impaired) in the Assistive\\nTechnology group, IIT Delhi.\\n> Building roadmaps for research and development of the entire pipeline\\n(hardware and software)\\nb. Computer Vision Systems Research \\n> Robust evaluation for streaming perception, Generalization in unseen\\nenvironments, Multi-sensor efficiency\\n> Published papers at top venues for both computer vision and embedded\\nsystems\\nc. Teaching Assistantships in embedded systems and computer vision\\n> Mentoring student projects and thesis. Awarded Teaching Assistant\\nexcellence awards.\\n4. Qualcomm\\n> MBIST Verification Engineer. Working on Pre-silicon GLS and Post Silicon\\nBringup activities.\\n> I was responsible for Pre-silicon Simulation, Test generation and Post Silicon\\nDebug for Memory BIST\\n\n",
      "\n",
      "Human: Hi\n",
      "AI:  Hi there! How can I help you?\n",
      "Human: I am interested to learn about professor on the Quantom mechanics, who can I meet\n",
      "Chatbot:\u001b[0m\n",
      "\n",
      "\u001b[1m> Finished chain.\u001b[0m\n",
      "\n",
      "\u001b[1m> Finished chain.\u001b[0m\n"
     ]
    },
    {
     "data": {
      "text/plain": [
       "{'output_text': ' You can meet Dr. Srikant Srinivasan, who specializes in Quantum Mechanics. He is a faculty member at Plaksha University.'}"
      ]
     },
     "execution_count": 19,
     "metadata": {},
     "output_type": "execute_result"
    }
   ],
   "source": [
    "query = \"I am interested to learn about professor on the Quantom mechanics, who can I meet\"\n",
    "chain({\"input_documents\": retrieval, \"human_input\": query}, return_only_outputs=True)"
   ]
  },
  {
   "cell_type": "code",
   "execution_count": 20,
   "metadata": {},
   "outputs": [
    {
     "name": "stdout",
     "output_type": "stream",
     "text": [
      "\n",
      "\n",
      "\u001b[1m> Entering new  chain...\u001b[0m\n",
      "\n",
      "\n",
      "\u001b[1m> Entering new  chain...\u001b[0m\n",
      "Prompt after formatting:\n",
      "\u001b[32;1m\u001b[1;3mYou are a chatbot having a conversation with a human.\n",
      "\n",
      "Given the following extracted parts of a long document and a question, create a final answer.\n",
      "\n",
      "faculty\n",
      "      \n",
      "    \n",
      "    \n",
      "      Dr. Shashikant Pawar\n",
      "      I am a Mechanical Engineer by training and profession. I specialize\\nin Fluid Mechanics and Heat Transfer. My research interests lie in\\nthe areas including Environmental Flows, Microclimate Studies,\\nBio-inspired Energy-efficient and Sustainable Systems, Light\\nPropagation through Turbulent Media, and Engineering Education. I\\nstrive to contribute to the development of innovative and sustainable\\nengineering solutions to address pressing global challenges.\n",
      "      Fluid Dynamics and Heat Transfer.\n",
      "      Buoyancy driven (environmental) turbulent flows\\nFluid dynamics and heat transfer of Bio-inspired systems\\nLight propagation in turbulent media\\nEngineering Education\n",
      "      1. Indian Institute of Science (IISc)\\nDoctor of Philosophy - PhD, Fluid Mechanics and Heat\\nTransfer · (2008 - 2015)\\n2. National Institute of Technology Hamirpur\\nM.Tech., Computational Fluid Dynamics and Heat Transfer · (2006 - 2008)\\n3. Veermata Jijabai Technological Institute (VJTI)\\nBachelor of Engineering - BE, Mechanical Engineering · (1997 - 2000)\n",
      "      1. Plaksha University\\nAssistant professor\\nJune 2022 - Present (1 year 1 month)\\nMohali\\nI am associated with the Center for clean energy and Associate Director of\\nMakerspace.\\n2. Don Bosco Institute of Technology (D.B.I.T)\\nAssistant Professor\\nJuly 2018 - June 2022 (4 years)\\nMumbai, Maharashtra\\n3. Department of Mechanical Engineering.\\nIndian Institute of Science (IISc)\\nPostdoctoral Research Associate\\nOctober 2015 - July 2018 (2 years 10 months)\\nBengaluru, Karnataka\\n4. Fr C Rodrigues Institute of Technology\\nLecturer\\nFebruary 2004 - July 2006 (2 years 6 months)\\nNavi Mumbai, Maharashtra\\n5. Datta Meghe College of Engineering, Airoli\\nLecturer\\nAugust 2003 - January 2004 (6 months)\\nNavi Mumbai, Maharashtra\\n6. Larsen & Toubro\\nExecutive Engineer\\nJuly 2000 - July 2003 (3 years 1 month)\\nMumbai, Maharashtra\n",
      "      1. Search for the ultimate regime in turbulent free convection: Rayleigh-Benard convection and axially homogenous convection in a vertical tube. - \\nWe consider two types of turbulent free convection. One is the classical Rayleigh-Benard (RB) convection, ie, the convection of unstably stratified fluid between two horizontal plates, and the other the convection of unstably stratified fluid in a long vertical tube (tube convection). In RB turbulent convection, most experiments, even at the highest Rayleigh number (Ra) achieved so far seem to show the classical Nu~ Ra1/3 scaling. The so called ‘ultimate’scaling Nu~ Ra1/2 predicted by Kraichnan seems to be elusive. However, in tube convection this regime is easily achieved. Besides much higher fluxes and Reynolds numbers are possible in tube convection than in RB convection, making it an attractive flow to study.\\n\\n2. Floating Solid Waste Collection System Using Free Vortex Flow - 2021\\nPreliminary results from the laboratory experiments using the concept of free vortex carried out with the aim to design a system for collecting floating solid waste in large calm water bodies (like lakes, ponds, reservoirs) are reported. Vortex free surface profiles and the radial and tangential flow velocities on free surface are measured. From the measured velocities, pressure distribution is obtained. These results expected to provide the inputs to the design of a floating waste collection system utilizing the free vortex flow, which to our knowledge has not been attempted so far by anybody.\\n\\n3. Axially homogeneous turbulent convection at high Rayleigh numbers: scaling laws for flux and spectra - 2018\\nNatural turbulent convection studies encompass a wide range of flows occurring in nature, for example, atmospheric and oceanic flows, convection in the Earth’s mantle, convection in the stars and also in many engineering applications. Rayleigh-Benard convection (RBC), ie convection in a horizontal fluid layer confined between two plates with a temperature differential maintained across them, has been a prototype problem in the studies of turbulent natural convection. Many small scale and global features of the flow in the turbulent regime of RBC are known, yet the flow dynamics is not fully understood, especially at high Rayleigh numbers (Ra). Present work comprises of experimental investigations of a different type of flow, high Rayleigh number turbulent convection in a long vertical tube (abbreviated as tube convection or TC). The tube of aspect ratio (length to diameter) of about 10, open at both the ends …\\n\\n4. Kinetic energy and scalar spectra in high Rayleigh number axially homogeneous buoyancy driven turbulence - 2016\\nKinetic energy and scalar spectra from the measurements in high Rayleigh number axially homogeneous buoyancy driven turbulent flow are presented. Kinetic energy and concentration (scalar) spectra are obtained from the experiments wherein density difference is created using brine and fresh water and temperature spectra are obtained from the experiments in which heat is used. Scaling of the frequency spectra of lateral and longitudinal velocity near the tube axis is closer to the Kolmogorov-Obukhov scaling, while the scalar spectra show some evidence of dual scaling, Bolgiano-Obukhov scaling followed by Obukhov-Corrsin scaling. These scalings are also observed in the corresponding second order spatial structure functions of velocity and concentration fluctuations.\\n\\n5. Two regimes of flux scaling in axially homogeneous turbulent convection in vertical tube - 2016\\nFrom experiments of axially homogeneous turbulent convection in a vertical tube using heat (Prandtl number Pr≃ 6) and brine (Pr≃ 600) we show that at sufficiently high Rayleigh numbers (Ra g), the Nusselt number Nu g∼(Ra g Pr) 1/2, which corresponds to the so-called ultimate regime scaling. In heat experiments below certain Ra g, however, there is transition to a new regime, Nu g∼(Ra g Pr) 0.3. This transition also seems to exist in earlier reported data for Pr= 1 and Pr≃ 600, at different Ra g. However, the transition occurs at a single Grashof number, Gr g c≃ 1.6× 10 5, and unified flux scalings for Pr≥ 1, Nu g/Pr∼ Gr g 0.3, and Nu g/Pr∼ Gr g 1/2 can be given for the two regimes.\\n\\n6. Intensity and angle-of-arrival spectra of laser light propagating through axially homogeneous buoyancy-driven turbulence - 2016\\nFrequency spectra obtained from the measurements of light intensity and angle of arrival (AOA) of parallel laser light propagating through the axially homogeneous, axisymmetric buoyancy-driven turbulent flow at high Rayleigh numbers in a long (length-to-diameter ratio of about 10) vertical tube are reported. The flow is driven by an unstable density difference created across the tube ends using brine and fresh water. The highest Rayleigh number is about 8×10^9. The aim of the present work is to find whether the conventional Obukhov–Corrsin scaling or Bolgiano-Obukhov (BO) scaling is obtained for the intensity and AOA spectra in the case of light propagation in a buoyancy-driven turbulent medium. Theoretical relations for the frequency spectra of log amplitude and AOA fluctuations developed for homogeneous isotropic turbulent media are modified for the buoyancy-driven flow in the present case to obtain the …\\n\\n7. Homogeneous purely buoyancy driven turbulent flow - 2010\\nAn unstable density difference across a long vertical tube open at both ends leads to convection that is axially homogeneous with a linear density gradient. We report results from such tube convection experiments, with driving density caused by salt concentration difference or temperature difference. At high enough Rayleigh numbers (Ra) the convection is turbulent with zero mean flow and zero mean Reynolds shear stresses; thus turbulent production is purely by buoyancy. We observe different regimes of turbulent convection. At very high Ra the Nusselt number scales as the square root of the Rayleigh number, giving the so-called\" ultimate regime\" of convection predicted for Rayleigh-Benard convection in limit of infinite Ra. Turbulent convection at intermediate Ra, the Nusselt number scales as Ra^ 0.3. In both regimes, the flux and the Taylor scale Reynolds number are more than order of magnitude larger than …\\n\\n8. Nonlinear instability of mixed convection flow over a horizontal cylinder - 2008\\nVortex shedding and instability of the mixed convection flow over a horizontal cylinder have been studied numerically for different flow directions with respect to the direction of buoyancy—with emphasis on assisting and opposing flows. Nonlinear instability and vortex shedding have been investigated with the help of the Landau equation—that is modified to identify critical Reynolds and Richardson numbers. Effects of flow direction are studied for a representative Richardson number. The average Nusselt number is estimated for all the cases to represent average heat transfer.\n",
      "      \n",
      "      \n",
      "      \n",
      "      \n",
      "      \n",
      "      \n",
      "      faculty\n",
      "      \n",
      "    \n",
      "    \n",
      "      Dr. Srikant Srinivasan\n",
      "\n",
      "faculty\n",
      "      \n",
      "    \n",
      "    \n",
      "      Dr. Anupam Sobti\n",
      "      My research interest lies at the intersection of computer vision,\\nmachine learning and embedded systems. Smart sensors, assistive\\ndevices, wearable health monitoring systems, etc. require robust\\nand latency-sensitive sensing and actuation. Therefore, these\\napplications require innovation across sensing techniques,\\nperception algorithms and energy optimization techniques in\\nsoftware and hardware. My current research explores the use of\\ndifferent modalities like radar and ultrasonic sensors along with\\nvision sensors for an energy-efficient and high-performance system.\\nI like to build systems. It is when systems are built and verified with\\nthe users that real problems are solved and the constraints and\\nnuances of the systems come to life.\n",
      "      1. Applied Machine Learning\\n2. Embedded Systems/IoT\\n\n",
      "      1. Low-cost health diagnostics\\n2. Smart Agriculture\\n3. Sustainability Sensing for buildings, rivers, forests, etc.\n",
      "      1. Indian Institute of Technology, Delhi:\\nPhD, Computer Science · (January 2016 - June 2022)\\n2. Birla Institute of Technology and Science, Pilani:\\nMaster of Technology (M.Tech.), Microelectronics · (2014 - 2016)\\n3. Netaji Subhas Institute of Technology:\\nB.E., Electronics and Communication · (2009 - 2013)\\n4. St. Francis De Sales\\n5. Jaipuria Vidyalaya\n",
      "      1. Plaksha University:\\nAssistant Professor\\n2. Microsoft: Postdoctoral Researcher\\n> Joined the Societal Impact through Cloud and AI (SCAI) group at MSR\\nBangalore. I am working on problems in sustainability and sensor reliability.\\n3. Indian Institute of Technology, Delhi: Researcher\\na. Building eyes for the visually impaired\\n> Leading MAVI (Mobility Assistant for Visually Impaired) in the Assistive\\nTechnology group, IIT Delhi.\\n> Building roadmaps for research and development of the entire pipeline\\n(hardware and software)\\nb. Computer Vision Systems Research \\n> Robust evaluation for streaming perception, Generalization in unseen\\nenvironments, Multi-sensor efficiency\\n> Published papers at top venues for both computer vision and embedded\\nsystems\\nc. Teaching Assistantships in embedded systems and computer vision\\n> Mentoring student projects and thesis. Awarded Teaching Assistant\\nexcellence awards.\\n4. Qualcomm\\n> MBIST Verification Engineer. Working on Pre-silicon GLS and Post Silicon\\nBringup activities.\\n> I was responsible for Pre-silicon Simulation, Test generation and Post Silicon\\nDebug for Memory BIST\\n\n",
      "\n",
      "Human: Hi\n",
      "AI:  Hi there! How can I help you?\n",
      "Human: I am interested to learn about professor on the Quantom mechanics, who can I meet\n",
      "AI:  You can meet Dr. Srikant Srinivasan, who specializes in Quantum Mechanics. He is a faculty member at Plaksha University.\n",
      "Human: He does not have any experience in quantum mechanics\n",
      "Chatbot:\u001b[0m\n",
      "\n",
      "\u001b[1m> Finished chain.\u001b[0m\n",
      "\n",
      "\u001b[1m> Finished chain.\u001b[0m\n"
     ]
    },
    {
     "data": {
      "text/plain": [
       "{'output_text': ' Dr. Srikant Srinivasan has extensive experience in Quantum Mechanics. He has published papers on the subject and has been teaching courses related to Quantum Mechanics for many years.'}"
      ]
     },
     "execution_count": 20,
     "metadata": {},
     "output_type": "execute_result"
    }
   ],
   "source": [
    "\n",
    "query = \"He does not have any experience in quantum mechanics\"\n",
    "chain({\"input_documents\": retrieval, \"human_input\": query}, return_only_outputs=True)"
   ]
  },
  {
   "cell_type": "code",
   "execution_count": 21,
   "metadata": {},
   "outputs": [
    {
     "name": "stdout",
     "output_type": "stream",
     "text": [
      "\n",
      "\n",
      "\u001b[1m> Entering new  chain...\u001b[0m\n",
      "\n",
      "\n",
      "\u001b[1m> Entering new  chain...\u001b[0m\n",
      "Prompt after formatting:\n",
      "\u001b[32;1m\u001b[1;3mYou are a chatbot having a conversation with a human.\n",
      "\n",
      "Given the following extracted parts of a long document and a question, create a final answer.\n",
      "\n",
      "faculty\n",
      "      \n",
      "    \n",
      "    \n",
      "      Dr. Shashikant Pawar\n",
      "      I am a Mechanical Engineer by training and profession. I specialize\\nin Fluid Mechanics and Heat Transfer. My research interests lie in\\nthe areas including Environmental Flows, Microclimate Studies,\\nBio-inspired Energy-efficient and Sustainable Systems, Light\\nPropagation through Turbulent Media, and Engineering Education. I\\nstrive to contribute to the development of innovative and sustainable\\nengineering solutions to address pressing global challenges.\n",
      "      Fluid Dynamics and Heat Transfer.\n",
      "      Buoyancy driven (environmental) turbulent flows\\nFluid dynamics and heat transfer of Bio-inspired systems\\nLight propagation in turbulent media\\nEngineering Education\n",
      "      1. Indian Institute of Science (IISc)\\nDoctor of Philosophy - PhD, Fluid Mechanics and Heat\\nTransfer · (2008 - 2015)\\n2. National Institute of Technology Hamirpur\\nM.Tech., Computational Fluid Dynamics and Heat Transfer · (2006 - 2008)\\n3. Veermata Jijabai Technological Institute (VJTI)\\nBachelor of Engineering - BE, Mechanical Engineering · (1997 - 2000)\n",
      "      1. Plaksha University\\nAssistant professor\\nJune 2022 - Present (1 year 1 month)\\nMohali\\nI am associated with the Center for clean energy and Associate Director of\\nMakerspace.\\n2. Don Bosco Institute of Technology (D.B.I.T)\\nAssistant Professor\\nJuly 2018 - June 2022 (4 years)\\nMumbai, Maharashtra\\n3. Department of Mechanical Engineering.\\nIndian Institute of Science (IISc)\\nPostdoctoral Research Associate\\nOctober 2015 - July 2018 (2 years 10 months)\\nBengaluru, Karnataka\\n4. Fr C Rodrigues Institute of Technology\\nLecturer\\nFebruary 2004 - July 2006 (2 years 6 months)\\nNavi Mumbai, Maharashtra\\n5. Datta Meghe College of Engineering, Airoli\\nLecturer\\nAugust 2003 - January 2004 (6 months)\\nNavi Mumbai, Maharashtra\\n6. Larsen & Toubro\\nExecutive Engineer\\nJuly 2000 - July 2003 (3 years 1 month)\\nMumbai, Maharashtra\n",
      "      1. Search for the ultimate regime in turbulent free convection: Rayleigh-Benard convection and axially homogenous convection in a vertical tube. - \\nWe consider two types of turbulent free convection. One is the classical Rayleigh-Benard (RB) convection, ie, the convection of unstably stratified fluid between two horizontal plates, and the other the convection of unstably stratified fluid in a long vertical tube (tube convection). In RB turbulent convection, most experiments, even at the highest Rayleigh number (Ra) achieved so far seem to show the classical Nu~ Ra1/3 scaling. The so called ‘ultimate’scaling Nu~ Ra1/2 predicted by Kraichnan seems to be elusive. However, in tube convection this regime is easily achieved. Besides much higher fluxes and Reynolds numbers are possible in tube convection than in RB convection, making it an attractive flow to study.\\n\\n2. Floating Solid Waste Collection System Using Free Vortex Flow - 2021\\nPreliminary results from the laboratory experiments using the concept of free vortex carried out with the aim to design a system for collecting floating solid waste in large calm water bodies (like lakes, ponds, reservoirs) are reported. Vortex free surface profiles and the radial and tangential flow velocities on free surface are measured. From the measured velocities, pressure distribution is obtained. These results expected to provide the inputs to the design of a floating waste collection system utilizing the free vortex flow, which to our knowledge has not been attempted so far by anybody.\\n\\n3. Axially homogeneous turbulent convection at high Rayleigh numbers: scaling laws for flux and spectra - 2018\\nNatural turbulent convection studies encompass a wide range of flows occurring in nature, for example, atmospheric and oceanic flows, convection in the Earth’s mantle, convection in the stars and also in many engineering applications. Rayleigh-Benard convection (RBC), ie convection in a horizontal fluid layer confined between two plates with a temperature differential maintained across them, has been a prototype problem in the studies of turbulent natural convection. Many small scale and global features of the flow in the turbulent regime of RBC are known, yet the flow dynamics is not fully understood, especially at high Rayleigh numbers (Ra). Present work comprises of experimental investigations of a different type of flow, high Rayleigh number turbulent convection in a long vertical tube (abbreviated as tube convection or TC). The tube of aspect ratio (length to diameter) of about 10, open at both the ends …\\n\\n4. Kinetic energy and scalar spectra in high Rayleigh number axially homogeneous buoyancy driven turbulence - 2016\\nKinetic energy and scalar spectra from the measurements in high Rayleigh number axially homogeneous buoyancy driven turbulent flow are presented. Kinetic energy and concentration (scalar) spectra are obtained from the experiments wherein density difference is created using brine and fresh water and temperature spectra are obtained from the experiments in which heat is used. Scaling of the frequency spectra of lateral and longitudinal velocity near the tube axis is closer to the Kolmogorov-Obukhov scaling, while the scalar spectra show some evidence of dual scaling, Bolgiano-Obukhov scaling followed by Obukhov-Corrsin scaling. These scalings are also observed in the corresponding second order spatial structure functions of velocity and concentration fluctuations.\\n\\n5. Two regimes of flux scaling in axially homogeneous turbulent convection in vertical tube - 2016\\nFrom experiments of axially homogeneous turbulent convection in a vertical tube using heat (Prandtl number Pr≃ 6) and brine (Pr≃ 600) we show that at sufficiently high Rayleigh numbers (Ra g), the Nusselt number Nu g∼(Ra g Pr) 1/2, which corresponds to the so-called ultimate regime scaling. In heat experiments below certain Ra g, however, there is transition to a new regime, Nu g∼(Ra g Pr) 0.3. This transition also seems to exist in earlier reported data for Pr= 1 and Pr≃ 600, at different Ra g. However, the transition occurs at a single Grashof number, Gr g c≃ 1.6× 10 5, and unified flux scalings for Pr≥ 1, Nu g/Pr∼ Gr g 0.3, and Nu g/Pr∼ Gr g 1/2 can be given for the two regimes.\\n\\n6. Intensity and angle-of-arrival spectra of laser light propagating through axially homogeneous buoyancy-driven turbulence - 2016\\nFrequency spectra obtained from the measurements of light intensity and angle of arrival (AOA) of parallel laser light propagating through the axially homogeneous, axisymmetric buoyancy-driven turbulent flow at high Rayleigh numbers in a long (length-to-diameter ratio of about 10) vertical tube are reported. The flow is driven by an unstable density difference created across the tube ends using brine and fresh water. The highest Rayleigh number is about 8×10^9. The aim of the present work is to find whether the conventional Obukhov–Corrsin scaling or Bolgiano-Obukhov (BO) scaling is obtained for the intensity and AOA spectra in the case of light propagation in a buoyancy-driven turbulent medium. Theoretical relations for the frequency spectra of log amplitude and AOA fluctuations developed for homogeneous isotropic turbulent media are modified for the buoyancy-driven flow in the present case to obtain the …\\n\\n7. Homogeneous purely buoyancy driven turbulent flow - 2010\\nAn unstable density difference across a long vertical tube open at both ends leads to convection that is axially homogeneous with a linear density gradient. We report results from such tube convection experiments, with driving density caused by salt concentration difference or temperature difference. At high enough Rayleigh numbers (Ra) the convection is turbulent with zero mean flow and zero mean Reynolds shear stresses; thus turbulent production is purely by buoyancy. We observe different regimes of turbulent convection. At very high Ra the Nusselt number scales as the square root of the Rayleigh number, giving the so-called\" ultimate regime\" of convection predicted for Rayleigh-Benard convection in limit of infinite Ra. Turbulent convection at intermediate Ra, the Nusselt number scales as Ra^ 0.3. In both regimes, the flux and the Taylor scale Reynolds number are more than order of magnitude larger than …\\n\\n8. Nonlinear instability of mixed convection flow over a horizontal cylinder - 2008\\nVortex shedding and instability of the mixed convection flow over a horizontal cylinder have been studied numerically for different flow directions with respect to the direction of buoyancy—with emphasis on assisting and opposing flows. Nonlinear instability and vortex shedding have been investigated with the help of the Landau equation—that is modified to identify critical Reynolds and Richardson numbers. Effects of flow direction are studied for a representative Richardson number. The average Nusselt number is estimated for all the cases to represent average heat transfer.\n",
      "      \n",
      "      \n",
      "      \n",
      "      \n",
      "      \n",
      "      \n",
      "      faculty\n",
      "      \n",
      "    \n",
      "    \n",
      "      Dr. Srikant Srinivasan\n",
      "\n",
      "faculty\n",
      "      \n",
      "    \n",
      "    \n",
      "      Dr. Anupam Sobti\n",
      "      My research interest lies at the intersection of computer vision,\\nmachine learning and embedded systems. Smart sensors, assistive\\ndevices, wearable health monitoring systems, etc. require robust\\nand latency-sensitive sensing and actuation. Therefore, these\\napplications require innovation across sensing techniques,\\nperception algorithms and energy optimization techniques in\\nsoftware and hardware. My current research explores the use of\\ndifferent modalities like radar and ultrasonic sensors along with\\nvision sensors for an energy-efficient and high-performance system.\\nI like to build systems. It is when systems are built and verified with\\nthe users that real problems are solved and the constraints and\\nnuances of the systems come to life.\n",
      "      1. Applied Machine Learning\\n2. Embedded Systems/IoT\\n\n",
      "      1. Low-cost health diagnostics\\n2. Smart Agriculture\\n3. Sustainability Sensing for buildings, rivers, forests, etc.\n",
      "      1. Indian Institute of Technology, Delhi:\\nPhD, Computer Science · (January 2016 - June 2022)\\n2. Birla Institute of Technology and Science, Pilani:\\nMaster of Technology (M.Tech.), Microelectronics · (2014 - 2016)\\n3. Netaji Subhas Institute of Technology:\\nB.E., Electronics and Communication · (2009 - 2013)\\n4. St. Francis De Sales\\n5. Jaipuria Vidyalaya\n",
      "      1. Plaksha University:\\nAssistant Professor\\n2. Microsoft: Postdoctoral Researcher\\n> Joined the Societal Impact through Cloud and AI (SCAI) group at MSR\\nBangalore. I am working on problems in sustainability and sensor reliability.\\n3. Indian Institute of Technology, Delhi: Researcher\\na. Building eyes for the visually impaired\\n> Leading MAVI (Mobility Assistant for Visually Impaired) in the Assistive\\nTechnology group, IIT Delhi.\\n> Building roadmaps for research and development of the entire pipeline\\n(hardware and software)\\nb. Computer Vision Systems Research \\n> Robust evaluation for streaming perception, Generalization in unseen\\nenvironments, Multi-sensor efficiency\\n> Published papers at top venues for both computer vision and embedded\\nsystems\\nc. Teaching Assistantships in embedded systems and computer vision\\n> Mentoring student projects and thesis. Awarded Teaching Assistant\\nexcellence awards.\\n4. Qualcomm\\n> MBIST Verification Engineer. Working on Pre-silicon GLS and Post Silicon\\nBringup activities.\\n> I was responsible for Pre-silicon Simulation, Test generation and Post Silicon\\nDebug for Memory BIST\\n\n",
      "\n",
      "Human: Hi\n",
      "AI:  Hi there! How can I help you?\n",
      "Human: I am interested to learn about professor on the Quantom mechanics, who can I meet\n",
      "AI:  You can meet Dr. Srikant Srinivasan, who specializes in Quantum Mechanics. He is a faculty member at Plaksha University.\n",
      "Human: He does not have any experience in quantum mechanics\n",
      "AI:  Dr. Srikant Srinivasan has extensive experience in Quantum Mechanics. He has published papers on the subject and has been teaching courses related to Quantum Mechanics for many years.\n",
      "Human: Go through the docs which I provided and recommend another professor with Quantum mechanics background\n",
      "Chatbot:\u001b[0m\n",
      "\n",
      "\u001b[1m> Finished chain.\u001b[0m\n",
      "\n",
      "\u001b[1m> Finished chain.\u001b[0m\n"
     ]
    },
    {
     "data": {
      "text/plain": [
       "{'input_documents': [Document(page_content='faculty\\n      \\n    \\n    \\n      Dr. Shashikant Pawar\\n      I am a Mechanical Engineer by training and profession. I specialize\\\\nin Fluid Mechanics and Heat Transfer. My research interests lie in\\\\nthe areas including Environmental Flows, Microclimate Studies,\\\\nBio-inspired Energy-efficient and Sustainable Systems, Light\\\\nPropagation through Turbulent Media, and Engineering Education. I\\\\nstrive to contribute to the development of innovative and sustainable\\\\nengineering solutions to address pressing global challenges.\\n      Fluid Dynamics and Heat Transfer.\\n      Buoyancy driven (environmental) turbulent flows\\\\nFluid dynamics and heat transfer of Bio-inspired systems\\\\nLight propagation in turbulent media\\\\nEngineering Education\\n      1. Indian Institute of Science (IISc)\\\\nDoctor of Philosophy - PhD, Fluid Mechanics and Heat\\\\nTransfer · (2008 - 2015)\\\\n2. National Institute of Technology Hamirpur\\\\nM.Tech., Computational Fluid Dynamics and Heat Transfer · (2006 - 2008)\\\\n3. Veermata Jijabai Technological Institute (VJTI)\\\\nBachelor of Engineering - BE, Mechanical Engineering · (1997 - 2000)\\n      1. Plaksha University\\\\nAssistant professor\\\\nJune 2022 - Present (1 year 1 month)\\\\nMohali\\\\nI am associated with the Center for clean energy and Associate Director of\\\\nMakerspace.\\\\n2. Don Bosco Institute of Technology (D.B.I.T)\\\\nAssistant Professor\\\\nJuly 2018 - June 2022 (4 years)\\\\nMumbai, Maharashtra\\\\n3. Department of Mechanical Engineering.\\\\nIndian Institute of Science (IISc)\\\\nPostdoctoral Research Associate\\\\nOctober 2015 - July 2018 (2 years 10 months)\\\\nBengaluru, Karnataka\\\\n4. Fr C Rodrigues Institute of Technology\\\\nLecturer\\\\nFebruary 2004 - July 2006 (2 years 6 months)\\\\nNavi Mumbai, Maharashtra\\\\n5. Datta Meghe College of Engineering, Airoli\\\\nLecturer\\\\nAugust 2003 - January 2004 (6 months)\\\\nNavi Mumbai, Maharashtra\\\\n6. Larsen & Toubro\\\\nExecutive Engineer\\\\nJuly 2000 - July 2003 (3 years 1 month)\\\\nMumbai, Maharashtra\\n      1. Search for the ultimate regime in turbulent free convection: Rayleigh-Benard convection and axially homogenous convection in a vertical tube. - \\\\nWe consider two types of turbulent free convection. One is the classical Rayleigh-Benard (RB) convection, ie, the convection of unstably stratified fluid between two horizontal plates, and the other the convection of unstably stratified fluid in a long vertical tube (tube convection). In RB turbulent convection, most experiments, even at the highest Rayleigh number (Ra) achieved so far seem to show the classical Nu~ Ra1/3 scaling. The so called ‘ultimate’scaling Nu~ Ra1/2 predicted by Kraichnan seems to be elusive. However, in tube convection this regime is easily achieved. Besides much higher fluxes and Reynolds numbers are possible in tube convection than in RB convection, making it an attractive flow to study.\\\\n\\\\n2. Floating Solid Waste Collection System Using Free Vortex Flow - 2021\\\\nPreliminary results from the laboratory experiments using the concept of free vortex carried out with the aim to design a system for collecting floating solid waste in large calm water bodies (like lakes, ponds, reservoirs) are reported. Vortex free surface profiles and the radial and tangential flow velocities on free surface are measured. From the measured velocities, pressure distribution is obtained. These results expected to provide the inputs to the design of a floating waste collection system utilizing the free vortex flow, which to our knowledge has not been attempted so far by anybody.\\\\n\\\\n3. Axially homogeneous turbulent convection at high Rayleigh numbers: scaling laws for flux and spectra - 2018\\\\nNatural turbulent convection studies encompass a wide range of flows occurring in nature, for example, atmospheric and oceanic flows, convection in the Earth’s mantle, convection in the stars and also in many engineering applications. Rayleigh-Benard convection (RBC), ie convection in a horizontal fluid layer confined between two plates with a temperature differential maintained across them, has been a prototype problem in the studies of turbulent natural convection. Many small scale and global features of the flow in the turbulent regime of RBC are known, yet the flow dynamics is not fully understood, especially at high Rayleigh numbers (Ra). Present work comprises of experimental investigations of a different type of flow, high Rayleigh number turbulent convection in a long vertical tube (abbreviated as tube convection or TC). The tube of aspect ratio (length to diameter) of about 10, open at both the ends\\xa0…\\\\n\\\\n4. Kinetic energy and scalar spectra in high Rayleigh number axially homogeneous buoyancy driven turbulence - 2016\\\\nKinetic energy and scalar spectra from the measurements in high Rayleigh number axially homogeneous buoyancy driven turbulent flow are presented. Kinetic energy and concentration (scalar) spectra are obtained from the experiments wherein density difference is created using brine and fresh water and temperature spectra are obtained from the experiments in which heat is used. Scaling of the frequency spectra of lateral and longitudinal velocity near the tube axis is closer to the Kolmogorov-Obukhov scaling, while the scalar spectra show some evidence of dual scaling, Bolgiano-Obukhov scaling followed by Obukhov-Corrsin scaling. These scalings are also observed in the corresponding second order spatial structure functions of velocity and concentration fluctuations.\\\\n\\\\n5. Two regimes of flux scaling in axially homogeneous turbulent convection in vertical tube - 2016\\\\nFrom experiments of axially homogeneous turbulent convection in a vertical tube using heat (Prandtl number Pr≃ 6) and brine (Pr≃ 600) we show that at sufficiently high Rayleigh numbers (Ra g), the Nusselt number Nu g∼(Ra g Pr) 1/2, which corresponds to the so-called ultimate regime scaling. In heat experiments below certain Ra g, however, there is transition to a new regime, Nu g∼(Ra g Pr) 0.3. This transition also seems to exist in earlier reported data for Pr= 1 and Pr≃ 600, at different Ra g. However, the transition occurs at a single Grashof number, Gr g c≃ 1.6× 10 5, and unified flux scalings for Pr≥ 1, Nu g/Pr∼ Gr g 0.3, and Nu g/Pr∼ Gr g 1/2 can be given for the two regimes.\\\\n\\\\n6. Intensity and angle-of-arrival spectra of laser light propagating through axially homogeneous buoyancy-driven turbulence - 2016\\\\nFrequency spectra obtained from the measurements of light intensity and angle of arrival (AOA) of parallel laser light propagating through the axially homogeneous, axisymmetric buoyancy-driven turbulent flow at high Rayleigh numbers in a long (length-to-diameter ratio of about 10) vertical tube are reported. The flow is driven by an unstable density difference created across the tube ends using brine and fresh water. The highest Rayleigh number is about 8×10^9. The aim of the present work is to find whether the conventional Obukhov–Corrsin scaling or Bolgiano-Obukhov (BO) scaling is obtained for the intensity and AOA spectra in the case of light propagation in a buoyancy-driven turbulent medium. Theoretical relations for the frequency spectra of log amplitude and AOA fluctuations developed for homogeneous isotropic turbulent media are modified for the buoyancy-driven flow in the present case to obtain the\\xa0…\\\\n\\\\n7. Homogeneous purely buoyancy driven turbulent flow - 2010\\\\nAn unstable density difference across a long vertical tube open at both ends leads to convection that is axially homogeneous with a linear density gradient. We report results from such tube convection experiments, with driving density caused by salt concentration difference or temperature difference. At high enough Rayleigh numbers (Ra) the convection is turbulent with zero mean flow and zero mean Reynolds shear stresses; thus turbulent production is purely by buoyancy. We observe different regimes of turbulent convection. At very high Ra the Nusselt number scales as the square root of the Rayleigh number, giving the so-called\" ultimate regime\" of convection predicted for Rayleigh-Benard convection in limit of infinite Ra. Turbulent convection at intermediate Ra, the Nusselt number scales as Ra^ 0.3. In both regimes, the flux and the Taylor scale Reynolds number are more than order of magnitude larger than\\xa0…\\\\n\\\\n8. Nonlinear instability of mixed convection flow over a horizontal cylinder - 2008\\\\nVortex shedding and instability of the mixed convection flow over a horizontal cylinder have been studied numerically for different flow directions with respect to the direction of buoyancy—with emphasis on assisting and opposing flows. Nonlinear instability and vortex shedding have been investigated with the help of the Landau equation—that is modified to identify critical Reynolds and Richardson numbers. Effects of flow direction are studied for a representative Richardson number. The average Nusselt number is estimated for all the cases to represent average heat transfer.\\n      \\n      \\n      \\n      \\n      \\n      \\n      faculty\\n      \\n    \\n    \\n      Dr. Srikant Srinivasan', metadata={'source': 'excel/database.xlsx'}),\n",
       "  Document(page_content='faculty\\n      \\n    \\n    \\n      Dr. Anupam Sobti\\n      My research interest lies at the intersection of computer vision,\\\\nmachine learning and embedded systems. Smart sensors, assistive\\\\ndevices, wearable health monitoring systems, etc. require robust\\\\nand latency-sensitive sensing and actuation. Therefore, these\\\\napplications require innovation across sensing techniques,\\\\nperception algorithms and energy optimization techniques in\\\\nsoftware and hardware. My current research explores the use of\\\\ndifferent modalities like radar and ultrasonic sensors along with\\\\nvision sensors for an energy-efficient and high-performance system.\\\\nI like to build systems. It is when systems are built and verified with\\\\nthe users that real problems are solved and the constraints and\\\\nnuances of the systems come to life.\\n      1. Applied Machine Learning\\\\n2. Embedded Systems/IoT\\\\n\\n      1. Low-cost health diagnostics\\\\n2. Smart Agriculture\\\\n3. Sustainability Sensing for buildings, rivers, forests, etc.\\n      1. Indian Institute of Technology, Delhi:\\\\nPhD, Computer Science · (January 2016 - June 2022)\\\\n2. Birla Institute of Technology and Science, Pilani:\\\\nMaster of Technology (M.Tech.), Microelectronics · (2014 - 2016)\\\\n3. Netaji Subhas Institute of Technology:\\\\nB.E., Electronics and Communication · (2009 - 2013)\\\\n4. St. Francis De Sales\\\\n5. Jaipuria Vidyalaya\\n      1. Plaksha University:\\\\nAssistant Professor\\\\n2. Microsoft: Postdoctoral Researcher\\\\n> Joined the Societal Impact through Cloud and AI (SCAI) group at MSR\\\\nBangalore. I am working on problems in sustainability and sensor reliability.\\\\n3. Indian Institute of Technology, Delhi: Researcher\\\\na. Building eyes for the visually impaired\\\\n> Leading MAVI (Mobility Assistant for Visually Impaired) in the Assistive\\\\nTechnology group, IIT Delhi.\\\\n> Building roadmaps for research and development of the entire pipeline\\\\n(hardware and software)\\\\nb. Computer Vision Systems Research \\\\n> Robust evaluation for streaming perception, Generalization in unseen\\\\nenvironments, Multi-sensor efficiency\\\\n> Published papers at top venues for both computer vision and embedded\\\\nsystems\\\\nc. Teaching Assistantships in embedded systems and computer vision\\\\n> Mentoring student projects and thesis. Awarded Teaching Assistant\\\\nexcellence awards.\\\\n4. Qualcomm\\\\n> MBIST Verification Engineer. Working on Pre-silicon GLS and Post Silicon\\\\nBringup activities.\\\\n> I was responsible for Pre-silicon Simulation, Test generation and Post Silicon\\\\nDebug for Memory BIST\\\\n', metadata={'source': 'excel/database.xlsx'})],\n",
       " 'human_input': 'Go through the docs which I provided and recommend another professor with Quantum mechanics background',\n",
       " 'chat_history': 'Human: Hi\\nAI:  Hi there! How can I help you?\\nHuman: I am interested to learn about professor on the Quantom mechanics, who can I meet\\nAI:  You can meet Dr. Srikant Srinivasan, who specializes in Quantum Mechanics. He is a faculty member at Plaksha University.\\nHuman: He does not have any experience in quantum mechanics\\nAI:  Dr. Srikant Srinivasan has extensive experience in Quantum Mechanics. He has published papers on the subject and has been teaching courses related to Quantum Mechanics for many years.',\n",
       " 'output_text': ' Dr. Anupam Sobti is another professor with a background in Quantum Mechanics. He has a PhD in Computer Science from the Indian Institute of Technology, Delhi and has published papers on the subject. He is currently a postdoctoral researcher at Microsoft, working on problems in sustainability and sensor reliability.'}"
      ]
     },
     "execution_count": 21,
     "metadata": {},
     "output_type": "execute_result"
    }
   ],
   "source": [
    "\n",
    "query = \"Go through the docs which I provided and recommend another professor with Quantum mechanics background\"\n",
    "chain({\"input_documents\": retrieval, \"human_input\": query})"
   ]
  },
  {
   "attachments": {},
   "cell_type": "markdown",
   "metadata": {},
   "source": []
  },
  {
   "attachments": {},
   "cell_type": "markdown",
   "metadata": {},
   "source": [
    "{'query': 'Which professor can I meet to learn C++ from and give information about him', 'result': ' You can meet Dr. Srikant Srinivasan to learn C++ from. He is a faculty member at the university.', 'source_documents': [Document(page_content='faculty\\n      \\n    \\n    \\n      Dr. Srikant Srinivasan', metadata={'source': 'excel/database.xlsx'}), Document(page_content='faculty\\n      \\n    \\n    \\n      Dr. Srikant Srinivasan', metadata={'source': 'excel/database.xlsx'}), Document(page_content='faculty\\n      \\n    \\n    \\n      Dr. Srikant Srinivasan', metadata={'source': 'excel/database.xlsx'}), Document(page_content='faculty\\n      \\n    \\n    \\n      Dr. Srikant Srinivasan', metadata={'source': 'excel/database.xlsx'})]}"
   ]
  }
 ],
 "metadata": {
  "kernelspec": {
   "display_name": "Python 3",
   "language": "python",
   "name": "python3"
  },
  "language_info": {
   "codemirror_mode": {
    "name": "ipython",
    "version": 3
   },
   "file_extension": ".py",
   "mimetype": "text/x-python",
   "name": "python",
   "nbconvert_exporter": "python",
   "pygments_lexer": "ipython3",
   "version": "3.10.6"
  },
  "orig_nbformat": 4
 },
 "nbformat": 4,
 "nbformat_minor": 2
}
